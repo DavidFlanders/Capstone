{
 "cells": [
  {
   "cell_type": "code",
   "execution_count": 1,
   "metadata": {},
   "outputs": [],
   "source": [
    "import pandas as pd\n",
    "pd.set_option('display.max_columns', 25)\n",
    "df = pd.read_csv('C:\\Various Files\\DataScience\\ChicagoCrime\\Crimes_2001_to_2018_clean.csv' )\n",
    "\n",
    "df['Date'] = pd.to_datetime(df['Date'])\n",
    "df['Updated_On'] = pd.to_datetime(df['Updated_On'])"
   ]
  },
  {
   "cell_type": "markdown",
   "metadata": {},
   "source": [
    "####\n",
    "\n",
    "- I found Education 2006-2010 census data for Chicago, and would like to explore the relationships between eduction and the number of crime cases by community areas. We can do the same analysis for other census data such as family income once we find the available data.\n",
    "- Just use the crime cases in 2010 for this analysis because of the education data"
   ]
  },
  {
   "cell_type": "code",
   "execution_count": 2,
   "metadata": {},
   "outputs": [],
   "source": [
    "# upload the data for Chicago - Eductation 2006-2010\n",
    "edu_df = pd.read_csv('C:\\Various Files\\DataScience\\ChicagoCrime\\Education by Race by Census Tract and Community Area-2006-2010.csv' )"
   ]
  },
  {
   "cell_type": "code",
   "execution_count": 3,
   "metadata": {},
   "outputs": [
    {
     "data": {
      "text/plain": [
       "(889, 34)"
      ]
     },
     "execution_count": 3,
     "metadata": {},
     "output_type": "execute_result"
    }
   ],
   "source": [
    "edu_df.shape"
   ]
  },
  {
   "cell_type": "code",
   "execution_count": 4,
   "metadata": {},
   "outputs": [],
   "source": [
    "edu_clean_df = (edu_df[edu_df['SUMLEV'] == 70.0])[['CHGOCA', 'B1502040', 'B1502041','B1502042', 'B1502043', 'B1502044']]\n",
    "edu_clean_df.rename(columns = {'CHGOCA':'Community_Area', 'B1502040':'Total_25', 'B1502041':'Not_HS','B1502042':'HS', 'B1502043':'AS', 'B1502044':'BS'}, inplace=True) "
   ]
  },
  {
   "cell_type": "code",
   "execution_count": 5,
   "metadata": {},
   "outputs": [],
   "source": [
    "import numpy as np\n",
    "edu_clean_df['Community_Area'] = edu_clean_df['Community_Area'].astype(np.int64)\n",
    "edu_clean_df['Total_25'] = edu_clean_df['Total_25'].astype(np.int64)\n",
    "edu_clean_df['Not_HS'] = edu_clean_df['Not_HS'].astype(np.int64)\n",
    "edu_clean_df['HS'] = edu_clean_df['HS'].astype(np.int64)\n",
    "edu_clean_df['AS'] = edu_clean_df['AS'].astype(np.int64)\n",
    "edu_clean_df['BS'] = edu_clean_df['BS'].astype(np.int64)"
   ]
  },
  {
   "cell_type": "code",
   "execution_count": 6,
   "metadata": {},
   "outputs": [],
   "source": [
    "edu_clean_df['HS_%'] = (edu_clean_df['HS'] + edu_clean_df['AS'] + edu_clean_df['BS'])/edu_clean_df['Total_25'] # HS and above\n",
    "edu_clean_df['BS_%'] = edu_clean_df['BS']/edu_clean_df['Total_25'] # BS and above"
   ]
  },
  {
   "cell_type": "code",
   "execution_count": 7,
   "metadata": {},
   "outputs": [
    {
     "data": {
      "text/plain": [
       "(77, 8)"
      ]
     },
     "execution_count": 7,
     "metadata": {},
     "output_type": "execute_result"
    }
   ],
   "source": [
    "edu_clean_df.shape"
   ]
  },
  {
   "cell_type": "code",
   "execution_count": 8,
   "metadata": {},
   "outputs": [],
   "source": [
    "case_df1 = df[df['Date'].dt.year == 2010]['ID'].groupby(df['Community_Area']).count()\n",
    "case_df2 = case_df1.reset_index()\n",
    "case_df2.rename(columns={'ID':'Crime_Number'}, inplace = True)"
   ]
  },
  {
   "cell_type": "code",
   "execution_count": 9,
   "metadata": {},
   "outputs": [
    {
     "data": {
      "text/html": [
       "<div>\n",
       "<style scoped>\n",
       "    .dataframe tbody tr th:only-of-type {\n",
       "        vertical-align: middle;\n",
       "    }\n",
       "\n",
       "    .dataframe tbody tr th {\n",
       "        vertical-align: top;\n",
       "    }\n",
       "\n",
       "    .dataframe thead th {\n",
       "        text-align: right;\n",
       "    }\n",
       "</style>\n",
       "<table border=\"1\" class=\"dataframe\">\n",
       "  <thead>\n",
       "    <tr style=\"text-align: right;\">\n",
       "      <th></th>\n",
       "      <th>Community_Area</th>\n",
       "      <th>Total_25</th>\n",
       "      <th>Not_HS</th>\n",
       "      <th>HS</th>\n",
       "      <th>AS</th>\n",
       "      <th>BS</th>\n",
       "      <th>HS_%</th>\n",
       "      <th>BS_%</th>\n",
       "      <th>Crime_Number</th>\n",
       "      <th>Crime_over_Population_Aged25</th>\n",
       "    </tr>\n",
       "  </thead>\n",
       "  <tbody>\n",
       "    <tr>\n",
       "      <th>0</th>\n",
       "      <td>1</td>\n",
       "      <td>36400</td>\n",
       "      <td>6572</td>\n",
       "      <td>6482</td>\n",
       "      <td>9167</td>\n",
       "      <td>14179</td>\n",
       "      <td>0.819451</td>\n",
       "      <td>0.389533</td>\n",
       "      <td>5571</td>\n",
       "      <td>0.153049</td>\n",
       "    </tr>\n",
       "    <tr>\n",
       "      <th>1</th>\n",
       "      <td>2</td>\n",
       "      <td>46697</td>\n",
       "      <td>9159</td>\n",
       "      <td>10340</td>\n",
       "      <td>10790</td>\n",
       "      <td>16408</td>\n",
       "      <td>0.803863</td>\n",
       "      <td>0.351372</td>\n",
       "      <td>4879</td>\n",
       "      <td>0.104482</td>\n",
       "    </tr>\n",
       "    <tr>\n",
       "      <th>2</th>\n",
       "      <td>3</td>\n",
       "      <td>44170</td>\n",
       "      <td>5999</td>\n",
       "      <td>8255</td>\n",
       "      <td>8227</td>\n",
       "      <td>21689</td>\n",
       "      <td>0.864184</td>\n",
       "      <td>0.491035</td>\n",
       "      <td>5069</td>\n",
       "      <td>0.114761</td>\n",
       "    </tr>\n",
       "    <tr>\n",
       "      <th>3</th>\n",
       "      <td>4</td>\n",
       "      <td>29213</td>\n",
       "      <td>3638</td>\n",
       "      <td>4439</td>\n",
       "      <td>5411</td>\n",
       "      <td>15725</td>\n",
       "      <td>0.875466</td>\n",
       "      <td>0.538288</td>\n",
       "      <td>2559</td>\n",
       "      <td>0.087598</td>\n",
       "    </tr>\n",
       "    <tr>\n",
       "      <th>4</th>\n",
       "      <td>5</td>\n",
       "      <td>24851</td>\n",
       "      <td>1335</td>\n",
       "      <td>3343</td>\n",
       "      <td>3705</td>\n",
       "      <td>16468</td>\n",
       "      <td>0.946280</td>\n",
       "      <td>0.662670</td>\n",
       "      <td>2061</td>\n",
       "      <td>0.082934</td>\n",
       "    </tr>\n",
       "  </tbody>\n",
       "</table>\n",
       "</div>"
      ],
      "text/plain": [
       "   Community_Area  Total_25  Not_HS     HS     AS     BS      HS_%      BS_%  \\\n",
       "0               1     36400    6572   6482   9167  14179  0.819451  0.389533   \n",
       "1               2     46697    9159  10340  10790  16408  0.803863  0.351372   \n",
       "2               3     44170    5999   8255   8227  21689  0.864184  0.491035   \n",
       "3               4     29213    3638   4439   5411  15725  0.875466  0.538288   \n",
       "4               5     24851    1335   3343   3705  16468  0.946280  0.662670   \n",
       "\n",
       "   Crime_Number  Crime_over_Population_Aged25  \n",
       "0          5571                      0.153049  \n",
       "1          4879                      0.104482  \n",
       "2          5069                      0.114761  \n",
       "3          2559                      0.087598  \n",
       "4          2061                      0.082934  "
      ]
     },
     "execution_count": 9,
     "metadata": {},
     "output_type": "execute_result"
    }
   ],
   "source": [
    "merged_df = pd.merge(edu_clean_df, case_df2, on='Community_Area', how='inner')\n",
    "merged_df['Crime_over_Population_Aged25'] = merged_df['Crime_Number']/merged_df['Total_25']\n",
    "merged_df.head()"
   ]
  },
  {
   "cell_type": "code",
   "execution_count": 11,
   "metadata": {
    "scrolled": true
   },
   "outputs": [
    {
     "data": {
      "image/png": "[encoded data removed]",
      "text/plain": [
       "<Figure size 432x288 with 1 Axes>"
      ]
     },
     "metadata": {},
     "output_type": "display_data"
    }
   ],
   "source": [
    "import matplotlib.pyplot as plt\n",
    "\n",
    "_ = plt.plot(merged_df['HS_%'], merged_df['Crime_over_Population_Aged25'], marker = '.', linestyle='none' )\n",
    "\n",
    "_ = plt.xlabel('High School and Above Percentage')\n",
    "_ = plt.ylabel('Crime Case Percentage')\n",
    "\n",
    "plt.show() # each dot represents a community"
   ]
  },
  {
   "cell_type": "code",
   "execution_count": 12,
   "metadata": {},
   "outputs": [
    {
     "name": "stdout",
     "output_type": "stream",
     "text": [
      "The Pearson correlation cofficient =  -0.19429691176474526\n"
     ]
    }
   ],
   "source": [
    "def pearson_r(data1, data2):\n",
    "    corr_coff = np.corrcoef(data1, data2)\n",
    "    return corr_coff[0, 1]\n",
    "\n",
    "print ( \"The Pearson correlation cofficient = \", pearson_r(merged_df['HS_%'], merged_df['Crime_over_Population_Aged25']))"
   ]
  },
  {
   "cell_type": "code",
   "execution_count": 13,
   "metadata": {},
   "outputs": [
    {
     "data": {
      "image/png": "[encoded data removed]",
      "text/plain": [
       "<Figure size 432x288 with 1 Axes>"
      ]
     },
     "metadata": {},
     "output_type": "display_data"
    }
   ],
   "source": [
    "_ = plt.plot(merged_df['BS_%'], merged_df['Crime_over_Population_Aged25'], marker = '.', linestyle='none' )\n",
    "\n",
    "_ = plt.xlabel('Bachelor Degree and Above Percentage')\n",
    "_ = plt.ylabel('Crime Case Percentage')\n",
    "\n",
    "plt.show() # each dot represents a community"
   ]
  },
  {
   "cell_type": "code",
   "execution_count": 14,
   "metadata": {},
   "outputs": [
    {
     "name": "stdout",
     "output_type": "stream",
     "text": [
      "The Pearson correlation cofficient =  -0.3607293392253101\n"
     ]
    }
   ],
   "source": [
    "print ( \"The Pearson correlation cofficient = \", pearson_r(merged_df['BS_%'], merged_df['Crime_over_Population_Aged25']))"
   ]
  },
  {
   "cell_type": "markdown",
   "metadata": {},
   "source": [
    "####\n",
    "\n",
    "- the Pearson correlation coefficient between the percentage of people over 25 years old having high school degrees or above and the percentage of the number of crime cases over total 25 years old for a Community Area is - 0.194. There is negative correlation between them.\n",
    "- the Pearson correlation coefficient between the percentage of people over 25 years old having Bachelor degrees or above and the percentage of the number of crime cases over total 25 years old for a Community Area is - 0.361. There is stronger negative correlation between them.\n",
    "- It seems that the education plays an important role in the number of crime cases."
   ]
  }
 ],
 "metadata": {
  "kernelspec": {
   "display_name": "Python 3",
   "language": "python",
   "name": "python3"
  },
  "language_info": {
   "codemirror_mode": {
    "name": "ipython",
    "version": 3
   },
   "file_extension": ".py",
   "mimetype": "text/x-python",
   "name": "python",
   "nbconvert_exporter": "python",
   "pygments_lexer": "ipython3",
   "version": "3.6.5"
  }
 },
 "nbformat": 4,
 "nbformat_minor": 2
}
