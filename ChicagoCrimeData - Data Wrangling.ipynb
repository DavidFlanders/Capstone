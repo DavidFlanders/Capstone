{
 "cells": [
  {
   "cell_type": "code",
   "execution_count": 1,
   "metadata": {},
   "outputs": [
    {
     "name": "stdout",
     "output_type": "stream",
     "text": [
      "         ID Case Number                    Date                   Block  IUCR  \\\n",
      "0  10000092    HY189866  03/18/2015 07:44:00 PM         047XX W OHIO ST  041A   \n",
      "1  10000094    HY190059  03/18/2015 11:00:00 PM  066XX S MARSHFIELD AVE  4625   \n",
      "2  10000095    HY190052  03/18/2015 10:45:00 PM   044XX S LAKE PARK AVE  0486   \n",
      "3  10000096    HY190054  03/18/2015 10:30:00 PM    051XX S MICHIGAN AVE  0460   \n",
      "4  10000097    HY189976  03/18/2015 09:00:00 PM        047XX W ADAMS ST  031A   \n",
      "\n",
      "    Primary Type              Description Location Description  Arrest  \\\n",
      "0        BATTERY      AGGRAVATED: HANDGUN               STREET   False   \n",
      "1  OTHER OFFENSE         PAROLE VIOLATION               STREET    True   \n",
      "2        BATTERY  DOMESTIC BATTERY SIMPLE            APARTMENT   False   \n",
      "3        BATTERY                   SIMPLE            APARTMENT   False   \n",
      "4        ROBBERY           ARMED: HANDGUN             SIDEWALK   False   \n",
      "\n",
      "   Domestic  Beat  District  Ward  Community Area FBI Code  X Coordinate  \\\n",
      "0     False  1111      11.0  28.0            25.0      04B     1144606.0   \n",
      "1     False   725       7.0  15.0            67.0       26     1166468.0   \n",
      "2      True   222       2.0   4.0            39.0      08B     1185075.0   \n",
      "3     False   225       2.0   3.0            40.0      08B     1178033.0   \n",
      "4     False  1113      11.0  28.0            25.0       03     1144920.0   \n",
      "\n",
      "   Y Coordinate  Year              Updated On   Latitude  Longitude  \\\n",
      "0     1903566.0  2015  02/10/2018 03:50:01 PM  41.891399 -87.744385   \n",
      "1     1860715.0  2015  02/10/2018 03:50:01 PM  41.773372 -87.665319   \n",
      "2     1875622.0  2015  02/10/2018 03:50:01 PM  41.813861 -87.596643   \n",
      "3     1870804.0  2015  02/10/2018 03:50:01 PM  41.800802 -87.622619   \n",
      "4     1898709.0  2015  02/10/2018 03:50:01 PM  41.878065 -87.743354   \n",
      "\n",
      "                        Location  \n",
      "0  (41.891398861, -87.744384567)  \n",
      "1  (41.773371528, -87.665319468)  \n",
      "2   (41.81386068, -87.596642837)  \n",
      "3  (41.800802415, -87.622619343)  \n",
      "4  (41.878064761, -87.743354013)  \n"
     ]
    }
   ],
   "source": [
    "import pandas as pd\n",
    "pd.set_option('display.max_columns', 50)\n",
    "df = pd.read_csv('C:\\Various Files\\DataScience\\ChicagoCrime\\Crimes_-_2001_to_present.csv' ) # sep = ',', header=None, names=col_names)\n",
    "print (df.head(5))"
   ]
  },
  {
   "cell_type": "code",
   "execution_count": 2,
   "metadata": {},
   "outputs": [
    {
     "data": {
      "text/html": [
       "<div>\n",
       "<style scoped>\n",
       "    .dataframe tbody tr th:only-of-type {\n",
       "        vertical-align: middle;\n",
       "    }\n",
       "\n",
       "    .dataframe tbody tr th {\n",
       "        vertical-align: top;\n",
       "    }\n",
       "\n",
       "    .dataframe thead th {\n",
       "        text-align: right;\n",
       "    }\n",
       "</style>\n",
       "<table border=\"1\" class=\"dataframe\">\n",
       "  <thead>\n",
       "    <tr style=\"text-align: right;\">\n",
       "      <th></th>\n",
       "      <th>ID</th>\n",
       "      <th>Case Number</th>\n",
       "      <th>Date</th>\n",
       "      <th>Block</th>\n",
       "      <th>IUCR</th>\n",
       "      <th>Primary Type</th>\n",
       "      <th>Description</th>\n",
       "      <th>Location Description</th>\n",
       "      <th>Arrest</th>\n",
       "      <th>Domestic</th>\n",
       "      <th>Beat</th>\n",
       "      <th>District</th>\n",
       "      <th>Ward</th>\n",
       "      <th>Community Area</th>\n",
       "      <th>FBI Code</th>\n",
       "      <th>X Coordinate</th>\n",
       "      <th>Y Coordinate</th>\n",
       "      <th>Year</th>\n",
       "      <th>Updated On</th>\n",
       "      <th>Latitude</th>\n",
       "      <th>Longitude</th>\n",
       "      <th>Location</th>\n",
       "    </tr>\n",
       "  </thead>\n",
       "  <tbody>\n",
       "    <tr>\n",
       "      <th>6677372</th>\n",
       "      <td>11418406</td>\n",
       "      <td>JB399056</td>\n",
       "      <td>08/12/2018 04:45:00 PM</td>\n",
       "      <td>0000X W 79TH ST</td>\n",
       "      <td>0460</td>\n",
       "      <td>BATTERY</td>\n",
       "      <td>SIMPLE</td>\n",
       "      <td>CTA TRAIN</td>\n",
       "      <td>False</td>\n",
       "      <td>False</td>\n",
       "      <td>623</td>\n",
       "      <td>6.0</td>\n",
       "      <td>6.0</td>\n",
       "      <td>44.0</td>\n",
       "      <td>08B</td>\n",
       "      <td>NaN</td>\n",
       "      <td>NaN</td>\n",
       "      <td>2018</td>\n",
       "      <td>08/19/2018 04:03:34 PM</td>\n",
       "      <td>NaN</td>\n",
       "      <td>NaN</td>\n",
       "      <td>NaN</td>\n",
       "    </tr>\n",
       "    <tr>\n",
       "      <th>6677373</th>\n",
       "      <td>11418418</td>\n",
       "      <td>JB398686</td>\n",
       "      <td>06/12/2018 06:30:00 AM</td>\n",
       "      <td>043XX N CENTRAL AVE</td>\n",
       "      <td>5002</td>\n",
       "      <td>OTHER OFFENSE</td>\n",
       "      <td>OTHER VEHICLE OFFENSE</td>\n",
       "      <td>STREET</td>\n",
       "      <td>False</td>\n",
       "      <td>False</td>\n",
       "      <td>1624</td>\n",
       "      <td>16.0</td>\n",
       "      <td>38.0</td>\n",
       "      <td>15.0</td>\n",
       "      <td>26</td>\n",
       "      <td>NaN</td>\n",
       "      <td>NaN</td>\n",
       "      <td>2018</td>\n",
       "      <td>08/19/2018 04:03:34 PM</td>\n",
       "      <td>NaN</td>\n",
       "      <td>NaN</td>\n",
       "      <td>NaN</td>\n",
       "    </tr>\n",
       "    <tr>\n",
       "      <th>6677374</th>\n",
       "      <td>11418425</td>\n",
       "      <td>JB398835</td>\n",
       "      <td>07/01/2018 12:00:00 AM</td>\n",
       "      <td>040XX W IRVING PARK RD</td>\n",
       "      <td>1153</td>\n",
       "      <td>DECEPTIVE PRACTICE</td>\n",
       "      <td>FINANCIAL IDENTITY THEFT OVER $ 300</td>\n",
       "      <td>OTHER</td>\n",
       "      <td>False</td>\n",
       "      <td>False</td>\n",
       "      <td>1722</td>\n",
       "      <td>17.0</td>\n",
       "      <td>39.0</td>\n",
       "      <td>16.0</td>\n",
       "      <td>11</td>\n",
       "      <td>NaN</td>\n",
       "      <td>NaN</td>\n",
       "      <td>2018</td>\n",
       "      <td>08/19/2018 04:03:34 PM</td>\n",
       "      <td>NaN</td>\n",
       "      <td>NaN</td>\n",
       "      <td>NaN</td>\n",
       "    </tr>\n",
       "    <tr>\n",
       "      <th>6677375</th>\n",
       "      <td>11418429</td>\n",
       "      <td>JB398733</td>\n",
       "      <td>07/30/2018 12:25:00 PM</td>\n",
       "      <td>052XX N SHERIDAN RD</td>\n",
       "      <td>0890</td>\n",
       "      <td>THEFT</td>\n",
       "      <td>FROM BUILDING</td>\n",
       "      <td>APARTMENT</td>\n",
       "      <td>False</td>\n",
       "      <td>False</td>\n",
       "      <td>2023</td>\n",
       "      <td>20.0</td>\n",
       "      <td>48.0</td>\n",
       "      <td>77.0</td>\n",
       "      <td>06</td>\n",
       "      <td>NaN</td>\n",
       "      <td>NaN</td>\n",
       "      <td>2018</td>\n",
       "      <td>08/19/2018 04:03:34 PM</td>\n",
       "      <td>NaN</td>\n",
       "      <td>NaN</td>\n",
       "      <td>NaN</td>\n",
       "    </tr>\n",
       "    <tr>\n",
       "      <th>6677376</th>\n",
       "      <td>11418433</td>\n",
       "      <td>JB398729</td>\n",
       "      <td>08/10/2018 11:45:00 AM</td>\n",
       "      <td>013XX W CARMEN AVE</td>\n",
       "      <td>0890</td>\n",
       "      <td>THEFT</td>\n",
       "      <td>FROM BUILDING</td>\n",
       "      <td>APARTMENT</td>\n",
       "      <td>False</td>\n",
       "      <td>False</td>\n",
       "      <td>2033</td>\n",
       "      <td>20.0</td>\n",
       "      <td>46.0</td>\n",
       "      <td>3.0</td>\n",
       "      <td>06</td>\n",
       "      <td>NaN</td>\n",
       "      <td>NaN</td>\n",
       "      <td>2018</td>\n",
       "      <td>08/19/2018 04:03:34 PM</td>\n",
       "      <td>NaN</td>\n",
       "      <td>NaN</td>\n",
       "      <td>NaN</td>\n",
       "    </tr>\n",
       "  </tbody>\n",
       "</table>\n",
       "</div>"
      ],
      "text/plain": [
       "               ID Case Number                    Date                   Block  \\\n",
       "6677372  11418406    JB399056  08/12/2018 04:45:00 PM         0000X W 79TH ST   \n",
       "6677373  11418418    JB398686  06/12/2018 06:30:00 AM     043XX N CENTRAL AVE   \n",
       "6677374  11418425    JB398835  07/01/2018 12:00:00 AM  040XX W IRVING PARK RD   \n",
       "6677375  11418429    JB398733  07/30/2018 12:25:00 PM     052XX N SHERIDAN RD   \n",
       "6677376  11418433    JB398729  08/10/2018 11:45:00 AM      013XX W CARMEN AVE   \n",
       "\n",
       "         IUCR        Primary Type                          Description  \\\n",
       "6677372  0460             BATTERY                               SIMPLE   \n",
       "6677373  5002       OTHER OFFENSE                OTHER VEHICLE OFFENSE   \n",
       "6677374  1153  DECEPTIVE PRACTICE  FINANCIAL IDENTITY THEFT OVER $ 300   \n",
       "6677375  0890               THEFT                        FROM BUILDING   \n",
       "6677376  0890               THEFT                        FROM BUILDING   \n",
       "\n",
       "        Location Description  Arrest  Domestic  Beat  District  Ward  \\\n",
       "6677372            CTA TRAIN   False     False   623       6.0   6.0   \n",
       "6677373               STREET   False     False  1624      16.0  38.0   \n",
       "6677374                OTHER   False     False  1722      17.0  39.0   \n",
       "6677375            APARTMENT   False     False  2023      20.0  48.0   \n",
       "6677376            APARTMENT   False     False  2033      20.0  46.0   \n",
       "\n",
       "         Community Area FBI Code  X Coordinate  Y Coordinate  Year  \\\n",
       "6677372            44.0      08B           NaN           NaN  2018   \n",
       "6677373            15.0       26           NaN           NaN  2018   \n",
       "6677374            16.0       11           NaN           NaN  2018   \n",
       "6677375            77.0       06           NaN           NaN  2018   \n",
       "6677376             3.0       06           NaN           NaN  2018   \n",
       "\n",
       "                     Updated On  Latitude  Longitude Location  \n",
       "6677372  08/19/2018 04:03:34 PM       NaN        NaN      NaN  \n",
       "6677373  08/19/2018 04:03:34 PM       NaN        NaN      NaN  \n",
       "6677374  08/19/2018 04:03:34 PM       NaN        NaN      NaN  \n",
       "6677375  08/19/2018 04:03:34 PM       NaN        NaN      NaN  \n",
       "6677376  08/19/2018 04:03:34 PM       NaN        NaN      NaN  "
      ]
     },
     "execution_count": 2,
     "metadata": {},
     "output_type": "execute_result"
    }
   ],
   "source": [
    "df.tail(5)"
   ]
  },
  {
   "cell_type": "code",
   "execution_count": 3,
   "metadata": {},
   "outputs": [
    {
     "data": {
      "text/plain": [
       "(6677377, 22)"
      ]
     },
     "execution_count": 3,
     "metadata": {},
     "output_type": "execute_result"
    }
   ],
   "source": [
    "df.shape"
   ]
  },
  {
   "cell_type": "code",
   "execution_count": 4,
   "metadata": {
    "scrolled": false
   },
   "outputs": [
    {
     "name": "stdout",
     "output_type": "stream",
     "text": [
      "<class 'pandas.core.frame.DataFrame'>\n",
      "RangeIndex: 6677377 entries, 0 to 6677376\n",
      "Data columns (total 22 columns):\n",
      "ID                      6677377 non-null int64\n",
      "Case Number             6677372 non-null object\n",
      "Date                    6677377 non-null object\n",
      "Block                   6677377 non-null object\n",
      "IUCR                    6677377 non-null object\n",
      "Primary Type            6677377 non-null object\n",
      "Description             6677377 non-null object\n",
      "Location Description    6673617 non-null object\n",
      "Arrest                  6677377 non-null bool\n",
      "Domestic                6677377 non-null bool\n",
      "Beat                    6677377 non-null int64\n",
      "District                6677330 non-null float64\n",
      "Ward                    6062523 non-null float64\n",
      "Community Area          6061348 non-null float64\n",
      "FBI Code                6677377 non-null object\n",
      "X Coordinate            6618066 non-null float64\n",
      "Y Coordinate            6618066 non-null float64\n",
      "Year                    6677377 non-null int64\n",
      "Updated On              6677377 non-null object\n",
      "Latitude                6618066 non-null float64\n",
      "Longitude               6618066 non-null float64\n",
      "Location                6618066 non-null object\n",
      "dtypes: bool(2), float64(7), int64(3), object(10)\n",
      "memory usage: 1.0+ GB\n"
     ]
    }
   ],
   "source": [
    "df.info(null_counts=True)"
   ]
  },
  {
   "cell_type": "code",
   "execution_count": 5,
   "metadata": {},
   "outputs": [
    {
     "data": {
      "text/html": [
       "<div>\n",
       "<style scoped>\n",
       "    .dataframe tbody tr th:only-of-type {\n",
       "        vertical-align: middle;\n",
       "    }\n",
       "\n",
       "    .dataframe tbody tr th {\n",
       "        vertical-align: top;\n",
       "    }\n",
       "\n",
       "    .dataframe thead th {\n",
       "        text-align: right;\n",
       "    }\n",
       "</style>\n",
       "<table border=\"1\" class=\"dataframe\">\n",
       "  <thead>\n",
       "    <tr style=\"text-align: right;\">\n",
       "      <th></th>\n",
       "      <th>ID</th>\n",
       "      <th>Beat</th>\n",
       "      <th>District</th>\n",
       "      <th>Ward</th>\n",
       "      <th>Community Area</th>\n",
       "      <th>X Coordinate</th>\n",
       "      <th>Y Coordinate</th>\n",
       "      <th>Year</th>\n",
       "      <th>Latitude</th>\n",
       "      <th>Longitude</th>\n",
       "    </tr>\n",
       "  </thead>\n",
       "  <tbody>\n",
       "    <tr>\n",
       "      <th>count</th>\n",
       "      <td>6.677377e+06</td>\n",
       "      <td>6.677377e+06</td>\n",
       "      <td>6.677330e+06</td>\n",
       "      <td>6.062523e+06</td>\n",
       "      <td>6.061348e+06</td>\n",
       "      <td>6.618066e+06</td>\n",
       "      <td>6.618066e+06</td>\n",
       "      <td>6.677377e+06</td>\n",
       "      <td>6.618066e+06</td>\n",
       "      <td>6.618066e+06</td>\n",
       "    </tr>\n",
       "    <tr>\n",
       "      <th>mean</th>\n",
       "      <td>6.170462e+06</td>\n",
       "      <td>1.192403e+03</td>\n",
       "      <td>1.130335e+01</td>\n",
       "      <td>2.266603e+01</td>\n",
       "      <td>3.759804e+01</td>\n",
       "      <td>1.164509e+06</td>\n",
       "      <td>1.885698e+06</td>\n",
       "      <td>2.008219e+03</td>\n",
       "      <td>4.184195e+01</td>\n",
       "      <td>-8.767183e+01</td>\n",
       "    </tr>\n",
       "    <tr>\n",
       "      <th>std</th>\n",
       "      <td>3.006995e+06</td>\n",
       "      <td>7.035148e+02</td>\n",
       "      <td>6.946199e+00</td>\n",
       "      <td>1.382800e+01</td>\n",
       "      <td>2.153182e+01</td>\n",
       "      <td>1.718741e+04</td>\n",
       "      <td>3.273292e+04</td>\n",
       "      <td>4.934995e+00</td>\n",
       "      <td>9.007352e-02</td>\n",
       "      <td>6.219261e-02</td>\n",
       "    </tr>\n",
       "    <tr>\n",
       "      <th>min</th>\n",
       "      <td>6.340000e+02</td>\n",
       "      <td>1.110000e+02</td>\n",
       "      <td>1.000000e+00</td>\n",
       "      <td>1.000000e+00</td>\n",
       "      <td>0.000000e+00</td>\n",
       "      <td>0.000000e+00</td>\n",
       "      <td>0.000000e+00</td>\n",
       "      <td>2.001000e+03</td>\n",
       "      <td>3.661945e+01</td>\n",
       "      <td>-9.168657e+01</td>\n",
       "    </tr>\n",
       "    <tr>\n",
       "      <th>25%</th>\n",
       "      <td>3.404490e+06</td>\n",
       "      <td>6.220000e+02</td>\n",
       "      <td>6.000000e+00</td>\n",
       "      <td>1.000000e+01</td>\n",
       "      <td>2.300000e+01</td>\n",
       "      <td>1.152932e+06</td>\n",
       "      <td>1.859175e+06</td>\n",
       "      <td>2.004000e+03</td>\n",
       "      <td>4.176889e+01</td>\n",
       "      <td>-8.771390e+01</td>\n",
       "    </tr>\n",
       "    <tr>\n",
       "      <th>50%</th>\n",
       "      <td>6.155361e+06</td>\n",
       "      <td>1.111000e+03</td>\n",
       "      <td>1.000000e+01</td>\n",
       "      <td>2.200000e+01</td>\n",
       "      <td>3.200000e+01</td>\n",
       "      <td>1.165974e+06</td>\n",
       "      <td>1.890501e+06</td>\n",
       "      <td>2.008000e+03</td>\n",
       "      <td>4.185507e+01</td>\n",
       "      <td>-8.766622e+01</td>\n",
       "    </tr>\n",
       "    <tr>\n",
       "      <th>75%</th>\n",
       "      <td>8.761807e+06</td>\n",
       "      <td>1.731000e+03</td>\n",
       "      <td>1.700000e+01</td>\n",
       "      <td>3.400000e+01</td>\n",
       "      <td>5.800000e+01</td>\n",
       "      <td>1.176352e+06</td>\n",
       "      <td>1.909317e+06</td>\n",
       "      <td>2.012000e+03</td>\n",
       "      <td>4.190687e+01</td>\n",
       "      <td>-8.762840e+01</td>\n",
       "    </tr>\n",
       "    <tr>\n",
       "      <th>max</th>\n",
       "      <td>1.141892e+07</td>\n",
       "      <td>2.535000e+03</td>\n",
       "      <td>3.100000e+01</td>\n",
       "      <td>5.000000e+01</td>\n",
       "      <td>7.700000e+01</td>\n",
       "      <td>1.205119e+06</td>\n",
       "      <td>1.951622e+06</td>\n",
       "      <td>2.018000e+03</td>\n",
       "      <td>4.202291e+01</td>\n",
       "      <td>-8.752453e+01</td>\n",
       "    </tr>\n",
       "  </tbody>\n",
       "</table>\n",
       "</div>"
      ],
      "text/plain": [
       "                 ID          Beat      District          Ward  Community Area  \\\n",
       "count  6.677377e+06  6.677377e+06  6.677330e+06  6.062523e+06    6.061348e+06   \n",
       "mean   6.170462e+06  1.192403e+03  1.130335e+01  2.266603e+01    3.759804e+01   \n",
       "std    3.006995e+06  7.035148e+02  6.946199e+00  1.382800e+01    2.153182e+01   \n",
       "min    6.340000e+02  1.110000e+02  1.000000e+00  1.000000e+00    0.000000e+00   \n",
       "25%    3.404490e+06  6.220000e+02  6.000000e+00  1.000000e+01    2.300000e+01   \n",
       "50%    6.155361e+06  1.111000e+03  1.000000e+01  2.200000e+01    3.200000e+01   \n",
       "75%    8.761807e+06  1.731000e+03  1.700000e+01  3.400000e+01    5.800000e+01   \n",
       "max    1.141892e+07  2.535000e+03  3.100000e+01  5.000000e+01    7.700000e+01   \n",
       "\n",
       "       X Coordinate  Y Coordinate          Year      Latitude     Longitude  \n",
       "count  6.618066e+06  6.618066e+06  6.677377e+06  6.618066e+06  6.618066e+06  \n",
       "mean   1.164509e+06  1.885698e+06  2.008219e+03  4.184195e+01 -8.767183e+01  \n",
       "std    1.718741e+04  3.273292e+04  4.934995e+00  9.007352e-02  6.219261e-02  \n",
       "min    0.000000e+00  0.000000e+00  2.001000e+03  3.661945e+01 -9.168657e+01  \n",
       "25%    1.152932e+06  1.859175e+06  2.004000e+03  4.176889e+01 -8.771390e+01  \n",
       "50%    1.165974e+06  1.890501e+06  2.008000e+03  4.185507e+01 -8.766622e+01  \n",
       "75%    1.176352e+06  1.909317e+06  2.012000e+03  4.190687e+01 -8.762840e+01  \n",
       "max    1.205119e+06  1.951622e+06  2.018000e+03  4.202291e+01 -8.752453e+01  "
      ]
     },
     "execution_count": 5,
     "metadata": {},
     "output_type": "execute_result"
    }
   ],
   "source": [
    "df.describe()"
   ]
  },
  {
   "cell_type": "code",
   "execution_count": 6,
   "metadata": {},
   "outputs": [
    {
     "data": {
      "text/plain": [
       "RangeIndex(start=0, stop=6677377, step=1)"
      ]
     },
     "execution_count": 6,
     "metadata": {},
     "output_type": "execute_result"
    }
   ],
   "source": [
    "df.index"
   ]
  },
  {
   "cell_type": "code",
   "execution_count": 6,
   "metadata": {
    "scrolled": false
   },
   "outputs": [
    {
     "data": {
      "text/plain": [
       "Index(['ID', 'Case Number', 'Date', 'Block', 'IUCR', 'Primary Type',\n",
       "       'Description', 'Location Description', 'Arrest', 'Domestic', 'Beat',\n",
       "       'District', 'Ward', 'Community Area', 'FBI Code', 'X Coordinate',\n",
       "       'Y Coordinate', 'Year', 'Updated On', 'Latitude', 'Longitude',\n",
       "       'Location'],\n",
       "      dtype='object')"
      ]
     },
     "execution_count": 6,
     "metadata": {},
     "output_type": "execute_result"
    }
   ],
   "source": [
    "df.columns"
   ]
  },
  {
   "cell_type": "code",
   "execution_count": 7,
   "metadata": {},
   "outputs": [
    {
     "data": {
      "text/plain": [
       "668905"
      ]
     },
     "execution_count": 7,
     "metadata": {},
     "output_type": "execute_result"
    }
   ],
   "source": [
    "df.isnull().any(axis=1).sum()  # the number of incidents having at least one missing value"
   ]
  },
  {
   "cell_type": "code",
   "execution_count": 26,
   "metadata": {},
   "outputs": [],
   "source": [
    "df1 = df.dropna(how='any')"
   ]
  },
  {
   "cell_type": "code",
   "execution_count": 27,
   "metadata": {},
   "outputs": [
    {
     "data": {
      "text/plain": [
       "(6008472, 22)"
      ]
     },
     "execution_count": 27,
     "metadata": {},
     "output_type": "execute_result"
    }
   ],
   "source": [
    "df1.shape"
   ]
  },
  {
   "cell_type": "code",
   "execution_count": 28,
   "metadata": {},
   "outputs": [],
   "source": [
    "df1.columns = df1.columns.str.replace(' ', '_')"
   ]
  },
  {
   "cell_type": "code",
   "execution_count": 29,
   "metadata": {
    "scrolled": false
   },
   "outputs": [
    {
     "name": "stderr",
     "output_type": "stream",
     "text": [
      "C:\\Users\\fland\\Anaconda3\\lib\\site-packages\\pandas\\core\\frame.py:3137: SettingWithCopyWarning: \n",
      "A value is trying to be set on a copy of a slice from a DataFrame.\n",
      "Try using .loc[row_indexer,col_indexer] = value instead\n",
      "\n",
      "See the caveats in the documentation: http://pandas.pydata.org/pandas-docs/stable/indexing.html#indexing-view-versus-copy\n",
      "  self[k1] = value[k2]\n"
     ]
    }
   ],
   "source": [
    "import numpy as np\n",
    "df1[['District', 'Ward', 'Community_Area']] = df1[['District', 'Ward', 'Community_Area']].astype(np.int64)"
   ]
  },
  {
   "cell_type": "code",
   "execution_count": 30,
   "metadata": {},
   "outputs": [
    {
     "name": "stderr",
     "output_type": "stream",
     "text": [
      "C:\\Users\\fland\\Anaconda3\\lib\\site-packages\\pandas\\core\\frame.py:3137: SettingWithCopyWarning: \n",
      "A value is trying to be set on a copy of a slice from a DataFrame.\n",
      "Try using .loc[row_indexer,col_indexer] = value instead\n",
      "\n",
      "See the caveats in the documentation: http://pandas.pydata.org/pandas-docs/stable/indexing.html#indexing-view-versus-copy\n",
      "  self[k1] = value[k2]\n"
     ]
    }
   ],
   "source": [
    "df1[['IUCR', 'Primary_Type', 'FBI_Code' ]] = df1[['IUCR', 'Primary_Type', 'FBI_Code' ]].astype('category')"
   ]
  },
  {
   "cell_type": "code",
   "execution_count": 31,
   "metadata": {},
   "outputs": [
    {
     "name": "stderr",
     "output_type": "stream",
     "text": [
      "C:\\Users\\fland\\Anaconda3\\lib\\site-packages\\ipykernel_launcher.py:1: SettingWithCopyWarning: \n",
      "A value is trying to be set on a copy of a slice from a DataFrame.\n",
      "Try using .loc[row_indexer,col_indexer] = value instead\n",
      "\n",
      "See the caveats in the documentation: http://pandas.pydata.org/pandas-docs/stable/indexing.html#indexing-view-versus-copy\n",
      "  \"\"\"Entry point for launching an IPython kernel.\n"
     ]
    }
   ],
   "source": [
    "df1['Date'] = pd.to_datetime(df1['Date'])"
   ]
  },
  {
   "cell_type": "code",
   "execution_count": 32,
   "metadata": {},
   "outputs": [
    {
     "data": {
      "text/plain": [
       "True    6008472\n",
       "dtype: int64"
      ]
     },
     "execution_count": 32,
     "metadata": {},
     "output_type": "execute_result"
    }
   ],
   "source": [
    "(df1['Date'].dt.year == df1['Year']).value_counts() # the column 'Year' can be removed"
   ]
  },
  {
   "cell_type": "code",
   "execution_count": 33,
   "metadata": {},
   "outputs": [],
   "source": [
    "del df1['Year']"
   ]
  },
  {
   "cell_type": "code",
   "execution_count": 34,
   "metadata": {},
   "outputs": [
    {
     "name": "stdout",
     "output_type": "stream",
     "text": [
      "<class 'pandas.core.frame.DataFrame'>\n",
      "Int64Index: 6008472 entries, 0 to 6677345\n",
      "Data columns (total 21 columns):\n",
      "ID                      int64\n",
      "Case_Number             object\n",
      "Date                    datetime64[ns]\n",
      "Block                   object\n",
      "IUCR                    category\n",
      "Primary_Type            category\n",
      "Description             object\n",
      "Location_Description    object\n",
      "Arrest                  bool\n",
      "Domestic                bool\n",
      "Beat                    int64\n",
      "District                int64\n",
      "Ward                    int64\n",
      "Community_Area          int64\n",
      "FBI_Code                category\n",
      "X_Coordinate            float64\n",
      "Y_Coordinate            float64\n",
      "Updated_On              object\n",
      "Latitude                float64\n",
      "Longitude               float64\n",
      "Location                object\n",
      "dtypes: bool(2), category(3), datetime64[ns](1), float64(4), int64(5), object(6)\n",
      "memory usage: 813.7+ MB\n"
     ]
    }
   ],
   "source": [
    "df1.info()"
   ]
  },
  {
   "cell_type": "code",
   "execution_count": 35,
   "metadata": {},
   "outputs": [
    {
     "data": {
      "text/plain": [
       "False    5214093\n",
       "True      794379\n",
       "Name: Domestic, dtype: int64"
      ]
     },
     "execution_count": 35,
     "metadata": {},
     "output_type": "execute_result"
    }
   ],
   "source": [
    "df1['Domestic'].value_counts() #ok"
   ]
  },
  {
   "cell_type": "code",
   "execution_count": 36,
   "metadata": {},
   "outputs": [
    {
     "data": {
      "text/plain": [
       "False    4347691\n",
       "True     1660781\n",
       "Name: Arrest, dtype: int64"
      ]
     },
     "execution_count": 36,
     "metadata": {},
     "output_type": "execute_result"
    }
   ],
   "source": [
    "df1['Arrest'].value_counts() #ok"
   ]
  },
  {
   "cell_type": "code",
   "execution_count": 38,
   "metadata": {},
   "outputs": [
    {
     "data": {
      "image/png": "[encoded data removed]",
      "text/plain": [
       "<Figure size 432x288 with 1 Axes>"
      ]
     },
     "metadata": {},
     "output_type": "display_data"
    }
   ],
   "source": [
    "import matplotlib.pyplot as plt\n",
    "plt.scatter(df1.X_Coordinate, df1.Y_Coordinate)\n",
    "plt.show()"
   ]
  },
  {
   "cell_type": "code",
   "execution_count": 39,
   "metadata": {
    "scrolled": false
   },
   "outputs": [
    {
     "data": {
      "text/plain": [
       "ID                      107\n",
       "Case_Number             107\n",
       "Date                    107\n",
       "Block                   107\n",
       "IUCR                    107\n",
       "Primary_Type            107\n",
       "Description             107\n",
       "Location_Description    107\n",
       "Arrest                  107\n",
       "Domestic                107\n",
       "Beat                    107\n",
       "District                107\n",
       "Ward                    107\n",
       "Community_Area          107\n",
       "FBI_Code                107\n",
       "X_Coordinate            107\n",
       "Y_Coordinate            107\n",
       "Updated_On              107\n",
       "Latitude                107\n",
       "Longitude               107\n",
       "Location                107\n",
       "dtype: int64"
      ]
     },
     "execution_count": 39,
     "metadata": {},
     "output_type": "execute_result"
    }
   ],
   "source": [
    "df1[df1['X_Coordinate'] <25000 ].count()"
   ]
  },
  {
   "cell_type": "code",
   "execution_count": 40,
   "metadata": {},
   "outputs": [
    {
     "name": "stderr",
     "output_type": "stream",
     "text": [
      "C:\\Users\\fland\\Anaconda3\\lib\\site-packages\\pandas\\core\\frame.py:3694: SettingWithCopyWarning: \n",
      "A value is trying to be set on a copy of a slice from a DataFrame\n",
      "\n",
      "See the caveats in the documentation: http://pandas.pydata.org/pandas-docs/stable/indexing.html#indexing-view-versus-copy\n",
      "  errors=errors)\n"
     ]
    }
   ],
   "source": [
    "df1.drop(df1[df1['X_Coordinate'] < 25000].index, inplace = True)"
   ]
  },
  {
   "cell_type": "code",
   "execution_count": 41,
   "metadata": {},
   "outputs": [
    {
     "data": {
      "text/plain": [
       "(6008365, 21)"
      ]
     },
     "execution_count": 41,
     "metadata": {},
     "output_type": "execute_result"
    }
   ],
   "source": [
    "df1.shape"
   ]
  },
  {
   "cell_type": "code",
   "execution_count": 42,
   "metadata": {},
   "outputs": [
    {
     "data": {
      "image/png": "[encoded data removed]",
      "text/plain": [
       "<Figure size 432x288 with 1 Axes>"
      ]
     },
     "metadata": {},
     "output_type": "display_data"
    }
   ],
   "source": [
    "plt.scatter(df1.Latitude, df1.Longitude)\n",
    "plt.show()"
   ]
  },
  {
   "cell_type": "code",
   "execution_count": 43,
   "metadata": {},
   "outputs": [
    {
     "data": {
      "text/plain": [
       "count     6008365\n",
       "unique          1\n",
       "top         False\n",
       "freq      6008365\n",
       "dtype: object"
      ]
     },
     "execution_count": 43,
     "metadata": {},
     "output_type": "execute_result"
    }
   ],
   "source": [
    "(df1.duplicated('ID')).describe() #ok"
   ]
  },
  {
   "cell_type": "code",
   "execution_count": 28,
   "metadata": {},
   "outputs": [
    {
     "data": {
      "text/plain": [
       "False    6007987\n",
       "True         378\n",
       "dtype: int64"
      ]
     },
     "execution_count": 28,
     "metadata": {},
     "output_type": "execute_result"
    }
   ],
   "source": [
    "(df1.duplicated('Case_Number')).value_counts() "
   ]
  },
  {
   "cell_type": "code",
   "execution_count": 44,
   "metadata": {},
   "outputs": [],
   "source": [
    "df2 = df1.drop_duplicates(['Case_Number']) "
   ]
  },
  {
   "cell_type": "code",
   "execution_count": 46,
   "metadata": {},
   "outputs": [
    {
     "name": "stdout",
     "output_type": "stream",
     "text": [
      "<class 'pandas.core.frame.DataFrame'>\n",
      "Int64Index: 6007987 entries, 0 to 6677345\n",
      "Data columns (total 21 columns):\n",
      "ID                      int64\n",
      "Case_Number             object\n",
      "Date                    datetime64[ns]\n",
      "Block                   object\n",
      "IUCR                    category\n",
      "Primary_Type            category\n",
      "Description             object\n",
      "Location_Description    object\n",
      "Arrest                  bool\n",
      "Domestic                bool\n",
      "Beat                    int64\n",
      "District                int64\n",
      "Ward                    int64\n",
      "Community_Area          int64\n",
      "FBI_Code                category\n",
      "X_Coordinate            float64\n",
      "Y_Coordinate            float64\n",
      "Updated_On              object\n",
      "Latitude                float64\n",
      "Longitude               float64\n",
      "Location                object\n",
      "dtypes: bool(2), category(3), datetime64[ns](1), float64(4), int64(5), object(6)\n",
      "memory usage: 813.6+ MB\n"
     ]
    }
   ],
   "source": [
    "df2.info()"
   ]
  },
  {
   "cell_type": "code",
   "execution_count": 47,
   "metadata": {},
   "outputs": [],
   "source": [
    "df2.to_csv('C:\\Various Files\\DataScience\\ChicagoCrime\\Crimes_2001_to_2018_clean.csv')"
   ]
  }
 ],
 "metadata": {
  "kernelspec": {
   "display_name": "Python 3",
   "language": "python",
   "name": "python3"
  },
  "language_info": {
   "codemirror_mode": {
    "name": "ipython",
    "version": 3
   },
   "file_extension": ".py",
   "mimetype": "text/x-python",
   "name": "python",
   "nbconvert_exporter": "python",
   "pygments_lexer": "ipython3",
   "version": "3.6.5"
  }
 },
 "nbformat": 4,
 "nbformat_minor": 2
}
