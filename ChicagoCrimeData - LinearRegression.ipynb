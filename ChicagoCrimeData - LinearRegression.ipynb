{
 "cells": [
  {
   "cell_type": "code",
   "execution_count": 2,
   "metadata": {},
   "outputs": [],
   "source": [
    "import pandas as pd\n",
    "pd.set_option('display.max_columns', 25)\n",
    "df = pd.read_csv('C:\\Various Files\\DataScience\\ChicagoCrime\\Crimes_2001_to_2018_clean.csv' )\n",
    "\n",
    "df['Date'] = pd.to_datetime(df['Date'])\n",
    "df['Updated_On'] = pd.to_datetime(df['Updated_On'])"
   ]
  },
  {
   "cell_type": "code",
   "execution_count": 3,
   "metadata": {},
   "outputs": [],
   "source": [
    "ref = pd.read_csv('C:\\Various Files\\DataScience\\ChicagoCrime\\ReferenceCCA20112015.csv')\n",
    "\n",
    "\n",
    "census = ref[['GEOG', 'TOT_POP', 'MED_AGE','UND19', 'A20_34', 'A35_49', 'A50_64', 'A65_79','OV80', \n",
    "                   'IN_LBFRC', 'EMP', 'UNEMP', 'NOT_IN_LBFRC',\n",
    "                  'HS', 'BACH',\n",
    "                  'MEDINC', 'INC_LT_25K', 'INC_25_50K', 'INC_50_75K', 'INC_75_100K', 'INC_100_150K', 'INC_GT_150',\n",
    "                  'OWN_OCC_HU', 'RENT_OCC_HU', 'HU_TOT',\n",
    "                   'BR_0_1', 'BR_2', 'BR_3', 'BR_4', 'BR_5']]"
   ]
  },
  {
   "cell_type": "code",
   "execution_count": 4,
   "metadata": {},
   "outputs": [
    {
     "data": {
      "text/plain": [
       "(77, 31)"
      ]
     },
     "execution_count": 4,
     "metadata": {},
     "output_type": "execute_result"
    }
   ],
   "source": [
    "community_areas_numbers = pd.read_csv('C:\\Various Files\\DataScience\\ChicagoCrime\\Community_Areas_Names_w_Numbers.csv')\n",
    "community_areas_numbers.columns = ['Community_Area', 'GEOG']\n",
    "\n",
    "census = pd.merge(census, community_areas_numbers, on='GEOG', how = 'inner')\n",
    "census.shape"
   ]
  },
  {
   "cell_type": "code",
   "execution_count": 5,
   "metadata": {},
   "outputs": [
    {
     "data": {
      "text/html": [
       "<div>\n",
       "<style scoped>\n",
       "    .dataframe tbody tr th:only-of-type {\n",
       "        vertical-align: middle;\n",
       "    }\n",
       "\n",
       "    .dataframe tbody tr th {\n",
       "        vertical-align: top;\n",
       "    }\n",
       "\n",
       "    .dataframe thead th {\n",
       "        text-align: right;\n",
       "    }\n",
       "</style>\n",
       "<table border=\"1\" class=\"dataframe\">\n",
       "  <thead>\n",
       "    <tr style=\"text-align: right;\">\n",
       "      <th></th>\n",
       "      <th>GEOG</th>\n",
       "      <th>TOT_POP</th>\n",
       "      <th>MED_AGE</th>\n",
       "      <th>UND19</th>\n",
       "      <th>A20_34</th>\n",
       "      <th>A35_49</th>\n",
       "      <th>A50_64</th>\n",
       "      <th>A65_79</th>\n",
       "      <th>OV80</th>\n",
       "      <th>IN_LBFRC</th>\n",
       "      <th>EMP</th>\n",
       "      <th>UNEMP</th>\n",
       "      <th>...</th>\n",
       "      <th>INC_75_100K</th>\n",
       "      <th>INC_100_150K</th>\n",
       "      <th>INC_GT_150</th>\n",
       "      <th>OWN_OCC_HU</th>\n",
       "      <th>RENT_OCC_HU</th>\n",
       "      <th>HU_TOT</th>\n",
       "      <th>BR_0_1</th>\n",
       "      <th>BR_2</th>\n",
       "      <th>BR_3</th>\n",
       "      <th>BR_4</th>\n",
       "      <th>BR_5</th>\n",
       "      <th>Community_Area</th>\n",
       "    </tr>\n",
       "  </thead>\n",
       "  <tbody>\n",
       "    <tr>\n",
       "      <th>0</th>\n",
       "      <td>Albany Park</td>\n",
       "      <td>52079</td>\n",
       "      <td>33.770750</td>\n",
       "      <td>13550</td>\n",
       "      <td>13719</td>\n",
       "      <td>11806</td>\n",
       "      <td>8412</td>\n",
       "      <td>3257</td>\n",
       "      <td>1335</td>\n",
       "      <td>29624</td>\n",
       "      <td>26868</td>\n",
       "      <td>2703</td>\n",
       "      <td>...</td>\n",
       "      <td>1912</td>\n",
       "      <td>1936</td>\n",
       "      <td>1579</td>\n",
       "      <td>6405</td>\n",
       "      <td>10068</td>\n",
       "      <td>18191</td>\n",
       "      <td>4459</td>\n",
       "      <td>7331</td>\n",
       "      <td>4826</td>\n",
       "      <td>1234</td>\n",
       "      <td>341</td>\n",
       "      <td>14</td>\n",
       "    </tr>\n",
       "    <tr>\n",
       "      <th>1</th>\n",
       "      <td>Archer Heights</td>\n",
       "      <td>13266</td>\n",
       "      <td>31.991324</td>\n",
       "      <td>4205</td>\n",
       "      <td>2948</td>\n",
       "      <td>2830</td>\n",
       "      <td>1924</td>\n",
       "      <td>947</td>\n",
       "      <td>411</td>\n",
       "      <td>6594</td>\n",
       "      <td>5808</td>\n",
       "      <td>786</td>\n",
       "      <td>...</td>\n",
       "      <td>317</td>\n",
       "      <td>425</td>\n",
       "      <td>114</td>\n",
       "      <td>2140</td>\n",
       "      <td>1700</td>\n",
       "      <td>4247</td>\n",
       "      <td>357</td>\n",
       "      <td>1455</td>\n",
       "      <td>1806</td>\n",
       "      <td>402</td>\n",
       "      <td>227</td>\n",
       "      <td>57</td>\n",
       "    </tr>\n",
       "    <tr>\n",
       "      <th>2</th>\n",
       "      <td>Armour Square</td>\n",
       "      <td>14068</td>\n",
       "      <td>41.954645</td>\n",
       "      <td>3029</td>\n",
       "      <td>3004</td>\n",
       "      <td>2500</td>\n",
       "      <td>2806</td>\n",
       "      <td>1815</td>\n",
       "      <td>915</td>\n",
       "      <td>6997</td>\n",
       "      <td>5919</td>\n",
       "      <td>1078</td>\n",
       "      <td>...</td>\n",
       "      <td>263</td>\n",
       "      <td>383</td>\n",
       "      <td>121</td>\n",
       "      <td>1858</td>\n",
       "      <td>3362</td>\n",
       "      <td>5717</td>\n",
       "      <td>1358</td>\n",
       "      <td>1877</td>\n",
       "      <td>2040</td>\n",
       "      <td>285</td>\n",
       "      <td>158</td>\n",
       "      <td>34</td>\n",
       "    </tr>\n",
       "    <tr>\n",
       "      <th>3</th>\n",
       "      <td>Ashburn</td>\n",
       "      <td>42752</td>\n",
       "      <td>36.164390</td>\n",
       "      <td>12506</td>\n",
       "      <td>8188</td>\n",
       "      <td>8951</td>\n",
       "      <td>8557</td>\n",
       "      <td>3401</td>\n",
       "      <td>1149</td>\n",
       "      <td>21985</td>\n",
       "      <td>19004</td>\n",
       "      <td>2981</td>\n",
       "      <td>...</td>\n",
       "      <td>2083</td>\n",
       "      <td>2307</td>\n",
       "      <td>923</td>\n",
       "      <td>10850</td>\n",
       "      <td>1973</td>\n",
       "      <td>13481</td>\n",
       "      <td>397</td>\n",
       "      <td>2221</td>\n",
       "      <td>7452</td>\n",
       "      <td>2548</td>\n",
       "      <td>863</td>\n",
       "      <td>70</td>\n",
       "    </tr>\n",
       "    <tr>\n",
       "      <th>4</th>\n",
       "      <td>Auburn Gresham</td>\n",
       "      <td>45842</td>\n",
       "      <td>39.134577</td>\n",
       "      <td>12050</td>\n",
       "      <td>8948</td>\n",
       "      <td>7776</td>\n",
       "      <td>9624</td>\n",
       "      <td>5420</td>\n",
       "      <td>2024</td>\n",
       "      <td>20187</td>\n",
       "      <td>14910</td>\n",
       "      <td>5234</td>\n",
       "      <td>...</td>\n",
       "      <td>1103</td>\n",
       "      <td>972</td>\n",
       "      <td>306</td>\n",
       "      <td>7498</td>\n",
       "      <td>9652</td>\n",
       "      <td>20435</td>\n",
       "      <td>3672</td>\n",
       "      <td>7045</td>\n",
       "      <td>6608</td>\n",
       "      <td>2139</td>\n",
       "      <td>971</td>\n",
       "      <td>71</td>\n",
       "    </tr>\n",
       "  </tbody>\n",
       "</table>\n",
       "<p>5 rows × 31 columns</p>\n",
       "</div>"
      ],
      "text/plain": [
       "             GEOG  TOT_POP    MED_AGE  UND19  A20_34  A35_49  A50_64  A65_79  \\\n",
       "0     Albany Park    52079  33.770750  13550   13719   11806    8412    3257   \n",
       "1  Archer Heights    13266  31.991324   4205    2948    2830    1924     947   \n",
       "2   Armour Square    14068  41.954645   3029    3004    2500    2806    1815   \n",
       "3         Ashburn    42752  36.164390  12506    8188    8951    8557    3401   \n",
       "4  Auburn Gresham    45842  39.134577  12050    8948    7776    9624    5420   \n",
       "\n",
       "   OV80  IN_LBFRC    EMP  UNEMP       ...        INC_75_100K  INC_100_150K  \\\n",
       "0  1335     29624  26868   2703       ...               1912          1936   \n",
       "1   411      6594   5808    786       ...                317           425   \n",
       "2   915      6997   5919   1078       ...                263           383   \n",
       "3  1149     21985  19004   2981       ...               2083          2307   \n",
       "4  2024     20187  14910   5234       ...               1103           972   \n",
       "\n",
       "   INC_GT_150  OWN_OCC_HU  RENT_OCC_HU  HU_TOT  BR_0_1  BR_2  BR_3  BR_4  \\\n",
       "0        1579        6405        10068   18191    4459  7331  4826  1234   \n",
       "1         114        2140         1700    4247     357  1455  1806   402   \n",
       "2         121        1858         3362    5717    1358  1877  2040   285   \n",
       "3         923       10850         1973   13481     397  2221  7452  2548   \n",
       "4         306        7498         9652   20435    3672  7045  6608  2139   \n",
       "\n",
       "   BR_5  Community_Area  \n",
       "0   341              14  \n",
       "1   227              57  \n",
       "2   158              34  \n",
       "3   863              70  \n",
       "4   971              71  \n",
       "\n",
       "[5 rows x 31 columns]"
      ]
     },
     "execution_count": 5,
     "metadata": {},
     "output_type": "execute_result"
    }
   ],
   "source": [
    "census.head(5)"
   ]
  },
  {
   "cell_type": "code",
   "execution_count": 6,
   "metadata": {},
   "outputs": [],
   "source": [
    "census['UNEMP_RATE'] = census['UNEMP']/(census['EMP'] + census['UNEMP'])\n",
    "census['HS_RATE'] = census['HS']/census['TOT_POP']\n",
    "census['BACH_RATE'] = census['BACH']/census['TOT_POP']\n",
    "census['OWN_OCC_HU_RATE'] = census['OWN_OCC_HU']/census['HU_TOT']"
   ]
  },
  {
   "cell_type": "code",
   "execution_count": 7,
   "metadata": {},
   "outputs": [
    {
     "data": {
      "text/html": [
       "<div>\n",
       "<style scoped>\n",
       "    .dataframe tbody tr th:only-of-type {\n",
       "        vertical-align: middle;\n",
       "    }\n",
       "\n",
       "    .dataframe tbody tr th {\n",
       "        vertical-align: top;\n",
       "    }\n",
       "\n",
       "    .dataframe thead th {\n",
       "        text-align: right;\n",
       "    }\n",
       "</style>\n",
       "<table border=\"1\" class=\"dataframe\">\n",
       "  <thead>\n",
       "    <tr style=\"text-align: right;\">\n",
       "      <th></th>\n",
       "      <th>Community_Area</th>\n",
       "      <th>Crime_Number</th>\n",
       "    </tr>\n",
       "  </thead>\n",
       "  <tbody>\n",
       "    <tr>\n",
       "      <th>0</th>\n",
       "      <td>1</td>\n",
       "      <td>3508</td>\n",
       "    </tr>\n",
       "    <tr>\n",
       "      <th>1</th>\n",
       "      <td>2</td>\n",
       "      <td>3051</td>\n",
       "    </tr>\n",
       "    <tr>\n",
       "      <th>2</th>\n",
       "      <td>3</td>\n",
       "      <td>3562</td>\n",
       "    </tr>\n",
       "    <tr>\n",
       "      <th>3</th>\n",
       "      <td>4</td>\n",
       "      <td>1739</td>\n",
       "    </tr>\n",
       "    <tr>\n",
       "      <th>4</th>\n",
       "      <td>5</td>\n",
       "      <td>1369</td>\n",
       "    </tr>\n",
       "  </tbody>\n",
       "</table>\n",
       "</div>"
      ],
      "text/plain": [
       "   Community_Area  Crime_Number\n",
       "0               1          3508\n",
       "1               2          3051\n",
       "2               3          3562\n",
       "3               4          1739\n",
       "4               5          1369"
      ]
     },
     "execution_count": 7,
     "metadata": {},
     "output_type": "execute_result"
    }
   ],
   "source": [
    "# the census data gathered between 2011-2015\n",
    "\n",
    "df_sub = df[df['Date'].dt.year == 2015]['ID'].groupby(df['Community_Area']).count()\n",
    "df_sub = df_sub.reset_index()\n",
    "df_sub.rename(columns={'ID':'Crime_Number'}, inplace = True)\n",
    "df_sub.head()"
   ]
  },
  {
   "cell_type": "code",
   "execution_count": 8,
   "metadata": {},
   "outputs": [
    {
     "data": {
      "text/html": [
       "<div>\n",
       "<style scoped>\n",
       "    .dataframe tbody tr th:only-of-type {\n",
       "        vertical-align: middle;\n",
       "    }\n",
       "\n",
       "    .dataframe tbody tr th {\n",
       "        vertical-align: top;\n",
       "    }\n",
       "\n",
       "    .dataframe thead th {\n",
       "        text-align: right;\n",
       "    }\n",
       "</style>\n",
       "<table border=\"1\" class=\"dataframe\">\n",
       "  <thead>\n",
       "    <tr style=\"text-align: right;\">\n",
       "      <th></th>\n",
       "      <th>GEOG</th>\n",
       "      <th>TOT_POP</th>\n",
       "      <th>MED_AGE</th>\n",
       "      <th>UND19</th>\n",
       "      <th>A20_34</th>\n",
       "      <th>A35_49</th>\n",
       "      <th>A50_64</th>\n",
       "      <th>A65_79</th>\n",
       "      <th>OV80</th>\n",
       "      <th>IN_LBFRC</th>\n",
       "      <th>EMP</th>\n",
       "      <th>UNEMP</th>\n",
       "      <th>...</th>\n",
       "      <th>HU_TOT</th>\n",
       "      <th>BR_0_1</th>\n",
       "      <th>BR_2</th>\n",
       "      <th>BR_3</th>\n",
       "      <th>BR_4</th>\n",
       "      <th>BR_5</th>\n",
       "      <th>Community_Area</th>\n",
       "      <th>UNEMP_RATE</th>\n",
       "      <th>HS_RATE</th>\n",
       "      <th>BACH_RATE</th>\n",
       "      <th>OWN_OCC_HU_RATE</th>\n",
       "      <th>Crime_Number</th>\n",
       "    </tr>\n",
       "  </thead>\n",
       "  <tbody>\n",
       "    <tr>\n",
       "      <th>0</th>\n",
       "      <td>Albany Park</td>\n",
       "      <td>52079</td>\n",
       "      <td>33.770750</td>\n",
       "      <td>13550</td>\n",
       "      <td>13719</td>\n",
       "      <td>11806</td>\n",
       "      <td>8412</td>\n",
       "      <td>3257</td>\n",
       "      <td>1335</td>\n",
       "      <td>29624</td>\n",
       "      <td>26868</td>\n",
       "      <td>2703</td>\n",
       "      <td>...</td>\n",
       "      <td>18191</td>\n",
       "      <td>4459</td>\n",
       "      <td>7331</td>\n",
       "      <td>4826</td>\n",
       "      <td>1234</td>\n",
       "      <td>341</td>\n",
       "      <td>14</td>\n",
       "      <td>0.091407</td>\n",
       "      <td>0.503312</td>\n",
       "      <td>0.201271</td>\n",
       "      <td>0.352097</td>\n",
       "      <td>2499</td>\n",
       "    </tr>\n",
       "    <tr>\n",
       "      <th>1</th>\n",
       "      <td>Archer Heights</td>\n",
       "      <td>13266</td>\n",
       "      <td>31.991324</td>\n",
       "      <td>4205</td>\n",
       "      <td>2948</td>\n",
       "      <td>2830</td>\n",
       "      <td>1924</td>\n",
       "      <td>947</td>\n",
       "      <td>411</td>\n",
       "      <td>6594</td>\n",
       "      <td>5808</td>\n",
       "      <td>786</td>\n",
       "      <td>...</td>\n",
       "      <td>4247</td>\n",
       "      <td>357</td>\n",
       "      <td>1455</td>\n",
       "      <td>1806</td>\n",
       "      <td>402</td>\n",
       "      <td>227</td>\n",
       "      <td>57</td>\n",
       "      <td>0.119199</td>\n",
       "      <td>0.407583</td>\n",
       "      <td>0.066938</td>\n",
       "      <td>0.503885</td>\n",
       "      <td>981</td>\n",
       "    </tr>\n",
       "    <tr>\n",
       "      <th>2</th>\n",
       "      <td>Armour Square</td>\n",
       "      <td>14068</td>\n",
       "      <td>41.954645</td>\n",
       "      <td>3029</td>\n",
       "      <td>3004</td>\n",
       "      <td>2500</td>\n",
       "      <td>2806</td>\n",
       "      <td>1815</td>\n",
       "      <td>915</td>\n",
       "      <td>6997</td>\n",
       "      <td>5919</td>\n",
       "      <td>1078</td>\n",
       "      <td>...</td>\n",
       "      <td>5717</td>\n",
       "      <td>1358</td>\n",
       "      <td>1877</td>\n",
       "      <td>2040</td>\n",
       "      <td>285</td>\n",
       "      <td>158</td>\n",
       "      <td>34</td>\n",
       "      <td>0.154066</td>\n",
       "      <td>0.471709</td>\n",
       "      <td>0.152829</td>\n",
       "      <td>0.324996</td>\n",
       "      <td>1060</td>\n",
       "    </tr>\n",
       "    <tr>\n",
       "      <th>3</th>\n",
       "      <td>Ashburn</td>\n",
       "      <td>42752</td>\n",
       "      <td>36.164390</td>\n",
       "      <td>12506</td>\n",
       "      <td>8188</td>\n",
       "      <td>8951</td>\n",
       "      <td>8557</td>\n",
       "      <td>3401</td>\n",
       "      <td>1149</td>\n",
       "      <td>21985</td>\n",
       "      <td>19004</td>\n",
       "      <td>2981</td>\n",
       "      <td>...</td>\n",
       "      <td>13481</td>\n",
       "      <td>397</td>\n",
       "      <td>2221</td>\n",
       "      <td>7452</td>\n",
       "      <td>2548</td>\n",
       "      <td>863</td>\n",
       "      <td>70</td>\n",
       "      <td>0.135592</td>\n",
       "      <td>0.519297</td>\n",
       "      <td>0.125351</td>\n",
       "      <td>0.804836</td>\n",
       "      <td>2274</td>\n",
       "    </tr>\n",
       "    <tr>\n",
       "      <th>4</th>\n",
       "      <td>Auburn Gresham</td>\n",
       "      <td>45842</td>\n",
       "      <td>39.134577</td>\n",
       "      <td>12050</td>\n",
       "      <td>8948</td>\n",
       "      <td>7776</td>\n",
       "      <td>9624</td>\n",
       "      <td>5420</td>\n",
       "      <td>2024</td>\n",
       "      <td>20187</td>\n",
       "      <td>14910</td>\n",
       "      <td>5234</td>\n",
       "      <td>...</td>\n",
       "      <td>20435</td>\n",
       "      <td>3672</td>\n",
       "      <td>7045</td>\n",
       "      <td>6608</td>\n",
       "      <td>2139</td>\n",
       "      <td>971</td>\n",
       "      <td>71</td>\n",
       "      <td>0.259829</td>\n",
       "      <td>0.551983</td>\n",
       "      <td>0.093211</td>\n",
       "      <td>0.366920</td>\n",
       "      <td>7726</td>\n",
       "    </tr>\n",
       "  </tbody>\n",
       "</table>\n",
       "<p>5 rows × 36 columns</p>\n",
       "</div>"
      ],
      "text/plain": [
       "             GEOG  TOT_POP    MED_AGE  UND19  A20_34  A35_49  A50_64  A65_79  \\\n",
       "0     Albany Park    52079  33.770750  13550   13719   11806    8412    3257   \n",
       "1  Archer Heights    13266  31.991324   4205    2948    2830    1924     947   \n",
       "2   Armour Square    14068  41.954645   3029    3004    2500    2806    1815   \n",
       "3         Ashburn    42752  36.164390  12506    8188    8951    8557    3401   \n",
       "4  Auburn Gresham    45842  39.134577  12050    8948    7776    9624    5420   \n",
       "\n",
       "   OV80  IN_LBFRC    EMP  UNEMP      ...       HU_TOT  BR_0_1  BR_2  BR_3  \\\n",
       "0  1335     29624  26868   2703      ...        18191    4459  7331  4826   \n",
       "1   411      6594   5808    786      ...         4247     357  1455  1806   \n",
       "2   915      6997   5919   1078      ...         5717    1358  1877  2040   \n",
       "3  1149     21985  19004   2981      ...        13481     397  2221  7452   \n",
       "4  2024     20187  14910   5234      ...        20435    3672  7045  6608   \n",
       "\n",
       "   BR_4  BR_5  Community_Area  UNEMP_RATE   HS_RATE  BACH_RATE  \\\n",
       "0  1234   341              14    0.091407  0.503312   0.201271   \n",
       "1   402   227              57    0.119199  0.407583   0.066938   \n",
       "2   285   158              34    0.154066  0.471709   0.152829   \n",
       "3  2548   863              70    0.135592  0.519297   0.125351   \n",
       "4  2139   971              71    0.259829  0.551983   0.093211   \n",
       "\n",
       "   OWN_OCC_HU_RATE  Crime_Number  \n",
       "0         0.352097          2499  \n",
       "1         0.503885           981  \n",
       "2         0.324996          1060  \n",
       "3         0.804836          2274  \n",
       "4         0.366920          7726  \n",
       "\n",
       "[5 rows x 36 columns]"
      ]
     },
     "execution_count": 8,
     "metadata": {},
     "output_type": "execute_result"
    }
   ],
   "source": [
    "merged_df = pd.merge(census, df_sub, on='Community_Area', how='inner')\n",
    "merged_df.head()"
   ]
  },
  {
   "cell_type": "code",
   "execution_count": 9,
   "metadata": {},
   "outputs": [],
   "source": [
    "merged_df['Crime_Rate'] = merged_df['Crime_Number']/merged_df['TOT_POP']"
   ]
  },
  {
   "cell_type": "code",
   "execution_count": 10,
   "metadata": {},
   "outputs": [],
   "source": [
    "%config IPCompleter.greedy=True"
   ]
  },
  {
   "cell_type": "code",
   "execution_count": 12,
   "metadata": {},
   "outputs": [
    {
     "data": {
      "image/png": "[encoded data removed]",
      "text/plain": [
       "<Figure size 360x360 with 1 Axes>"
      ]
     },
     "metadata": {},
     "output_type": "display_data"
    }
   ],
   "source": [
    "import matplotlib.pyplot as plt\n",
    "import seaborn as sns\n",
    "\n",
    "sns.lmplot(x='MED_AGE', y='Crime_Rate', data= merged_df)\n",
    "plt.title( 'Relationship between Median Age and Crime Rate ')\n",
    "plt.xlabel( 'Median Age')\n",
    "plt.ylabel( 'Crime Rate')\n",
    "plt.show()"
   ]
  },
  {
   "cell_type": "code",
   "execution_count": 13,
   "metadata": {},
   "outputs": [],
   "source": [
    "import numpy as np\n",
    "\n",
    "def pearson_r(data1, data2):\n",
    "    corr_coff = np.corrcoef(data1, data2)\n",
    "    return corr_coff[0, 1]"
   ]
  },
  {
   "cell_type": "code",
   "execution_count": 14,
   "metadata": {},
   "outputs": [
    {
     "name": "stdout",
     "output_type": "stream",
     "text": [
      "The Pearson correlation cofficient =  -0.15103330417608343\n"
     ]
    }
   ],
   "source": [
    "print ( \"The Pearson correlation cofficient = \", pearson_r(merged_df['MED_AGE'], merged_df['Crime_Rate']))"
   ]
  },
  {
   "cell_type": "markdown",
   "metadata": {},
   "source": [
    "#### Observations:\n",
    "Except the outliers, it seems that crime rate weakly deceases with the increase with the median age for a Community Area. "
   ]
  },
  {
   "cell_type": "code",
   "execution_count": 15,
   "metadata": {
    "scrolled": true
   },
   "outputs": [
    {
     "data": {
      "image/png": "[encoded data removed]",
      "text/plain": [
       "<Figure size 360x360 with 1 Axes>"
      ]
     },
     "metadata": {},
     "output_type": "display_data"
    }
   ],
   "source": [
    "sns.lmplot(x='HS_RATE', y='Crime_Rate', data= merged_df)\n",
    "plt.title( 'Relationship between High School Diploma or Higher and Crime Rate ')\n",
    "plt.xlabel( 'High School Diploma or Higher Rate')\n",
    "plt.ylabel( 'Crime Rate')\n",
    "plt.show()"
   ]
  },
  {
   "cell_type": "code",
   "execution_count": 16,
   "metadata": {},
   "outputs": [
    {
     "name": "stdout",
     "output_type": "stream",
     "text": [
      "The Pearson correlation cofficient =  -0.2347569871119991\n"
     ]
    }
   ],
   "source": [
    "print ( \"The Pearson correlation cofficient = \", pearson_r(merged_df['HS_RATE'], merged_df['Crime_Rate']))"
   ]
  },
  {
   "cell_type": "markdown",
   "metadata": {},
   "source": [
    "#### Observations:\n",
    "It seems that crime rate deceases with the increase with the high school diploma or higher for a Community Area. "
   ]
  },
  {
   "cell_type": "code",
   "execution_count": 17,
   "metadata": {
    "scrolled": true
   },
   "outputs": [
    {
     "data": {
      "image/png": "[encoded data removed]",
      "text/plain": [
       "<Figure size 360x360 with 1 Axes>"
      ]
     },
     "metadata": {},
     "output_type": "display_data"
    }
   ],
   "source": [
    "sns.lmplot(x='BACH_RATE', y='Crime_Rate', data= merged_df)\n",
    "plt.title( 'Relationship between Bachelor Degree or Higher and Crime Rate ')\n",
    "plt.xlabel( 'Bachelor Degree or Higher Rate')\n",
    "plt.ylabel( 'Crime Rate')\n",
    "plt.show()"
   ]
  },
  {
   "cell_type": "code",
   "execution_count": 18,
   "metadata": {},
   "outputs": [
    {
     "name": "stdout",
     "output_type": "stream",
     "text": [
      "The Pearson correlation cofficient =  -0.34219987509124355\n"
     ]
    }
   ],
   "source": [
    "print ( \"The Pearson correlation cofficient = \", pearson_r(merged_df['BACH_RATE'], merged_df['Crime_Rate']))"
   ]
  },
  {
   "cell_type": "markdown",
   "metadata": {},
   "source": [
    "#### Observations:\n",
    "It seems that crime rate deceases with the increase with the Bachelor's degree or higher for a Community Area. The negative relatinship here is stronger than the negative relatioinship between High School Diploma or Higher and Crime Rate."
   ]
  },
  {
   "cell_type": "code",
   "execution_count": 19,
   "metadata": {},
   "outputs": [
    {
     "data": {
      "image/png": "[encoded data removed]",
      "text/plain": [
       "<Figure size 360x360 with 1 Axes>"
      ]
     },
     "metadata": {},
     "output_type": "display_data"
    }
   ],
   "source": [
    "sns.lmplot(x='UNEMP_RATE', y='Crime_Rate', data= merged_df)\n",
    "plt.title( 'Relationship between Unemployee Rate and Crime Rate ')\n",
    "plt.xlabel( 'Unemployee Rate')\n",
    "plt.ylabel( 'Crime Rate')\n",
    "plt.show()"
   ]
  },
  {
   "cell_type": "code",
   "execution_count": 20,
   "metadata": {},
   "outputs": [
    {
     "name": "stdout",
     "output_type": "stream",
     "text": [
      "The Pearson correlation cofficient =  0.731055382130882\n"
     ]
    }
   ],
   "source": [
    "print ( \"The Pearson correlation cofficient = \", pearson_r(merged_df['UNEMP_RATE'], merged_df['Crime_Rate']))"
   ]
  },
  {
   "cell_type": "markdown",
   "metadata": {},
   "source": [
    "#### Observations:\n",
    "The crime rate and unemployee rate have very strong positive relationship."
   ]
  },
  {
   "cell_type": "code",
   "execution_count": 21,
   "metadata": {
    "scrolled": true
   },
   "outputs": [
    {
     "data": {
      "image/png": "[encoded data removed]",
      "text/plain": [
       "<Figure size 360x360 with 1 Axes>"
      ]
     },
     "metadata": {},
     "output_type": "display_data"
    }
   ],
   "source": [
    "sns.lmplot(x='MEDINC', y='Crime_Rate', data= merged_df)\n",
    "plt.title( 'Relationship between Median Income and Crime Rate ')\n",
    "plt.xlabel( 'Median Income ($)')\n",
    "plt.ylabel( 'Crime Rate')\n",
    "plt.show()"
   ]
  },
  {
   "cell_type": "code",
   "execution_count": 22,
   "metadata": {},
   "outputs": [
    {
     "name": "stdout",
     "output_type": "stream",
     "text": [
      "The Pearson correlation cofficient =  -0.5587985913803861\n"
     ]
    }
   ],
   "source": [
    "print ( \"The Pearson correlation cofficient = \", pearson_r(merged_df['MEDINC'], merged_df['Crime_Rate']))"
   ]
  },
  {
   "cell_type": "markdown",
   "metadata": {},
   "source": [
    "#### Observations:\n",
    "The crime rate and median income have strong negative relationship."
   ]
  },
  {
   "cell_type": "code",
   "execution_count": 23,
   "metadata": {},
   "outputs": [
    {
     "data": {
      "image/png": "[encoded data removed]",
      "text/plain": [
       "<Figure size 360x360 with 1 Axes>"
      ]
     },
     "metadata": {},
     "output_type": "display_data"
    }
   ],
   "source": [
    "sns.lmplot(x='OWN_OCC_HU_RATE', y='Crime_Rate', data= merged_df)\n",
    "plt.title( 'Relationship between House/Apartment Owning Rate and Crime Rate ')\n",
    "plt.xlabel( 'House/Apartment Owning Rate')\n",
    "plt.ylabel( 'Crime Rate')\n",
    "plt.show()"
   ]
  },
  {
   "cell_type": "code",
   "execution_count": 24,
   "metadata": {},
   "outputs": [
    {
     "name": "stdout",
     "output_type": "stream",
     "text": [
      "The Pearson correlation cofficient =  -0.564974878796443\n"
     ]
    }
   ],
   "source": [
    "print ( \"The Pearson correlation cofficient = \", pearson_r(merged_df['OWN_OCC_HU_RATE'], merged_df['Crime_Rate']))"
   ]
  },
  {
   "cell_type": "markdown",
   "metadata": {},
   "source": [
    "#### Observations:\n",
    "- The crime rate and house owning rate have strong negative relationship.\n",
    "\n",
    "- From the above, the unemployment rate has the strongest relationship with the crime rate, and the median age has the weakest relationship with the crime rate."
   ]
  },
  {
   "cell_type": "markdown",
   "metadata": {},
   "source": [
    "#### Linear Regression Analysis"
   ]
  },
  {
   "cell_type": "code",
   "execution_count": 28,
   "metadata": {},
   "outputs": [],
   "source": [
    "# Use all of the above factos\n",
    "X = merged_df[['MED_AGE', 'HS_RATE', 'BACH_RATE', 'UNEMP_RATE', 'MEDINC', 'OWN_OCC_HU_RATE' ]];"
   ]
  },
  {
   "cell_type": "code",
   "execution_count": 29,
   "metadata": {},
   "outputs": [
    {
     "data": {
      "text/html": [
       "<div>\n",
       "<style scoped>\n",
       "    .dataframe tbody tr th:only-of-type {\n",
       "        vertical-align: middle;\n",
       "    }\n",
       "\n",
       "    .dataframe tbody tr th {\n",
       "        vertical-align: top;\n",
       "    }\n",
       "\n",
       "    .dataframe thead th {\n",
       "        text-align: right;\n",
       "    }\n",
       "</style>\n",
       "<table border=\"1\" class=\"dataframe\">\n",
       "  <thead>\n",
       "    <tr style=\"text-align: right;\">\n",
       "      <th></th>\n",
       "      <th>MED_AGE</th>\n",
       "      <th>HS_RATE</th>\n",
       "      <th>BACH_RATE</th>\n",
       "      <th>UNEMP_RATE</th>\n",
       "      <th>MEDINC</th>\n",
       "      <th>OWN_OCC_HU_RATE</th>\n",
       "    </tr>\n",
       "  </thead>\n",
       "  <tbody>\n",
       "    <tr>\n",
       "      <th>0</th>\n",
       "      <td>33.770750</td>\n",
       "      <td>0.503312</td>\n",
       "      <td>0.201271</td>\n",
       "      <td>0.091407</td>\n",
       "      <td>51968.84984</td>\n",
       "      <td>0.352097</td>\n",
       "    </tr>\n",
       "    <tr>\n",
       "      <th>1</th>\n",
       "      <td>31.991324</td>\n",
       "      <td>0.407583</td>\n",
       "      <td>0.066938</td>\n",
       "      <td>0.119199</td>\n",
       "      <td>43393.53612</td>\n",
       "      <td>0.503885</td>\n",
       "    </tr>\n",
       "    <tr>\n",
       "      <th>2</th>\n",
       "      <td>41.954645</td>\n",
       "      <td>0.471709</td>\n",
       "      <td>0.152829</td>\n",
       "      <td>0.154066</td>\n",
       "      <td>24336.46113</td>\n",
       "      <td>0.324996</td>\n",
       "    </tr>\n",
       "    <tr>\n",
       "      <th>3</th>\n",
       "      <td>36.164390</td>\n",
       "      <td>0.519297</td>\n",
       "      <td>0.125351</td>\n",
       "      <td>0.135592</td>\n",
       "      <td>63573.16227</td>\n",
       "      <td>0.804836</td>\n",
       "    </tr>\n",
       "    <tr>\n",
       "      <th>4</th>\n",
       "      <td>39.134577</td>\n",
       "      <td>0.551983</td>\n",
       "      <td>0.093211</td>\n",
       "      <td>0.259829</td>\n",
       "      <td>29388.71473</td>\n",
       "      <td>0.366920</td>\n",
       "    </tr>\n",
       "  </tbody>\n",
       "</table>\n",
       "</div>"
      ],
      "text/plain": [
       "     MED_AGE   HS_RATE  BACH_RATE  UNEMP_RATE       MEDINC  OWN_OCC_HU_RATE\n",
       "0  33.770750  0.503312   0.201271    0.091407  51968.84984         0.352097\n",
       "1  31.991324  0.407583   0.066938    0.119199  43393.53612         0.503885\n",
       "2  41.954645  0.471709   0.152829    0.154066  24336.46113         0.324996\n",
       "3  36.164390  0.519297   0.125351    0.135592  63573.16227         0.804836\n",
       "4  39.134577  0.551983   0.093211    0.259829  29388.71473         0.366920"
      ]
     },
     "execution_count": 29,
     "metadata": {},
     "output_type": "execute_result"
    }
   ],
   "source": [
    "X.head(5)"
   ]
  },
  {
   "cell_type": "code",
   "execution_count": 42,
   "metadata": {},
   "outputs": [
    {
     "data": {
      "text/plain": [
       "LinearRegression(copy_X=True, fit_intercept=True, n_jobs=1, normalize=False)"
      ]
     },
     "execution_count": 42,
     "metadata": {},
     "output_type": "execute_result"
    }
   ],
   "source": [
    "from sklearn.linear_model import LinearRegression\n",
    "lm = LinearRegression()\n",
    "lm.fit(X, merged_df.Crime_Rate)"
   ]
  },
  {
   "cell_type": "code",
   "execution_count": 43,
   "metadata": {},
   "outputs": [
    {
     "name": "stdout",
     "output_type": "stream",
     "text": [
      "Estimated intercept coefficient: -0.09292877209802271\n"
     ]
    }
   ],
   "source": [
    "print('Estimated intercept coefficient: {}'.format(lm.intercept_))"
   ]
  },
  {
   "cell_type": "code",
   "execution_count": 44,
   "metadata": {},
   "outputs": [
    {
     "name": "stdout",
     "output_type": "stream",
     "text": [
      "Number of coefficients: 6\n"
     ]
    }
   ],
   "source": [
    "print('Number of coefficients: {}'.format(len(lm.coef_)))"
   ]
  },
  {
   "cell_type": "code",
   "execution_count": 45,
   "metadata": {},
   "outputs": [
    {
     "data": {
      "text/html": [
       "<div>\n",
       "<style scoped>\n",
       "    .dataframe tbody tr th:only-of-type {\n",
       "        vertical-align: middle;\n",
       "    }\n",
       "\n",
       "    .dataframe tbody tr th {\n",
       "        vertical-align: top;\n",
       "    }\n",
       "\n",
       "    .dataframe thead th {\n",
       "        text-align: right;\n",
       "    }\n",
       "</style>\n",
       "<table border=\"1\" class=\"dataframe\">\n",
       "  <thead>\n",
       "    <tr style=\"text-align: right;\">\n",
       "      <th></th>\n",
       "      <th>features</th>\n",
       "      <th>estimatedCoefficients</th>\n",
       "    </tr>\n",
       "  </thead>\n",
       "  <tbody>\n",
       "    <tr>\n",
       "      <th>0</th>\n",
       "      <td>MED_AGE</td>\n",
       "      <td>0.001976</td>\n",
       "    </tr>\n",
       "    <tr>\n",
       "      <th>1</th>\n",
       "      <td>HS_RATE</td>\n",
       "      <td>0.246157</td>\n",
       "    </tr>\n",
       "    <tr>\n",
       "      <th>2</th>\n",
       "      <td>BACH_RATE</td>\n",
       "      <td>-0.372289</td>\n",
       "    </tr>\n",
       "    <tr>\n",
       "      <th>3</th>\n",
       "      <td>UNEMP_RATE</td>\n",
       "      <td>0.558436</td>\n",
       "    </tr>\n",
       "    <tr>\n",
       "      <th>4</th>\n",
       "      <td>MEDINC</td>\n",
       "      <td>0.000003</td>\n",
       "    </tr>\n",
       "    <tr>\n",
       "      <th>5</th>\n",
       "      <td>OWN_OCC_HU_RATE</td>\n",
       "      <td>-0.351675</td>\n",
       "    </tr>\n",
       "  </tbody>\n",
       "</table>\n",
       "</div>"
      ],
      "text/plain": [
       "          features  estimatedCoefficients\n",
       "0          MED_AGE               0.001976\n",
       "1          HS_RATE               0.246157\n",
       "2        BACH_RATE              -0.372289\n",
       "3       UNEMP_RATE               0.558436\n",
       "4           MEDINC               0.000003\n",
       "5  OWN_OCC_HU_RATE              -0.351675"
      ]
     },
     "execution_count": 45,
     "metadata": {},
     "output_type": "execute_result"
    }
   ],
   "source": [
    "# The coefficients\n",
    "pd.DataFrame({'features': X.columns, 'estimatedCoefficients': lm.coef_})[['features', 'estimatedCoefficients']]"
   ]
  },
  {
   "cell_type": "code",
   "execution_count": 46,
   "metadata": {},
   "outputs": [
    {
     "data": {
      "image/png": "[encoded data removed]",
      "text/plain": [
       "<Figure size 432x288 with 1 Axes>"
      ]
     },
     "metadata": {},
     "output_type": "display_data"
    }
   ],
   "source": [
    "predicted_crime_rate = lm.predict(X)\n",
    "plt.hist(predicted_crime_rate)\n",
    "plt.title(\"Predicted Crime Rate\")\n",
    "plt.xlabel(\"Predicted Crime Rate\")\n",
    "plt.ylabel(\"Frequency\")\n",
    "plt.axvline(predicted_crime_rate.mean(), color='r', linestyle='dotted', linewidth=2)\n",
    "plt.show()"
   ]
  },
  {
   "cell_type": "code",
   "execution_count": 48,
   "metadata": {},
   "outputs": [
    {
     "data": {
      "image/png": "[encoded data removed]",
      "text/plain": [
       "<Figure size 432x288 with 1 Axes>"
      ]
     },
     "metadata": {},
     "output_type": "display_data"
    }
   ],
   "source": [
    "plt.scatter(predicted_crime_rate, merged_df.Crime_Rate)\n",
    "plt.title(\"Predicted Crime Rate vs Crime_Rate\")\n",
    "plt.xlabel(\"Predicted Crime Rate\")\n",
    "plt.ylabel(\"Crime_Rate\")\n",
    "plt.show()"
   ]
  },
  {
   "cell_type": "code",
   "execution_count": 50,
   "metadata": {},
   "outputs": [
    {
     "name": "stdout",
     "output_type": "stream",
     "text": [
      "R-squared:0.7059572906711742\n"
     ]
    }
   ],
   "source": [
    "# Evaluating the Model: the coefficient of determination (R2)\n",
    "R2 = lm.score(X, merged_df.Crime_Rate)\n",
    "print('R-squared:{}'.format(R2))"
   ]
  },
  {
   "cell_type": "code",
   "execution_count": 56,
   "metadata": {},
   "outputs": [
    {
     "name": "stdout",
     "output_type": "stream",
     "text": [
      "F-statistic: 33.61213101306281\n"
     ]
    }
   ],
   "source": [
    "number_obs = merged_df.Crime_Rate.count()\n",
    "F = (R2/(1-R2))*( number_obs - 6 - 1 )/5\n",
    "print ('F-statistic: {}'.format(F))"
   ]
  },
  {
   "cell_type": "markdown",
   "metadata": {},
   "source": [
    "#### Observations:\n",
    "- After putting all features together, the high school diploma rate has positive correlation with the crime rate.\n",
    "- After putting all features together, the median income has positive correclation with the crime rate. If considered independently, both have strong negative relationship.\n",
    "- The histogram of the predicated crime rate is not a bell shaped curve. It is skewed largely to the right.\n",
    "- Based on the scatter plot, it seems that the model works well.\n",
    "- R-squared is a statistical measure of how close the data is to the regression line. In this case, about 70.60% of the crime rate change can be explained by these six variables.\n",
    "- F-statistic indicates that the model is overall statistically significant."
   ]
  }
 ],
 "metadata": {
  "kernelspec": {
   "display_name": "Python 3",
   "language": "python",
   "name": "python3"
  },
  "language_info": {
   "codemirror_mode": {
    "name": "ipython",
    "version": 3
   },
   "file_extension": ".py",
   "mimetype": "text/x-python",
   "name": "python",
   "nbconvert_exporter": "python",
   "pygments_lexer": "ipython3",
   "version": "3.6.5"
  }
 },
 "nbformat": 4,
 "nbformat_minor": 2
}
