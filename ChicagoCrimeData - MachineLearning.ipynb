{
 "cells": [
  {
   "cell_type": "markdown",
   "metadata": {},
   "source": [
    "## Descriptions:\n",
    "\n",
    "- The Chicago Crime Data has been cleaned up in another Jupyter book \"ChicagoCrimeData - Data Wrangling.ipynb\". In this Jupyter book, its cleaned version will be uploaded directly.\n",
    "- The Chicago census data by Community Area is also loaded and then joined with the Chicago Crime Data for data analysis and model building\n",
    "- In this book, I will firstly use statistics to analyze the impact of each demographic factor from the Chicago census data on the Crime Rate in Chicago. \n",
    "- Then use various Linear Regression techniques to develope a model between the Crime Rate and import demographic factors available. This model can be used to predict the crime rate. \n",
    "- At the end, use one of unsupervised training methods to generate clusters, and identify one or two clusters that have highest Crime Rate. "
   ]
  },
  {
   "cell_type": "code",
   "execution_count": 1,
   "metadata": {},
   "outputs": [],
   "source": [
    "# upload the Chicago Crime Data that has been cleaned up\n",
    "import pandas as pd\n",
    "pd.set_option('display.max_columns', 25)\n",
    "df = pd.read_csv('C:\\Various Files\\DataScience\\ChicagoCrime\\Crimes_2001_to_2018_clean.csv' )\n",
    "\n",
    "\n",
    "df['Date'] = pd.to_datetime(df['Date'])\n",
    "df['Updated_On'] = pd.to_datetime(df['Updated_On'])"
   ]
  },
  {
   "cell_type": "code",
   "execution_count": 2,
   "metadata": {},
   "outputs": [],
   "source": [
    "# upload the Chicago census data gathered between 2011-2015\n",
    "ref = pd.read_csv('C:\\Various Files\\DataScience\\ChicagoCrime\\ReferenceCCA20112015.csv')\n",
    "\n",
    "\n",
    "census = ref[['GEOG', 'TOT_POP', 'MED_AGE','UND19', 'A20_34', 'A35_49', 'A50_64', 'A65_79','OV80', \n",
    "                   'IN_LBFRC', 'EMP', 'UNEMP', 'NOT_IN_LBFRC',\n",
    "                  'HS', 'BACH',\n",
    "                  'MEDINC', 'INC_LT_25K', 'INC_25_50K', 'INC_50_75K', 'INC_75_100K', 'INC_100_150K', 'INC_GT_150',\n",
    "                  'OWN_OCC_HU', 'RENT_OCC_HU', 'HU_TOT',\n",
    "                   'BR_0_1', 'BR_2', 'BR_3', 'BR_4', 'BR_5']]"
   ]
  },
  {
   "cell_type": "code",
   "execution_count": 3,
   "metadata": {},
   "outputs": [
    {
     "data": {
      "text/plain": [
       "(77, 31)"
      ]
     },
     "execution_count": 3,
     "metadata": {},
     "output_type": "execute_result"
    }
   ],
   "source": [
    "# upload the mapping data between Community Areas and Community IDs\n",
    "community_areas_numbers = pd.read_csv('C:\\Various Files\\DataScience\\ChicagoCrime\\Community_Areas_Names_w_Numbers.csv')\n",
    "community_areas_numbers.columns = ['Community_Area', 'GEOG']\n",
    "\n",
    "# Table join to ensure that both Community Area names and Community Area IDs are presented\n",
    "census = pd.merge(census, community_areas_numbers, on='GEOG', how = 'inner')\n",
    "census.shape"
   ]
  },
  {
   "cell_type": "code",
   "execution_count": 4,
   "metadata": {
    "scrolled": true
   },
   "outputs": [
    {
     "data": {
      "text/html": [
       "<div>\n",
       "<style scoped>\n",
       "    .dataframe tbody tr th:only-of-type {\n",
       "        vertical-align: middle;\n",
       "    }\n",
       "\n",
       "    .dataframe tbody tr th {\n",
       "        vertical-align: top;\n",
       "    }\n",
       "\n",
       "    .dataframe thead th {\n",
       "        text-align: right;\n",
       "    }\n",
       "</style>\n",
       "<table border=\"1\" class=\"dataframe\">\n",
       "  <thead>\n",
       "    <tr style=\"text-align: right;\">\n",
       "      <th></th>\n",
       "      <th>GEOG</th>\n",
       "      <th>TOT_POP</th>\n",
       "      <th>MED_AGE</th>\n",
       "      <th>UND19</th>\n",
       "      <th>A20_34</th>\n",
       "      <th>A35_49</th>\n",
       "      <th>A50_64</th>\n",
       "      <th>A65_79</th>\n",
       "      <th>OV80</th>\n",
       "      <th>IN_LBFRC</th>\n",
       "      <th>EMP</th>\n",
       "      <th>UNEMP</th>\n",
       "      <th>...</th>\n",
       "      <th>INC_75_100K</th>\n",
       "      <th>INC_100_150K</th>\n",
       "      <th>INC_GT_150</th>\n",
       "      <th>OWN_OCC_HU</th>\n",
       "      <th>RENT_OCC_HU</th>\n",
       "      <th>HU_TOT</th>\n",
       "      <th>BR_0_1</th>\n",
       "      <th>BR_2</th>\n",
       "      <th>BR_3</th>\n",
       "      <th>BR_4</th>\n",
       "      <th>BR_5</th>\n",
       "      <th>Community_Area</th>\n",
       "    </tr>\n",
       "  </thead>\n",
       "  <tbody>\n",
       "    <tr>\n",
       "      <th>0</th>\n",
       "      <td>Albany Park</td>\n",
       "      <td>52079</td>\n",
       "      <td>33.770750</td>\n",
       "      <td>13550</td>\n",
       "      <td>13719</td>\n",
       "      <td>11806</td>\n",
       "      <td>8412</td>\n",
       "      <td>3257</td>\n",
       "      <td>1335</td>\n",
       "      <td>29624</td>\n",
       "      <td>26868</td>\n",
       "      <td>2703</td>\n",
       "      <td>...</td>\n",
       "      <td>1912</td>\n",
       "      <td>1936</td>\n",
       "      <td>1579</td>\n",
       "      <td>6405</td>\n",
       "      <td>10068</td>\n",
       "      <td>18191</td>\n",
       "      <td>4459</td>\n",
       "      <td>7331</td>\n",
       "      <td>4826</td>\n",
       "      <td>1234</td>\n",
       "      <td>341</td>\n",
       "      <td>14</td>\n",
       "    </tr>\n",
       "    <tr>\n",
       "      <th>1</th>\n",
       "      <td>Archer Heights</td>\n",
       "      <td>13266</td>\n",
       "      <td>31.991324</td>\n",
       "      <td>4205</td>\n",
       "      <td>2948</td>\n",
       "      <td>2830</td>\n",
       "      <td>1924</td>\n",
       "      <td>947</td>\n",
       "      <td>411</td>\n",
       "      <td>6594</td>\n",
       "      <td>5808</td>\n",
       "      <td>786</td>\n",
       "      <td>...</td>\n",
       "      <td>317</td>\n",
       "      <td>425</td>\n",
       "      <td>114</td>\n",
       "      <td>2140</td>\n",
       "      <td>1700</td>\n",
       "      <td>4247</td>\n",
       "      <td>357</td>\n",
       "      <td>1455</td>\n",
       "      <td>1806</td>\n",
       "      <td>402</td>\n",
       "      <td>227</td>\n",
       "      <td>57</td>\n",
       "    </tr>\n",
       "    <tr>\n",
       "      <th>2</th>\n",
       "      <td>Armour Square</td>\n",
       "      <td>14068</td>\n",
       "      <td>41.954645</td>\n",
       "      <td>3029</td>\n",
       "      <td>3004</td>\n",
       "      <td>2500</td>\n",
       "      <td>2806</td>\n",
       "      <td>1815</td>\n",
       "      <td>915</td>\n",
       "      <td>6997</td>\n",
       "      <td>5919</td>\n",
       "      <td>1078</td>\n",
       "      <td>...</td>\n",
       "      <td>263</td>\n",
       "      <td>383</td>\n",
       "      <td>121</td>\n",
       "      <td>1858</td>\n",
       "      <td>3362</td>\n",
       "      <td>5717</td>\n",
       "      <td>1358</td>\n",
       "      <td>1877</td>\n",
       "      <td>2040</td>\n",
       "      <td>285</td>\n",
       "      <td>158</td>\n",
       "      <td>34</td>\n",
       "    </tr>\n",
       "    <tr>\n",
       "      <th>3</th>\n",
       "      <td>Ashburn</td>\n",
       "      <td>42752</td>\n",
       "      <td>36.164390</td>\n",
       "      <td>12506</td>\n",
       "      <td>8188</td>\n",
       "      <td>8951</td>\n",
       "      <td>8557</td>\n",
       "      <td>3401</td>\n",
       "      <td>1149</td>\n",
       "      <td>21985</td>\n",
       "      <td>19004</td>\n",
       "      <td>2981</td>\n",
       "      <td>...</td>\n",
       "      <td>2083</td>\n",
       "      <td>2307</td>\n",
       "      <td>923</td>\n",
       "      <td>10850</td>\n",
       "      <td>1973</td>\n",
       "      <td>13481</td>\n",
       "      <td>397</td>\n",
       "      <td>2221</td>\n",
       "      <td>7452</td>\n",
       "      <td>2548</td>\n",
       "      <td>863</td>\n",
       "      <td>70</td>\n",
       "    </tr>\n",
       "    <tr>\n",
       "      <th>4</th>\n",
       "      <td>Auburn Gresham</td>\n",
       "      <td>45842</td>\n",
       "      <td>39.134577</td>\n",
       "      <td>12050</td>\n",
       "      <td>8948</td>\n",
       "      <td>7776</td>\n",
       "      <td>9624</td>\n",
       "      <td>5420</td>\n",
       "      <td>2024</td>\n",
       "      <td>20187</td>\n",
       "      <td>14910</td>\n",
       "      <td>5234</td>\n",
       "      <td>...</td>\n",
       "      <td>1103</td>\n",
       "      <td>972</td>\n",
       "      <td>306</td>\n",
       "      <td>7498</td>\n",
       "      <td>9652</td>\n",
       "      <td>20435</td>\n",
       "      <td>3672</td>\n",
       "      <td>7045</td>\n",
       "      <td>6608</td>\n",
       "      <td>2139</td>\n",
       "      <td>971</td>\n",
       "      <td>71</td>\n",
       "    </tr>\n",
       "  </tbody>\n",
       "</table>\n",
       "<p>5 rows × 31 columns</p>\n",
       "</div>"
      ],
      "text/plain": [
       "             GEOG  TOT_POP    MED_AGE  UND19  A20_34  A35_49  A50_64  A65_79  \\\n",
       "0     Albany Park    52079  33.770750  13550   13719   11806    8412    3257   \n",
       "1  Archer Heights    13266  31.991324   4205    2948    2830    1924     947   \n",
       "2   Armour Square    14068  41.954645   3029    3004    2500    2806    1815   \n",
       "3         Ashburn    42752  36.164390  12506    8188    8951    8557    3401   \n",
       "4  Auburn Gresham    45842  39.134577  12050    8948    7776    9624    5420   \n",
       "\n",
       "   OV80  IN_LBFRC    EMP  UNEMP       ...        INC_75_100K  INC_100_150K  \\\n",
       "0  1335     29624  26868   2703       ...               1912          1936   \n",
       "1   411      6594   5808    786       ...                317           425   \n",
       "2   915      6997   5919   1078       ...                263           383   \n",
       "3  1149     21985  19004   2981       ...               2083          2307   \n",
       "4  2024     20187  14910   5234       ...               1103           972   \n",
       "\n",
       "   INC_GT_150  OWN_OCC_HU  RENT_OCC_HU  HU_TOT  BR_0_1  BR_2  BR_3  BR_4  \\\n",
       "0        1579        6405        10068   18191    4459  7331  4826  1234   \n",
       "1         114        2140         1700    4247     357  1455  1806   402   \n",
       "2         121        1858         3362    5717    1358  1877  2040   285   \n",
       "3         923       10850         1973   13481     397  2221  7452  2548   \n",
       "4         306        7498         9652   20435    3672  7045  6608  2139   \n",
       "\n",
       "   BR_5  Community_Area  \n",
       "0   341              14  \n",
       "1   227              57  \n",
       "2   158              34  \n",
       "3   863              70  \n",
       "4   971              71  \n",
       "\n",
       "[5 rows x 31 columns]"
      ]
     },
     "execution_count": 4,
     "metadata": {},
     "output_type": "execute_result"
    }
   ],
   "source": [
    "census.head(5)"
   ]
  },
  {
   "cell_type": "code",
   "execution_count": 5,
   "metadata": {},
   "outputs": [],
   "source": [
    "# The Unemployee Rate is calcuated with the number of unemployment \n",
    "#over the number of both unemployment and employment in a Community Area\n",
    "census['UNEMP_RATE'] = census['UNEMP']/(census['EMP'] + census['UNEMP'])\n",
    "#census['HS_RATE'] = census['HS']/(census['TOT_POP'] )\n",
    "#census['BACH_RATE'] = census['BACH']/census['TOT_POP']\n",
    "#census['OWN_OCC_HU_RATE'] = census['OWN_OCC_HU']/census['HU_TOT']\n",
    "\n",
    "# The High School Diploma or Higher Rate is calculated over the population\n",
    "# of 19 or older in a Community Area\n",
    "census['HS_RATE'] = census['HS']/(census['TOT_POP'] - census['UND19'])\n",
    "# The Bachelor Degree or Higher Rate is calculated over the population\n",
    "# of 19 or older in a Community Area\n",
    "census['BACH_RATE'] = census['BACH']/(census['TOT_POP'] - census['UND19'])\n",
    "# The House/Apartment Owning Rate is calculated with the number of owning units over the number of total units\n",
    "census['OWN_OCC_HU_RATE'] = census['OWN_OCC_HU']/census['HU_TOT']"
   ]
  },
  {
   "cell_type": "code",
   "execution_count": 6,
   "metadata": {},
   "outputs": [
    {
     "data": {
      "text/html": [
       "<div>\n",
       "<style scoped>\n",
       "    .dataframe tbody tr th:only-of-type {\n",
       "        vertical-align: middle;\n",
       "    }\n",
       "\n",
       "    .dataframe tbody tr th {\n",
       "        vertical-align: top;\n",
       "    }\n",
       "\n",
       "    .dataframe thead th {\n",
       "        text-align: right;\n",
       "    }\n",
       "</style>\n",
       "<table border=\"1\" class=\"dataframe\">\n",
       "  <thead>\n",
       "    <tr style=\"text-align: right;\">\n",
       "      <th></th>\n",
       "      <th>Community_Area</th>\n",
       "      <th>Crime_Number</th>\n",
       "    </tr>\n",
       "  </thead>\n",
       "  <tbody>\n",
       "    <tr>\n",
       "      <th>0</th>\n",
       "      <td>1</td>\n",
       "      <td>3508</td>\n",
       "    </tr>\n",
       "    <tr>\n",
       "      <th>1</th>\n",
       "      <td>2</td>\n",
       "      <td>3051</td>\n",
       "    </tr>\n",
       "    <tr>\n",
       "      <th>2</th>\n",
       "      <td>3</td>\n",
       "      <td>3562</td>\n",
       "    </tr>\n",
       "    <tr>\n",
       "      <th>3</th>\n",
       "      <td>4</td>\n",
       "      <td>1739</td>\n",
       "    </tr>\n",
       "    <tr>\n",
       "      <th>4</th>\n",
       "      <td>5</td>\n",
       "      <td>1369</td>\n",
       "    </tr>\n",
       "  </tbody>\n",
       "</table>\n",
       "</div>"
      ],
      "text/plain": [
       "   Community_Area  Crime_Number\n",
       "0               1          3508\n",
       "1               2          3051\n",
       "2               3          3562\n",
       "3               4          1739\n",
       "4               5          1369"
      ]
     },
     "execution_count": 6,
     "metadata": {},
     "output_type": "execute_result"
    }
   ],
   "source": [
    "# the census data gathered between 2011-2015, for the analysis, just focus on the Crime data in 2015\n",
    "\n",
    "df_sub = df[df['Date'].dt.year == 2015]['ID'].groupby(df['Community_Area']).count()\n",
    "df_sub = df_sub.reset_index()\n",
    "df_sub.rename(columns={'ID':'Crime_Number'}, inplace = True)\n",
    "df_sub.head()"
   ]
  },
  {
   "cell_type": "code",
   "execution_count": 7,
   "metadata": {},
   "outputs": [
    {
     "data": {
      "text/html": [
       "<div>\n",
       "<style scoped>\n",
       "    .dataframe tbody tr th:only-of-type {\n",
       "        vertical-align: middle;\n",
       "    }\n",
       "\n",
       "    .dataframe tbody tr th {\n",
       "        vertical-align: top;\n",
       "    }\n",
       "\n",
       "    .dataframe thead th {\n",
       "        text-align: right;\n",
       "    }\n",
       "</style>\n",
       "<table border=\"1\" class=\"dataframe\">\n",
       "  <thead>\n",
       "    <tr style=\"text-align: right;\">\n",
       "      <th></th>\n",
       "      <th>GEOG</th>\n",
       "      <th>TOT_POP</th>\n",
       "      <th>MED_AGE</th>\n",
       "      <th>UND19</th>\n",
       "      <th>A20_34</th>\n",
       "      <th>A35_49</th>\n",
       "      <th>A50_64</th>\n",
       "      <th>A65_79</th>\n",
       "      <th>OV80</th>\n",
       "      <th>IN_LBFRC</th>\n",
       "      <th>EMP</th>\n",
       "      <th>UNEMP</th>\n",
       "      <th>...</th>\n",
       "      <th>HU_TOT</th>\n",
       "      <th>BR_0_1</th>\n",
       "      <th>BR_2</th>\n",
       "      <th>BR_3</th>\n",
       "      <th>BR_4</th>\n",
       "      <th>BR_5</th>\n",
       "      <th>Community_Area</th>\n",
       "      <th>UNEMP_RATE</th>\n",
       "      <th>HS_RATE</th>\n",
       "      <th>BACH_RATE</th>\n",
       "      <th>OWN_OCC_HU_RATE</th>\n",
       "      <th>Crime_Number</th>\n",
       "    </tr>\n",
       "  </thead>\n",
       "  <tbody>\n",
       "    <tr>\n",
       "      <th>0</th>\n",
       "      <td>Albany Park</td>\n",
       "      <td>52079</td>\n",
       "      <td>33.770750</td>\n",
       "      <td>13550</td>\n",
       "      <td>13719</td>\n",
       "      <td>11806</td>\n",
       "      <td>8412</td>\n",
       "      <td>3257</td>\n",
       "      <td>1335</td>\n",
       "      <td>29624</td>\n",
       "      <td>26868</td>\n",
       "      <td>2703</td>\n",
       "      <td>...</td>\n",
       "      <td>18191</td>\n",
       "      <td>4459</td>\n",
       "      <td>7331</td>\n",
       "      <td>4826</td>\n",
       "      <td>1234</td>\n",
       "      <td>341</td>\n",
       "      <td>14</td>\n",
       "      <td>0.091407</td>\n",
       "      <td>0.680319</td>\n",
       "      <td>0.272055</td>\n",
       "      <td>0.352097</td>\n",
       "      <td>2499</td>\n",
       "    </tr>\n",
       "    <tr>\n",
       "      <th>1</th>\n",
       "      <td>Archer Heights</td>\n",
       "      <td>13266</td>\n",
       "      <td>31.991324</td>\n",
       "      <td>4205</td>\n",
       "      <td>2948</td>\n",
       "      <td>2830</td>\n",
       "      <td>1924</td>\n",
       "      <td>947</td>\n",
       "      <td>411</td>\n",
       "      <td>6594</td>\n",
       "      <td>5808</td>\n",
       "      <td>786</td>\n",
       "      <td>...</td>\n",
       "      <td>4247</td>\n",
       "      <td>357</td>\n",
       "      <td>1455</td>\n",
       "      <td>1806</td>\n",
       "      <td>402</td>\n",
       "      <td>227</td>\n",
       "      <td>57</td>\n",
       "      <td>0.119199</td>\n",
       "      <td>0.596733</td>\n",
       "      <td>0.098002</td>\n",
       "      <td>0.503885</td>\n",
       "      <td>981</td>\n",
       "    </tr>\n",
       "    <tr>\n",
       "      <th>2</th>\n",
       "      <td>Armour Square</td>\n",
       "      <td>14068</td>\n",
       "      <td>41.954645</td>\n",
       "      <td>3029</td>\n",
       "      <td>3004</td>\n",
       "      <td>2500</td>\n",
       "      <td>2806</td>\n",
       "      <td>1815</td>\n",
       "      <td>915</td>\n",
       "      <td>6997</td>\n",
       "      <td>5919</td>\n",
       "      <td>1078</td>\n",
       "      <td>...</td>\n",
       "      <td>5717</td>\n",
       "      <td>1358</td>\n",
       "      <td>1877</td>\n",
       "      <td>2040</td>\n",
       "      <td>285</td>\n",
       "      <td>158</td>\n",
       "      <td>34</td>\n",
       "      <td>0.154066</td>\n",
       "      <td>0.601141</td>\n",
       "      <td>0.194764</td>\n",
       "      <td>0.324996</td>\n",
       "      <td>1060</td>\n",
       "    </tr>\n",
       "    <tr>\n",
       "      <th>3</th>\n",
       "      <td>Ashburn</td>\n",
       "      <td>42752</td>\n",
       "      <td>36.164390</td>\n",
       "      <td>12506</td>\n",
       "      <td>8188</td>\n",
       "      <td>8951</td>\n",
       "      <td>8557</td>\n",
       "      <td>3401</td>\n",
       "      <td>1149</td>\n",
       "      <td>21985</td>\n",
       "      <td>19004</td>\n",
       "      <td>2981</td>\n",
       "      <td>...</td>\n",
       "      <td>13481</td>\n",
       "      <td>397</td>\n",
       "      <td>2221</td>\n",
       "      <td>7452</td>\n",
       "      <td>2548</td>\n",
       "      <td>863</td>\n",
       "      <td>70</td>\n",
       "      <td>0.135592</td>\n",
       "      <td>0.734014</td>\n",
       "      <td>0.177180</td>\n",
       "      <td>0.804836</td>\n",
       "      <td>2274</td>\n",
       "    </tr>\n",
       "    <tr>\n",
       "      <th>4</th>\n",
       "      <td>Auburn Gresham</td>\n",
       "      <td>45842</td>\n",
       "      <td>39.134577</td>\n",
       "      <td>12050</td>\n",
       "      <td>8948</td>\n",
       "      <td>7776</td>\n",
       "      <td>9624</td>\n",
       "      <td>5420</td>\n",
       "      <td>2024</td>\n",
       "      <td>20187</td>\n",
       "      <td>14910</td>\n",
       "      <td>5234</td>\n",
       "      <td>...</td>\n",
       "      <td>20435</td>\n",
       "      <td>3672</td>\n",
       "      <td>7045</td>\n",
       "      <td>6608</td>\n",
       "      <td>2139</td>\n",
       "      <td>971</td>\n",
       "      <td>71</td>\n",
       "      <td>0.259829</td>\n",
       "      <td>0.748816</td>\n",
       "      <td>0.126450</td>\n",
       "      <td>0.366920</td>\n",
       "      <td>7726</td>\n",
       "    </tr>\n",
       "  </tbody>\n",
       "</table>\n",
       "<p>5 rows × 36 columns</p>\n",
       "</div>"
      ],
      "text/plain": [
       "             GEOG  TOT_POP    MED_AGE  UND19  A20_34  A35_49  A50_64  A65_79  \\\n",
       "0     Albany Park    52079  33.770750  13550   13719   11806    8412    3257   \n",
       "1  Archer Heights    13266  31.991324   4205    2948    2830    1924     947   \n",
       "2   Armour Square    14068  41.954645   3029    3004    2500    2806    1815   \n",
       "3         Ashburn    42752  36.164390  12506    8188    8951    8557    3401   \n",
       "4  Auburn Gresham    45842  39.134577  12050    8948    7776    9624    5420   \n",
       "\n",
       "   OV80  IN_LBFRC    EMP  UNEMP      ...       HU_TOT  BR_0_1  BR_2  BR_3  \\\n",
       "0  1335     29624  26868   2703      ...        18191    4459  7331  4826   \n",
       "1   411      6594   5808    786      ...         4247     357  1455  1806   \n",
       "2   915      6997   5919   1078      ...         5717    1358  1877  2040   \n",
       "3  1149     21985  19004   2981      ...        13481     397  2221  7452   \n",
       "4  2024     20187  14910   5234      ...        20435    3672  7045  6608   \n",
       "\n",
       "   BR_4  BR_5  Community_Area  UNEMP_RATE   HS_RATE  BACH_RATE  \\\n",
       "0  1234   341              14    0.091407  0.680319   0.272055   \n",
       "1   402   227              57    0.119199  0.596733   0.098002   \n",
       "2   285   158              34    0.154066  0.601141   0.194764   \n",
       "3  2548   863              70    0.135592  0.734014   0.177180   \n",
       "4  2139   971              71    0.259829  0.748816   0.126450   \n",
       "\n",
       "   OWN_OCC_HU_RATE  Crime_Number  \n",
       "0         0.352097          2499  \n",
       "1         0.503885           981  \n",
       "2         0.324996          1060  \n",
       "3         0.804836          2274  \n",
       "4         0.366920          7726  \n",
       "\n",
       "[5 rows x 36 columns]"
      ]
     },
     "execution_count": 7,
     "metadata": {},
     "output_type": "execute_result"
    }
   ],
   "source": [
    "# join the group-by data for Crime Rate with the census data for Chicago Community Areas\n",
    "merged_df = pd.merge(census, df_sub, on='Community_Area', how='inner')\n",
    "merged_df.head()"
   ]
  },
  {
   "cell_type": "code",
   "execution_count": 8,
   "metadata": {},
   "outputs": [],
   "source": [
    "import numpy as np\n",
    "#merged_df['Crime_Rate'] = merged_df['Crime_Number']/merged_df['TOT_POP']\n",
    "merged_df['Crime_Rate'] = merged_df['Crime_Number']/(merged_df['TOT_POP'] - census['UND19'])\n",
    "# With Log, the correlation between it and a feature may be better\n",
    "merged_df['Crime_Rate_Log'] = np.log(merged_df['Crime_Rate']) - np.min(np.log(merged_df['Crime_Rate'])) "
   ]
  },
  {
   "cell_type": "markdown",
   "metadata": {},
   "source": [
    "### Analyses for Individual Feature"
   ]
  },
  {
   "cell_type": "code",
   "execution_count": 9,
   "metadata": {},
   "outputs": [],
   "source": [
    "import matplotlib.pyplot as plt\n",
    "import seaborn as sns\n",
    "\n",
    "# define a function for calculating the pearson correlation coefficient between two features\n",
    "def pearson_r(data1, data2):\n",
    "    corr_coff = np.corrcoef(data1, data2)\n",
    "    return corr_coff[0, 1]"
   ]
  },
  {
   "cell_type": "code",
   "execution_count": 10,
   "metadata": {},
   "outputs": [
    {
     "data": {
      "image/png": "[encoded data removed]",
      "text/plain": [
       "<Figure size 360x360 with 1 Axes>"
      ]
     },
     "metadata": {},
     "output_type": "display_data"
    },
    {
     "data": {
      "text/plain": [
       "<Figure size 216x288 with 0 Axes>"
      ]
     },
     "metadata": {},
     "output_type": "display_data"
    }
   ],
   "source": [
    "# Calcuate the pearson correlation coefficient and embed it in the chart\n",
    "pearson_coff = pearson_r(merged_df['MED_AGE'], merged_df['Crime_Rate_Log'])\n",
    "coff_str = \"Pearson Correlation Cofficient = \" + str('%.5f' % pearson_coff)\n",
    "\n",
    "# for the relationship between the Median Age and Crime Rate for Community Areas\n",
    "sns.lmplot(x='MED_AGE', y='Crime_Rate', data= merged_df)\n",
    "plt.title( 'Median Age vs Crime Rate')\n",
    "plt.xlabel( 'Median Age')\n",
    "plt.ylabel( 'Crime Rate')\n",
    "plt.text(20.0, -0.1, coff_str, fontsize=10, horizontalalignment='left')\n",
    "plt.figure(figsize=(3,4))\n",
    "plt.show()"
   ]
  },
  {
   "cell_type": "markdown",
   "metadata": {},
   "source": [
    "#### Observations:\n",
    "Except the outliers, it seems that Crime Rate weakly deceases with the increase with the Median Age for a Community Area. "
   ]
  },
  {
   "cell_type": "code",
   "execution_count": 11,
   "metadata": {
    "scrolled": false
   },
   "outputs": [
    {
     "data": {
      "image/png": "[encoded data removed]",
      "text/plain": [
       "<Figure size 360x360 with 1 Axes>"
      ]
     },
     "metadata": {},
     "output_type": "display_data"
    },
    {
     "data": {
      "text/plain": [
       "<Figure size 216x288 with 0 Axes>"
      ]
     },
     "metadata": {},
     "output_type": "display_data"
    }
   ],
   "source": [
    "# Calcuate the pearson correlation coefficient and embed it in the chart\n",
    "pearson_coff = pearson_r(merged_df['HS_RATE'], merged_df['Crime_Rate_Log'])\n",
    "coff_str = \"Pearson Correlation Cofficient = \" + str('%.5f' % pearson_coff)\n",
    "\n",
    "# for the relationship between the High School Diploma or Higher and Crime Rate for Community Areas\n",
    "sns.lmplot(x='HS_RATE', y='Crime_Rate', data= merged_df)\n",
    "plt.title( 'High School Diploma or Higher Rate vs Crime Rate')\n",
    "plt.xlabel( 'High School Diploma or Higher Rate')\n",
    "plt.ylabel( 'Crime Rate')\n",
    "plt.text(0.4, -0.07, coff_str, fontsize=10, horizontalalignment='left')\n",
    "plt.figure(figsize=(3,4))\n",
    "plt.show()"
   ]
  },
  {
   "cell_type": "markdown",
   "metadata": {},
   "source": [
    "#### Observations:\n",
    "It seems that Crime Rate has negative correlation with the High School Diploma or Higher Rate for a Community Area. "
   ]
  },
  {
   "cell_type": "code",
   "execution_count": 12,
   "metadata": {
    "scrolled": true
   },
   "outputs": [
    {
     "data": {
      "image/png": "[encoded data removed]",
      "text/plain": [
       "<Figure size 360x360 with 1 Axes>"
      ]
     },
     "metadata": {},
     "output_type": "display_data"
    },
    {
     "data": {
      "text/plain": [
       "<Figure size 216x288 with 0 Axes>"
      ]
     },
     "metadata": {},
     "output_type": "display_data"
    }
   ],
   "source": [
    "# Calcuate the pearson correlation coefficient and embed it in the chart\n",
    "pearson_coff = pearson_r(merged_df['BACH_RATE'], merged_df['Crime_Rate_Log'])\n",
    "coff_str = \"Pearson Correlation Cofficient = \" + str('%.5f' % pearson_coff)\n",
    "\n",
    "# for the relationship between the Bachelor Degree or Higher and Crime Rate for Community Areas\n",
    "sns.lmplot(x='BACH_RATE', y='Crime_Rate', data= merged_df)\n",
    "plt.title( 'Bachelor Degree Rate vs Crime Rate')\n",
    "plt.xlabel( 'Bachelor Degree or Higher Rate')\n",
    "plt.ylabel( 'Crime Rate')\n",
    "plt.text(0.0, -0.15, coff_str, fontsize=10, horizontalalignment='left')\n",
    "plt.figure(figsize=(3,4))\n",
    "plt.show()"
   ]
  },
  {
   "cell_type": "markdown",
   "metadata": {},
   "source": [
    "#### Observations:\n",
    "It seems that Crime Rate deceases with the increase with the Bachelor's Degree or Higher Rate for a Community Area. The negative relatinship here is much stronger than the negative relatioinship between High School Diploma or Higher Rate and Crime Rate."
   ]
  },
  {
   "cell_type": "code",
   "execution_count": 13,
   "metadata": {},
   "outputs": [
    {
     "data": {
      "image/png": "[encoded data removed]",
      "text/plain": [
       "<Figure size 360x360 with 1 Axes>"
      ]
     },
     "metadata": {},
     "output_type": "display_data"
    },
    {
     "data": {
      "text/plain": [
       "<Figure size 216x216 with 0 Axes>"
      ]
     },
     "metadata": {},
     "output_type": "display_data"
    }
   ],
   "source": [
    "# Calcuate the pearson correlation coefficient and embed it in the chart\n",
    "pearson_coff = pearson_r(merged_df['UNEMP_RATE'], merged_df['Crime_Rate_Log'])\n",
    "coff_str = \"Pearson Correlation Cofficient = \" + str('%.5f' % pearson_coff)\n",
    "\n",
    "# for the relationship between the Unemployee Rate vs Crime Rate for Community Areas\n",
    "sns.lmplot(x='UNEMP_RATE', y='Crime_Rate', data= merged_df)\n",
    "plt.title( 'Unemployment Rate vs Crime Rate')\n",
    "plt.xlabel( 'Unemployment Rate')\n",
    "plt.ylabel( 'Crime Rate')\n",
    "plt.text(0.0, -0.125, coff_str, fontsize=10, horizontalalignment='left')\n",
    "plt.figure(figsize=(3,3))\n",
    "plt.show()"
   ]
  },
  {
   "cell_type": "markdown",
   "metadata": {},
   "source": [
    "#### Observations:\n",
    "The Crime Rate and Unemployment Rate have very strong positive relationship."
   ]
  },
  {
   "cell_type": "code",
   "execution_count": 14,
   "metadata": {
    "scrolled": true
   },
   "outputs": [
    {
     "data": {
      "image/png": "[encoded data removed]",
      "text/plain": [
       "<Figure size 360x360 with 1 Axes>"
      ]
     },
     "metadata": {},
     "output_type": "display_data"
    },
    {
     "data": {
      "text/plain": [
       "<Figure size 216x216 with 0 Axes>"
      ]
     },
     "metadata": {},
     "output_type": "display_data"
    }
   ],
   "source": [
    "# Calcuate the pearson correlation coefficient and embed it in the chart\n",
    "pearson_coff = pearson_r(merged_df['MEDINC'], merged_df['Crime_Rate_Log'])\n",
    "coff_str = \"Pearson Correlation Cofficient = \" + str('%.5f' % pearson_coff)\n",
    "\n",
    "# for the relationship between the Median Income vs Crime Rate for Community Areas\n",
    "sns.lmplot(x='MEDINC', y='Crime_Rate', data= merged_df)\n",
    "plt.title( 'Median Income vs Crime Rate')\n",
    "plt.xlabel( 'Median Income')\n",
    "plt.ylabel( 'Crime Rate')\n",
    "plt.text(0.0, -0.25, coff_str, fontsize=10, horizontalalignment='left')\n",
    "plt.figure(figsize=(3,3))\n",
    "plt.show()"
   ]
  },
  {
   "cell_type": "markdown",
   "metadata": {},
   "source": [
    "#### Observations:\n",
    "The Crime Rate and Median Income have strong negative relationship."
   ]
  },
  {
   "cell_type": "code",
   "execution_count": 80,
   "metadata": {},
   "outputs": [
    {
     "data": {
      "image/png": "[encoded data removed]",
      "text/plain": [
       "<Figure size 360x360 with 1 Axes>"
      ]
     },
     "metadata": {},
     "output_type": "display_data"
    },
    {
     "data": {
      "text/plain": [
       "<Figure size 216x216 with 0 Axes>"
      ]
     },
     "metadata": {},
     "output_type": "display_data"
    }
   ],
   "source": [
    "# Calcuate the pearson correlation coefficient and embed it in the chart\n",
    "pearson_coff = pearson_r(merged_df['OWN_OCC_HU_RATE'], merged_df['Crime_Rate_Log'])\n",
    "coff_str = \"Pearson Correlation Cofficient = \" + str('%.5f' % pearson_coff)\n",
    "\n",
    "# for the relationship between the House/Apartment Owning Rate vs Crime Rate for Community Areas\n",
    "sns.lmplot(x='OWN_OCC_HU_RATE', y='Crime_Rate', data= merged_df)\n",
    "plt.title( 'House/Apartment Owning Rate vs Crime Rate')\n",
    "plt.xlabel( 'House/Apartment Owning Rate')\n",
    "plt.ylabel( 'Crime Rate')\n",
    "plt.text(0.0, -0.165, coff_str, fontsize=10, horizontalalignment='left')\n",
    "plt.figure(figsize=(3,3))\n",
    "plt.show()"
   ]
  },
  {
   "cell_type": "markdown",
   "metadata": {},
   "source": [
    "#### Observations:\n",
    "- The Crime Rate and House/Apartment Owning Rate have strong negative relationship.\n",
    "\n",
    "- From the above, the Unemployment Rate has the strongest relationship with the Crime Rate, and the Median Age has the weakest relationship with the Crime Rate."
   ]
  },
  {
   "cell_type": "code",
   "execution_count": 16,
   "metadata": {},
   "outputs": [
    {
     "data": {
      "text/plain": [
       "<seaborn.axisgrid.PairGrid at 0x1dfe6e9cdd8>"
      ]
     },
     "execution_count": 16,
     "metadata": {},
     "output_type": "execute_result"
    },
    {
     "data": {
      "image/png": "[encoded data removed]",
      "text/plain": [
       "<Figure size 1080x1080 with 42 Axes>"
      ]
     },
     "metadata": {},
     "output_type": "display_data"
    }
   ],
   "source": [
    "# Quickly check the relationships among all of the features\n",
    "features = merged_df[['MED_AGE', 'HS_RATE', 'BACH_RATE', 'UNEMP_RATE', 'MEDINC', 'OWN_OCC_HU_RATE' ]];\n",
    "sns.pairplot(features)"
   ]
  },
  {
   "cell_type": "code",
   "execution_count": 34,
   "metadata": {},
   "outputs": [
    {
     "name": "stdout",
     "output_type": "stream",
     "text": [
      "The Pearson correlation cofficient between High School Rate and Bachelor Degree Rate = 0.729236\n",
      "The Pearson correlation cofficient between Median Income and Bachelor Degree Rate = 0.773320\n",
      "The Pearson correlation cofficient between House/Apartment Owning Rate and Bachelor Degree Rate = 0.076932\n",
      "The Pearson correlation cofficient between House/Apartment Owning Rate and Unemployment Rate = -0.427709\n",
      "The Pearson correlation cofficient between Unemployement Rate and Bachelor Degree Rate = -0.669248\n"
     ]
    }
   ],
   "source": [
    "print ( \"The Pearson correlation cofficient between High School Rate and Bachelor Degree Rate = {:5f}\".format(\n",
    "       pearson_r(features['BACH_RATE'], features['HS_RATE'])))\n",
    "print ( \"The Pearson correlation cofficient between Median Income and Bachelor Degree Rate = {:5f}\".format( \n",
    "       pearson_r(features['MEDINC'], features['BACH_RATE'])))\n",
    "print ( \"The Pearson correlation cofficient between House/Apartment Owning Rate and Bachelor Degree Rate = {:5f}\".format( \n",
    "       pearson_r(features['OWN_OCC_HU_RATE'], features['BACH_RATE'])))\n",
    "print ( \"The Pearson correlation cofficient between House/Apartment Owning Rate and Unemployment Rate = {:5f}\".format( \n",
    "       pearson_r(features['OWN_OCC_HU_RATE'], features['UNEMP_RATE'])))\n",
    "print ( \"The Pearson correlation cofficient between Unemployement Rate and Bachelor Degree Rate = {:5f}\".format( \n",
    "       pearson_r(features['UNEMP_RATE'], features['BACH_RATE'])))"
   ]
  },
  {
   "cell_type": "markdown",
   "metadata": {},
   "source": [
    "#### Observations:\n",
    "\n",
    "- Some features seem strongly correlated. For example, the High School Diploma or Higher Rate and the Bachelor Degree or Higher Rate have a strong positive correlation. The Median Inome and Bachelor Degree or above Rate have also a strong positive correlation. The Unemployment Rate and the Bachelor Degree or above Rate are negatively correlated."
   ]
  },
  {
   "cell_type": "markdown",
   "metadata": {},
   "source": [
    "### Linear Regressions"
   ]
  },
  {
   "cell_type": "code",
   "execution_count": 35,
   "metadata": {},
   "outputs": [
    {
     "name": "stderr",
     "output_type": "stream",
     "text": [
      "C:\\Users\\fland\\Anaconda3\\lib\\site-packages\\ipykernel_launcher.py:5: SettingWithCopyWarning: \n",
      "A value is trying to be set on a copy of a slice from a DataFrame.\n",
      "Try using .loc[row_indexer,col_indexer] = value instead\n",
      "\n",
      "See the caveats in the documentation: http://pandas.pydata.org/pandas-docs/stable/indexing.html#indexing-view-versus-copy\n",
      "  \"\"\"\n",
      "C:\\Users\\fland\\Anaconda3\\lib\\site-packages\\ipykernel_launcher.py:6: SettingWithCopyWarning: \n",
      "A value is trying to be set on a copy of a slice from a DataFrame.\n",
      "Try using .loc[row_indexer,col_indexer] = value instead\n",
      "\n",
      "See the caveats in the documentation: http://pandas.pydata.org/pandas-docs/stable/indexing.html#indexing-view-versus-copy\n",
      "  \n"
     ]
    }
   ],
   "source": [
    "# Put all of the above features together for linear regressions\n",
    "X = merged_df[['HS_RATE', 'BACH_RATE', 'UNEMP_RATE', 'OWN_OCC_HU_RATE' ]];\n",
    "\n",
    "# Make the Median Ages and Median Incomes less than 1 to be consistent with others\n",
    "X['MED_AGE_N'] = merged_df['MED_AGE']/100.0 \n",
    "X['MEDINC_N'] = merged_df['MEDINC']/200000.0\n",
    "Y = merged_df[['Crime_Rate', 'Crime_Rate_Log']]"
   ]
  },
  {
   "cell_type": "code",
   "execution_count": 36,
   "metadata": {},
   "outputs": [
    {
     "data": {
      "text/html": [
       "<div>\n",
       "<style scoped>\n",
       "    .dataframe tbody tr th:only-of-type {\n",
       "        vertical-align: middle;\n",
       "    }\n",
       "\n",
       "    .dataframe tbody tr th {\n",
       "        vertical-align: top;\n",
       "    }\n",
       "\n",
       "    .dataframe thead th {\n",
       "        text-align: right;\n",
       "    }\n",
       "</style>\n",
       "<table border=\"1\" class=\"dataframe\">\n",
       "  <thead>\n",
       "    <tr style=\"text-align: right;\">\n",
       "      <th></th>\n",
       "      <th>HS_RATE</th>\n",
       "      <th>BACH_RATE</th>\n",
       "      <th>UNEMP_RATE</th>\n",
       "      <th>OWN_OCC_HU_RATE</th>\n",
       "      <th>MED_AGE_N</th>\n",
       "      <th>MEDINC_N</th>\n",
       "    </tr>\n",
       "  </thead>\n",
       "  <tbody>\n",
       "    <tr>\n",
       "      <th>0</th>\n",
       "      <td>0.680319</td>\n",
       "      <td>0.272055</td>\n",
       "      <td>0.091407</td>\n",
       "      <td>0.352097</td>\n",
       "      <td>0.337707</td>\n",
       "      <td>0.259844</td>\n",
       "    </tr>\n",
       "    <tr>\n",
       "      <th>1</th>\n",
       "      <td>0.596733</td>\n",
       "      <td>0.098002</td>\n",
       "      <td>0.119199</td>\n",
       "      <td>0.503885</td>\n",
       "      <td>0.319913</td>\n",
       "      <td>0.216968</td>\n",
       "    </tr>\n",
       "    <tr>\n",
       "      <th>2</th>\n",
       "      <td>0.601141</td>\n",
       "      <td>0.194764</td>\n",
       "      <td>0.154066</td>\n",
       "      <td>0.324996</td>\n",
       "      <td>0.419546</td>\n",
       "      <td>0.121682</td>\n",
       "    </tr>\n",
       "    <tr>\n",
       "      <th>3</th>\n",
       "      <td>0.734014</td>\n",
       "      <td>0.177180</td>\n",
       "      <td>0.135592</td>\n",
       "      <td>0.804836</td>\n",
       "      <td>0.361644</td>\n",
       "      <td>0.317866</td>\n",
       "    </tr>\n",
       "    <tr>\n",
       "      <th>4</th>\n",
       "      <td>0.748816</td>\n",
       "      <td>0.126450</td>\n",
       "      <td>0.259829</td>\n",
       "      <td>0.366920</td>\n",
       "      <td>0.391346</td>\n",
       "      <td>0.146944</td>\n",
       "    </tr>\n",
       "  </tbody>\n",
       "</table>\n",
       "</div>"
      ],
      "text/plain": [
       "    HS_RATE  BACH_RATE  UNEMP_RATE  OWN_OCC_HU_RATE  MED_AGE_N  MEDINC_N\n",
       "0  0.680319   0.272055    0.091407         0.352097   0.337707  0.259844\n",
       "1  0.596733   0.098002    0.119199         0.503885   0.319913  0.216968\n",
       "2  0.601141   0.194764    0.154066         0.324996   0.419546  0.121682\n",
       "3  0.734014   0.177180    0.135592         0.804836   0.361644  0.317866\n",
       "4  0.748816   0.126450    0.259829         0.366920   0.391346  0.146944"
      ]
     },
     "execution_count": 36,
     "metadata": {},
     "output_type": "execute_result"
    }
   ],
   "source": [
    "X.head(5)"
   ]
  },
  {
   "cell_type": "code",
   "execution_count": 37,
   "metadata": {},
   "outputs": [
    {
     "name": "stdout",
     "output_type": "stream",
     "text": [
      "Estimated intercept coefficient: -0.116248\n",
      "Number of coefficients: 6\n"
     ]
    }
   ],
   "source": [
    "# Firstly use Linear Regression\n",
    "from sklearn.linear_model import LinearRegression\n",
    "lm = LinearRegression()\n",
    "lm.fit(X, Y.Crime_Rate)\n",
    "print('Estimated intercept coefficient: {:f}'.format(lm.intercept_))\n",
    "print('Number of coefficients: {}'.format(len(lm.coef_)))"
   ]
  },
  {
   "cell_type": "code",
   "execution_count": 72,
   "metadata": {},
   "outputs": [
    {
     "data": {
      "text/html": [
       "<div>\n",
       "<style scoped>\n",
       "    .dataframe tbody tr th:only-of-type {\n",
       "        vertical-align: middle;\n",
       "    }\n",
       "\n",
       "    .dataframe tbody tr th {\n",
       "        vertical-align: top;\n",
       "    }\n",
       "\n",
       "    .dataframe thead th {\n",
       "        text-align: right;\n",
       "    }\n",
       "</style>\n",
       "<table border=\"1\" class=\"dataframe\">\n",
       "  <thead>\n",
       "    <tr style=\"text-align: right;\">\n",
       "      <th></th>\n",
       "      <th>features</th>\n",
       "      <th>estimatedCoefficients</th>\n",
       "    </tr>\n",
       "  </thead>\n",
       "  <tbody>\n",
       "    <tr>\n",
       "      <th>0</th>\n",
       "      <td>HS_RATE</td>\n",
       "      <td>0.280622</td>\n",
       "    </tr>\n",
       "    <tr>\n",
       "      <th>1</th>\n",
       "      <td>BACH_RATE</td>\n",
       "      <td>-0.465539</td>\n",
       "    </tr>\n",
       "    <tr>\n",
       "      <th>2</th>\n",
       "      <td>UNEMP_RATE</td>\n",
       "      <td>0.778362</td>\n",
       "    </tr>\n",
       "    <tr>\n",
       "      <th>3</th>\n",
       "      <td>OWN_OCC_HU_RATE</td>\n",
       "      <td>-0.514992</td>\n",
       "    </tr>\n",
       "    <tr>\n",
       "      <th>4</th>\n",
       "      <td>MED_AGE_N</td>\n",
       "      <td>0.216100</td>\n",
       "    </tr>\n",
       "    <tr>\n",
       "      <th>5</th>\n",
       "      <td>MEDINC_N</td>\n",
       "      <td>0.854811</td>\n",
       "    </tr>\n",
       "  </tbody>\n",
       "</table>\n",
       "</div>"
      ],
      "text/plain": [
       "          features  estimatedCoefficients\n",
       "0          HS_RATE               0.280622\n",
       "1        BACH_RATE              -0.465539\n",
       "2       UNEMP_RATE               0.778362\n",
       "3  OWN_OCC_HU_RATE              -0.514992\n",
       "4        MED_AGE_N               0.216100\n",
       "5         MEDINC_N               0.854811"
      ]
     },
     "execution_count": 72,
     "metadata": {},
     "output_type": "execute_result"
    }
   ],
   "source": [
    "# The coefficients for all features\n",
    "pd.DataFrame({'features': X.columns, 'estimatedCoefficients': lm.coef_})[['features', 'estimatedCoefficients']]"
   ]
  },
  {
   "cell_type": "code",
   "execution_count": 38,
   "metadata": {},
   "outputs": [
    {
     "data": {
      "image/png": "[encoded data removed]",
      "text/plain": [
       "<Figure size 432x288 with 1 Axes>"
      ]
     },
     "metadata": {},
     "output_type": "display_data"
    }
   ],
   "source": [
    "# predict with the orginal training data\n",
    "predicted_crime_rate = lm.predict(X)\n",
    "\n",
    "# produce a histogram for the predicted Crime Rate\n",
    "plt.hist(predicted_crime_rate, bins=30)\n",
    "plt.title(\"Histogram\")\n",
    "plt.xlabel(\"Predicted Crime Rate\")\n",
    "plt.ylabel(\"Frequency\")\n",
    "\n",
    "# draw the mean value of the predicted mean\n",
    "plt.axvline(predicted_crime_rate.mean(), color='r', linestyle='dotted', linewidth=2)\n",
    "plt.show()"
   ]
  },
  {
   "cell_type": "code",
   "execution_count": 39,
   "metadata": {},
   "outputs": [
    {
     "data": {
      "image/png": "[encoded data removed]",
      "text/plain": [
       "<Figure size 432x288 with 1 Axes>"
      ]
     },
     "metadata": {},
     "output_type": "display_data"
    }
   ],
   "source": [
    "# Compare the orginal Crime Rate and the predicted Crime Rate\n",
    "plt.scatter(Y.Crime_Rate, predicted_crime_rate, color='blue', s=20)\n",
    "plt.title(\"Crime Rate vs Predicted Crime Rate\")\n",
    "plt.xlabel(\"Actual Crime Rate\")\n",
    "plt.ylabel(\"Predicted Crime Rate\")\n",
    "\n",
    "# draw a line for perfect match\n",
    "plt.plot(Y.Crime_Rate, Y.Crime_Rate, color='r', linestyle='dotted', linewidth=1 )\n",
    "plt.show()"
   ]
  },
  {
   "cell_type": "code",
   "execution_count": 40,
   "metadata": {},
   "outputs": [
    {
     "name": "stdout",
     "output_type": "stream",
     "text": [
      "R-squared:0.759864\n"
     ]
    }
   ],
   "source": [
    "# Evaluating the Model: the coefficient of determination (R2)\n",
    "R2 = lm.score(X, Y.Crime_Rate)\n",
    "print('R-squared:{:f}'.format(R2))"
   ]
  },
  {
   "cell_type": "code",
   "execution_count": 41,
   "metadata": {},
   "outputs": [
    {
     "name": "stdout",
     "output_type": "stream",
     "text": [
      "F-statistic: 44.300176\n"
     ]
    }
   ],
   "source": [
    "number_obs = Y.Crime_Rate.count()\n",
    "F = (R2/(1-R2))*( number_obs - 6 - 1 )/5\n",
    "print ('F-statistic: {:f}'.format(F))"
   ]
  },
  {
   "cell_type": "code",
   "execution_count": 42,
   "metadata": {},
   "outputs": [
    {
     "name": "stdout",
     "output_type": "stream",
     "text": [
      "[0.58752454 0.824689   0.19062981 0.54555085 0.50916479]\n",
      "Average cross validation score = 0.531512\n"
     ]
    }
   ],
   "source": [
    "#cross validation\n",
    "from sklearn.model_selection import cross_val_score\n",
    "# Perform 5-fold CV\n",
    "cv_results = cross_val_score(lm, X, Y.Crime_Rate, cv=5 )\n",
    "print(cv_results)\n",
    "print('Average cross validation score = {:f}'.format(np.mean(cv_results)))"
   ]
  },
  {
   "cell_type": "markdown",
   "metadata": {},
   "source": [
    "#### Observations:\n",
    "- After putting all features together, the High School Diploma or Higher Rate has positive correlation with the Crime Rate.\n",
    "- After putting all features together, the Median Income has positive correclation with the Crime Rate. If considered independently, both have strong negative relationship.\n",
    "- The histogram of the predicated crime rate is not a bell shaped curve. It is skewed largely to the right.\n",
    "- Based on the scatter plot between the actual Crime Rates and the predicated Crime Rates , it seems that the model works well.\n",
    "- R-squared is a statistical measure of how close the data is to the regression line. In this case, about 75.99% of the Crime Rate change can be explained by these six variables or features.\n",
    "- F-statistic indicates that the model is overall statistically significant.\n",
    "- Through the cross validation, the average score is 0.53. By checking the results, the score varies largely probably because of the small data volume."
   ]
  },
  {
   "cell_type": "code",
   "execution_count": 43,
   "metadata": {},
   "outputs": [
    {
     "data": {
      "text/html": [
       "<div>\n",
       "<style scoped>\n",
       "    .dataframe tbody tr th:only-of-type {\n",
       "        vertical-align: middle;\n",
       "    }\n",
       "\n",
       "    .dataframe tbody tr th {\n",
       "        vertical-align: top;\n",
       "    }\n",
       "\n",
       "    .dataframe thead th {\n",
       "        text-align: right;\n",
       "    }\n",
       "</style>\n",
       "<table border=\"1\" class=\"dataframe\">\n",
       "  <thead>\n",
       "    <tr style=\"text-align: right;\">\n",
       "      <th></th>\n",
       "      <th>HS_RATE</th>\n",
       "      <th>BACH_RATE</th>\n",
       "      <th>UNEMP_RATE</th>\n",
       "      <th>OWN_OCC_HU_RATE</th>\n",
       "      <th>MED_AGE_N</th>\n",
       "      <th>MEDINC_N</th>\n",
       "    </tr>\n",
       "  </thead>\n",
       "  <tbody>\n",
       "    <tr>\n",
       "      <th>count</th>\n",
       "      <td>77.000000</td>\n",
       "      <td>77.000000</td>\n",
       "      <td>77.000000</td>\n",
       "      <td>77.000000</td>\n",
       "      <td>77.000000</td>\n",
       "      <td>77.000000</td>\n",
       "    </tr>\n",
       "    <tr>\n",
       "      <th>mean</th>\n",
       "      <td>0.729561</td>\n",
       "      <td>0.263865</td>\n",
       "      <td>0.149045</td>\n",
       "      <td>0.415369</td>\n",
       "      <td>0.350922</td>\n",
       "      <td>0.235841</td>\n",
       "    </tr>\n",
       "    <tr>\n",
       "      <th>std</th>\n",
       "      <td>0.108566</td>\n",
       "      <td>0.190725</td>\n",
       "      <td>0.082832</td>\n",
       "      <td>0.185821</td>\n",
       "      <td>0.048218</td>\n",
       "      <td>0.105358</td>\n",
       "    </tr>\n",
       "    <tr>\n",
       "      <th>min</th>\n",
       "      <td>0.419851</td>\n",
       "      <td>0.034767</td>\n",
       "      <td>0.036669</td>\n",
       "      <td>0.073791</td>\n",
       "      <td>0.205975</td>\n",
       "      <td>0.074228</td>\n",
       "    </tr>\n",
       "    <tr>\n",
       "      <th>25%</th>\n",
       "      <td>0.647942</td>\n",
       "      <td>0.109592</td>\n",
       "      <td>0.087322</td>\n",
       "      <td>0.300247</td>\n",
       "      <td>0.313922</td>\n",
       "      <td>0.153503</td>\n",
       "    </tr>\n",
       "    <tr>\n",
       "      <th>50%</th>\n",
       "      <td>0.748816</td>\n",
       "      <td>0.200800</td>\n",
       "      <td>0.131582</td>\n",
       "      <td>0.367214</td>\n",
       "      <td>0.347002</td>\n",
       "      <td>0.217105</td>\n",
       "    </tr>\n",
       "    <tr>\n",
       "      <th>75%</th>\n",
       "      <td>0.815355</td>\n",
       "      <td>0.360272</td>\n",
       "      <td>0.214679</td>\n",
       "      <td>0.521871</td>\n",
       "      <td>0.379344</td>\n",
       "      <td>0.298687</td>\n",
       "    </tr>\n",
       "    <tr>\n",
       "      <th>max</th>\n",
       "      <td>0.904365</td>\n",
       "      <td>0.722836</td>\n",
       "      <td>0.407990</td>\n",
       "      <td>0.831542</td>\n",
       "      <td>0.467294</td>\n",
       "      <td>0.507793</td>\n",
       "    </tr>\n",
       "  </tbody>\n",
       "</table>\n",
       "</div>"
      ],
      "text/plain": [
       "         HS_RATE  BACH_RATE  UNEMP_RATE  OWN_OCC_HU_RATE  MED_AGE_N   MEDINC_N\n",
       "count  77.000000  77.000000   77.000000        77.000000  77.000000  77.000000\n",
       "mean    0.729561   0.263865    0.149045         0.415369   0.350922   0.235841\n",
       "std     0.108566   0.190725    0.082832         0.185821   0.048218   0.105358\n",
       "min     0.419851   0.034767    0.036669         0.073791   0.205975   0.074228\n",
       "25%     0.647942   0.109592    0.087322         0.300247   0.313922   0.153503\n",
       "50%     0.748816   0.200800    0.131582         0.367214   0.347002   0.217105\n",
       "75%     0.815355   0.360272    0.214679         0.521871   0.379344   0.298687\n",
       "max     0.904365   0.722836    0.407990         0.831542   0.467294   0.507793"
      ]
     },
     "execution_count": 43,
     "metadata": {},
     "output_type": "execute_result"
    }
   ],
   "source": [
    "X.describe()"
   ]
  },
  {
   "cell_type": "code",
   "execution_count": 27,
   "metadata": {},
   "outputs": [],
   "source": [
    "# from DataCamp - display the relationship between CV Score +/- Std Error and Alpha for Ridge Regression\n",
    "def display_plot(cv_scores, cv_scores_std):\n",
    "    fig = plt.figure()\n",
    "    ax = fig.add_subplot(1,1,1)\n",
    "    ax.plot(alpha_space, cv_scores)\n",
    "\n",
    "    std_error = cv_scores_std / np.sqrt(10)\n",
    "\n",
    "    ax.fill_between(alpha_space, cv_scores + std_error, cv_scores - std_error, alpha=0.2)\n",
    "    ax.set_ylabel('CV Score +/- Std Error')\n",
    "    ax.set_xlabel('Alpha')\n",
    "    ax.axhline(np.max(cv_scores), linestyle='--', color='.5')\n",
    "    ax.set_xlim([alpha_space[0], alpha_space[-1]])\n",
    "    ax.set_xscale('log')\n",
    "    plt.show()"
   ]
  },
  {
   "cell_type": "code",
   "execution_count": 44,
   "metadata": {},
   "outputs": [
    {
     "data": {
      "image/png": "[encoded data removed]",
      "text/plain": [
       "<Figure size 432x288 with 1 Axes>"
      ]
     },
     "metadata": {},
     "output_type": "display_data"
    }
   ],
   "source": [
    "# Use the Ridge regression \n",
    "from sklearn.linear_model import Ridge\n",
    "from sklearn.model_selection import cross_val_score\n",
    "\n",
    "# Setup the array of alphas and lists to store scores\n",
    "alpha_space = np.logspace(-4, 0, 50)\n",
    "ridge_scores = []\n",
    "ridge_scores_std = []\n",
    "\n",
    "ridge = Ridge(normalize=True)\n",
    "\n",
    "y = Y.Crime_Rate\n",
    "for alpha in alpha_space:\n",
    "\n",
    "    # Specify the alpha value to use: ridge.alpha\n",
    "    ridge.alpha = alpha\n",
    "    \n",
    "    # Perform 10-fold CV: ridge_cv_scores\n",
    "    ridge_cv_scores = cross_val_score(ridge, X, y, cv=10 )\n",
    "    \n",
    "    # Append the mean of ridge_cv_scores to ridge_scores\n",
    "    ridge_scores.append(np.mean(ridge_cv_scores))\n",
    "    \n",
    "    # Append the std of ridge_cv_scores to ridge_scores_std\n",
    "    ridge_scores_std.append(np.std(ridge_cv_scores))\n",
    "\n",
    "# Display the plot\n",
    "display_plot(ridge_scores, ridge_scores_std)"
   ]
  },
  {
   "cell_type": "code",
   "execution_count": 45,
   "metadata": {},
   "outputs": [
    {
     "data": {
      "text/html": [
       "<div>\n",
       "<style scoped>\n",
       "    .dataframe tbody tr th:only-of-type {\n",
       "        vertical-align: middle;\n",
       "    }\n",
       "\n",
       "    .dataframe tbody tr th {\n",
       "        vertical-align: top;\n",
       "    }\n",
       "\n",
       "    .dataframe thead th {\n",
       "        text-align: right;\n",
       "    }\n",
       "</style>\n",
       "<table border=\"1\" class=\"dataframe\">\n",
       "  <thead>\n",
       "    <tr style=\"text-align: right;\">\n",
       "      <th></th>\n",
       "      <th>features</th>\n",
       "      <th>estimatedCoefficients</th>\n",
       "    </tr>\n",
       "  </thead>\n",
       "  <tbody>\n",
       "    <tr>\n",
       "      <th>0</th>\n",
       "      <td>HS_RATE</td>\n",
       "      <td>0.297241</td>\n",
       "    </tr>\n",
       "    <tr>\n",
       "      <th>1</th>\n",
       "      <td>BACH_RATE</td>\n",
       "      <td>-0.338422</td>\n",
       "    </tr>\n",
       "    <tr>\n",
       "      <th>2</th>\n",
       "      <td>UNEMP_RATE</td>\n",
       "      <td>0.828602</td>\n",
       "    </tr>\n",
       "    <tr>\n",
       "      <th>3</th>\n",
       "      <td>OWN_OCC_HU_RATE</td>\n",
       "      <td>-0.396490</td>\n",
       "    </tr>\n",
       "    <tr>\n",
       "      <th>4</th>\n",
       "      <td>MED_AGE_N</td>\n",
       "      <td>-0.035262</td>\n",
       "    </tr>\n",
       "    <tr>\n",
       "      <th>5</th>\n",
       "      <td>MEDINC_N</td>\n",
       "      <td>0.558467</td>\n",
       "    </tr>\n",
       "  </tbody>\n",
       "</table>\n",
       "</div>"
      ],
      "text/plain": [
       "          features  estimatedCoefficients\n",
       "0          HS_RATE               0.297241\n",
       "1        BACH_RATE              -0.338422\n",
       "2       UNEMP_RATE               0.828602\n",
       "3  OWN_OCC_HU_RATE              -0.396490\n",
       "4        MED_AGE_N              -0.035262\n",
       "5         MEDINC_N               0.558467"
      ]
     },
     "execution_count": 45,
     "metadata": {},
     "output_type": "execute_result"
    }
   ],
   "source": [
    "from sklearn.model_selection import train_test_split\n",
    "\n",
    "#Use alpha = 0.03 that seems the best from the above graph\n",
    "\n",
    "ridge = Ridge(alpha = 0.03, normalize=True)\n",
    "\n",
    "# split the data into the training set and test set\n",
    "X_train, X_test, y_train, y_test = train_test_split(X, Y.Crime_Rate, test_size = 0.25, random_state = 42)\n",
    "ridge.fit(X_train, y_train)\n",
    "# Display the estimated coefficients\n",
    "pd.DataFrame({'features': X.columns, 'estimatedCoefficients': ridge.coef_})[['features', 'estimatedCoefficients']]"
   ]
  },
  {
   "cell_type": "code",
   "execution_count": 46,
   "metadata": {},
   "outputs": [
    {
     "name": "stdout",
     "output_type": "stream",
     "text": [
      "0.7840902944929365\n"
     ]
    }
   ],
   "source": [
    "# predict with the test set\n",
    "\n",
    "predicted_crime_rate = ridge.predict(X_test)\n",
    "print(ridge.score(X_test, y_test))"
   ]
  },
  {
   "cell_type": "code",
   "execution_count": 47,
   "metadata": {},
   "outputs": [
    {
     "data": {
      "image/png": "[encoded data removed]",
      "text/plain": [
       "<Figure size 432x288 with 1 Axes>"
      ]
     },
     "metadata": {},
     "output_type": "display_data"
    }
   ],
   "source": [
    "# Compare the orginal Crime Rate and the predicted Crime Rate for both training set and test set\n",
    "plt.scatter(y_train, ridge.predict(X_train), color = 'blue', s=20, label = 'Train data')\n",
    "plt.scatter(y_test, ridge.predict(X_test), color = 'green', s=20, label = 'Test data')\n",
    "plt.title(\"Actual Crime Rate vs Predicted Crime Rate\")\n",
    "plt.xlabel(\"Actual Crime Rate\")\n",
    "plt.ylabel(\"Predicated Crime Rate\")\n",
    "plt.legend( loc = 'upper right')\n",
    "\n",
    "# draw a line for perfect match\n",
    "plt.plot(Y.Crime_Rate, Y.Crime_Rate, color='r', linestyle='dotted', linewidth=1 )\n",
    "plt.show()"
   ]
  },
  {
   "cell_type": "code",
   "execution_count": 82,
   "metadata": {},
   "outputs": [
    {
     "name": "stdout",
     "output_type": "stream",
     "text": [
      "Estimated intercept coefficient: -0.054676\n"
     ]
    }
   ],
   "source": [
    "print('Estimated intercept coefficient: {:f}'.format(ridge.intercept_))"
   ]
  },
  {
   "cell_type": "code",
   "execution_count": 49,
   "metadata": {},
   "outputs": [
    {
     "name": "stdout",
     "output_type": "stream",
     "text": [
      "[0.69274765 0.79999792 0.40765601 0.5929476  0.44038259]\n",
      "Average cross validation score = 0.586746\n"
     ]
    }
   ],
   "source": [
    "#cross validation - # Perform 5-fold CV\n",
    "cv_results = cross_val_score(ridge, X, Y.Crime_Rate, cv=5 )\n",
    "print(cv_results)\n",
    "print('Average cross validation score = {:f}'.format(np.mean(cv_results)))"
   ]
  },
  {
   "cell_type": "code",
   "execution_count": 50,
   "metadata": {
    "scrolled": true
   },
   "outputs": [
    {
     "data": {
      "image/png": "[encoded data removed]",
      "text/plain": [
       "<Figure size 432x288 with 1 Axes>"
      ]
     },
     "metadata": {},
     "output_type": "display_data"
    }
   ],
   "source": [
    "# Display residual errors for both the training and test sets\n",
    "plt.scatter(ridge.predict(X_train), ridge.predict(X_train) - y_train, color = 'blue', s=20, label = 'Train data')\n",
    "            \n",
    "plt.scatter(ridge.predict(X_test), ridge.predict(X_test) - y_test, color = 'green', s=20, label = 'Test data')\n",
    "\n",
    "plt.hlines( y = 0, xmin = 0, xmax = 0.6, linewidth =1)\n",
    "plt.legend( loc = 'upper right')\n",
    "plt.title('Residual Errors')\n",
    "plt.xlabel(\"Predicated Crime Rate\")\n",
    "plt.ylabel(\"Error\")\n",
    "plt.show()"
   ]
  },
  {
   "cell_type": "markdown",
   "metadata": {},
   "source": [
    "#### Observations:\n",
    "- In comparison with LinearRegression, the Ridge regression seemingly performs better. For example, for the 5-fold cross validation, the scores for the former vary from 0.19063 to 0.82469 and the same for the latter vary from 0.40766 to 0.80000. The latter is more consistent. In addition, the mean score for the latter is also higher. We should use the results from the Ridge regression."
   ]
  },
  {
   "cell_type": "code",
   "execution_count": 51,
   "metadata": {},
   "outputs": [
    {
     "data": {
      "text/html": [
       "<div>\n",
       "<style scoped>\n",
       "    .dataframe tbody tr th:only-of-type {\n",
       "        vertical-align: middle;\n",
       "    }\n",
       "\n",
       "    .dataframe tbody tr th {\n",
       "        vertical-align: top;\n",
       "    }\n",
       "\n",
       "    .dataframe thead th {\n",
       "        text-align: right;\n",
       "    }\n",
       "</style>\n",
       "<table border=\"1\" class=\"dataframe\">\n",
       "  <thead>\n",
       "    <tr style=\"text-align: right;\">\n",
       "      <th></th>\n",
       "      <th>features</th>\n",
       "      <th>estimatedCoefficients</th>\n",
       "    </tr>\n",
       "  </thead>\n",
       "  <tbody>\n",
       "    <tr>\n",
       "      <th>0</th>\n",
       "      <td>HS_RATE</td>\n",
       "      <td>-0.000000</td>\n",
       "    </tr>\n",
       "    <tr>\n",
       "      <th>1</th>\n",
       "      <td>BACH_RATE</td>\n",
       "      <td>-0.000000</td>\n",
       "    </tr>\n",
       "    <tr>\n",
       "      <th>2</th>\n",
       "      <td>UNEMP_RATE</td>\n",
       "      <td>4.683478</td>\n",
       "    </tr>\n",
       "    <tr>\n",
       "      <th>3</th>\n",
       "      <td>OWN_OCC_HU_RATE</td>\n",
       "      <td>-0.876674</td>\n",
       "    </tr>\n",
       "    <tr>\n",
       "      <th>4</th>\n",
       "      <td>MED_AGE_N</td>\n",
       "      <td>-0.000000</td>\n",
       "    </tr>\n",
       "    <tr>\n",
       "      <th>5</th>\n",
       "      <td>MEDINC_N</td>\n",
       "      <td>-0.000000</td>\n",
       "    </tr>\n",
       "  </tbody>\n",
       "</table>\n",
       "</div>"
      ],
      "text/plain": [
       "          features  estimatedCoefficients\n",
       "0          HS_RATE              -0.000000\n",
       "1        BACH_RATE              -0.000000\n",
       "2       UNEMP_RATE               4.683478\n",
       "3  OWN_OCC_HU_RATE              -0.876674\n",
       "4        MED_AGE_N              -0.000000\n",
       "5         MEDINC_N              -0.000000"
      ]
     },
     "execution_count": 51,
     "metadata": {},
     "output_type": "execute_result"
    }
   ],
   "source": [
    "# Use the Lasso regression to figure out most important features\n",
    "from sklearn.linear_model import Lasso\n",
    "lasso = Lasso(alpha = 0.01, normalize=True)\n",
    "\n",
    "# with Crime Rate, all of estimated coefficients return 0. So here use the log version of the Crime Rate\n",
    "lasso.fit(X, Y.Crime_Rate_Log)\n",
    "pd.DataFrame({'features': X.columns, 'estimatedCoefficients': lasso.coef_})[['features', 'estimatedCoefficients']]"
   ]
  },
  {
   "cell_type": "code",
   "execution_count": 81,
   "metadata": {},
   "outputs": [
    {
     "data": {
      "image/png": "[encoded data removed]",
      "text/plain": [
       "<Figure size 432x288 with 1 Axes>"
      ]
     },
     "metadata": {},
     "output_type": "display_data"
    }
   ],
   "source": [
    "# Plot the features and their estimated coefficients with the Lasso regression\n",
    "plt.plot(range(len(X.columns)), lasso.coef_)\n",
    "plt.xticks(range(len(X.columns)), X.columns.values, rotation=60)\n",
    "plt.margins(0.02)\n",
    "plt.title('Features vs Estimated Coefficients')\n",
    "#plt.xlabel(\"Features\")\n",
    "plt.ylabel(\"Estimated Coefficients\")\n",
    "plt.show()"
   ]
  },
  {
   "cell_type": "code",
   "execution_count": 53,
   "metadata": {},
   "outputs": [
    {
     "data": {
      "text/plain": [
       "array(['HS_RATE', 'BACH_RATE', 'UNEMP_RATE', 'OWN_OCC_HU_RATE',\n",
       "       'MED_AGE_N', 'MEDINC_N'], dtype=object)"
      ]
     },
     "execution_count": 53,
     "metadata": {},
     "output_type": "execute_result"
    }
   ],
   "source": [
    "X.columns.values"
   ]
  },
  {
   "cell_type": "markdown",
   "metadata": {},
   "source": [
    "#### Observations\n",
    "\n",
    "-The Unemployment Rate is the dominant feature in determining the Crime Rate, and the House/Apartment Owning Rate is the second import feature impacting the crime rate. \n"
   ]
  },
  {
   "cell_type": "markdown",
   "metadata": {},
   "source": [
    "## Clustering"
   ]
  },
  {
   "cell_type": "code",
   "execution_count": 54,
   "metadata": {},
   "outputs": [
    {
     "data": {
      "text/html": [
       "<div>\n",
       "<style scoped>\n",
       "    .dataframe tbody tr th:only-of-type {\n",
       "        vertical-align: middle;\n",
       "    }\n",
       "\n",
       "    .dataframe tbody tr th {\n",
       "        vertical-align: top;\n",
       "    }\n",
       "\n",
       "    .dataframe thead th {\n",
       "        text-align: right;\n",
       "    }\n",
       "</style>\n",
       "<table border=\"1\" class=\"dataframe\">\n",
       "  <thead>\n",
       "    <tr style=\"text-align: right;\">\n",
       "      <th></th>\n",
       "      <th>HS_RATE</th>\n",
       "      <th>BACH_RATE</th>\n",
       "      <th>UNEMP_RATE</th>\n",
       "      <th>OWN_OCC_HU_RATE</th>\n",
       "      <th>MED_AGE_N</th>\n",
       "      <th>MEDINC_N</th>\n",
       "    </tr>\n",
       "  </thead>\n",
       "  <tbody>\n",
       "    <tr>\n",
       "      <th>count</th>\n",
       "      <td>77.000000</td>\n",
       "      <td>77.000000</td>\n",
       "      <td>77.000000</td>\n",
       "      <td>77.000000</td>\n",
       "      <td>77.000000</td>\n",
       "      <td>77.000000</td>\n",
       "    </tr>\n",
       "    <tr>\n",
       "      <th>mean</th>\n",
       "      <td>0.729561</td>\n",
       "      <td>0.263865</td>\n",
       "      <td>0.149045</td>\n",
       "      <td>0.415369</td>\n",
       "      <td>0.350922</td>\n",
       "      <td>0.235841</td>\n",
       "    </tr>\n",
       "    <tr>\n",
       "      <th>std</th>\n",
       "      <td>0.108566</td>\n",
       "      <td>0.190725</td>\n",
       "      <td>0.082832</td>\n",
       "      <td>0.185821</td>\n",
       "      <td>0.048218</td>\n",
       "      <td>0.105358</td>\n",
       "    </tr>\n",
       "    <tr>\n",
       "      <th>min</th>\n",
       "      <td>0.419851</td>\n",
       "      <td>0.034767</td>\n",
       "      <td>0.036669</td>\n",
       "      <td>0.073791</td>\n",
       "      <td>0.205975</td>\n",
       "      <td>0.074228</td>\n",
       "    </tr>\n",
       "    <tr>\n",
       "      <th>25%</th>\n",
       "      <td>0.647942</td>\n",
       "      <td>0.109592</td>\n",
       "      <td>0.087322</td>\n",
       "      <td>0.300247</td>\n",
       "      <td>0.313922</td>\n",
       "      <td>0.153503</td>\n",
       "    </tr>\n",
       "    <tr>\n",
       "      <th>50%</th>\n",
       "      <td>0.748816</td>\n",
       "      <td>0.200800</td>\n",
       "      <td>0.131582</td>\n",
       "      <td>0.367214</td>\n",
       "      <td>0.347002</td>\n",
       "      <td>0.217105</td>\n",
       "    </tr>\n",
       "    <tr>\n",
       "      <th>75%</th>\n",
       "      <td>0.815355</td>\n",
       "      <td>0.360272</td>\n",
       "      <td>0.214679</td>\n",
       "      <td>0.521871</td>\n",
       "      <td>0.379344</td>\n",
       "      <td>0.298687</td>\n",
       "    </tr>\n",
       "    <tr>\n",
       "      <th>max</th>\n",
       "      <td>0.904365</td>\n",
       "      <td>0.722836</td>\n",
       "      <td>0.407990</td>\n",
       "      <td>0.831542</td>\n",
       "      <td>0.467294</td>\n",
       "      <td>0.507793</td>\n",
       "    </tr>\n",
       "  </tbody>\n",
       "</table>\n",
       "</div>"
      ],
      "text/plain": [
       "         HS_RATE  BACH_RATE  UNEMP_RATE  OWN_OCC_HU_RATE  MED_AGE_N   MEDINC_N\n",
       "count  77.000000  77.000000   77.000000        77.000000  77.000000  77.000000\n",
       "mean    0.729561   0.263865    0.149045         0.415369   0.350922   0.235841\n",
       "std     0.108566   0.190725    0.082832         0.185821   0.048218   0.105358\n",
       "min     0.419851   0.034767    0.036669         0.073791   0.205975   0.074228\n",
       "25%     0.647942   0.109592    0.087322         0.300247   0.313922   0.153503\n",
       "50%     0.748816   0.200800    0.131582         0.367214   0.347002   0.217105\n",
       "75%     0.815355   0.360272    0.214679         0.521871   0.379344   0.298687\n",
       "max     0.904365   0.722836    0.407990         0.831542   0.467294   0.507793"
      ]
     },
     "execution_count": 54,
     "metadata": {},
     "output_type": "execute_result"
    }
   ],
   "source": [
    "X.describe()"
   ]
  },
  {
   "cell_type": "code",
   "execution_count": 55,
   "metadata": {},
   "outputs": [
    {
     "data": {
      "image/png": "[encoded data removed]",
      "text/plain": [
       "<Figure size 432x288 with 1 Axes>"
      ]
     },
     "metadata": {},
     "output_type": "display_data"
    }
   ],
   "source": [
    "# In this plot, identify the optimized number of clusters\n",
    "from sklearn.cluster import KMeans\n",
    "ks = range(1,10)\n",
    "inertias =[]\n",
    "\n",
    "for k in ks:\n",
    "    kms = KMeans(n_clusters = k)\n",
    "    kms.fit(X)\n",
    "    inertias.append(kms.inertia_)\n",
    "    \n",
    "plt.plot(ks, inertias, '-o')\n",
    "plt.xlabel( 'number of clusters, k')\n",
    "plt.ylabel( 'inertia')\n",
    "plt.xticks(ks)\n",
    "plt.show()"
   ]
  },
  {
   "cell_type": "code",
   "execution_count": 56,
   "metadata": {},
   "outputs": [],
   "source": [
    "from sklearn.preprocessing import StandardScaler\n",
    "from sklearn.pipeline import make_pipeline\n",
    "\n",
    "# use standardization because each feature has different mean and variance\n",
    "scaler = StandardScaler()\n",
    "# after some tries, use 7 based on the above analysis\n",
    "km = KMeans(n_clusters=7)\n",
    "\n",
    "pipeline = make_pipeline(scaler, km)\n",
    "pipeline.fit(X)\n",
    "\n",
    "labels = pipeline.predict(X)"
   ]
  },
  {
   "cell_type": "code",
   "execution_count": 57,
   "metadata": {},
   "outputs": [
    {
     "name": "stdout",
     "output_type": "stream",
     "text": [
      "[[-1.51046734 -0.81908388 -0.06335841  0.08881311 -0.86964037 -0.37349912]\n",
      " [ 0.32937053  0.50387293 -0.66254231 -0.2703412   0.1464509  -0.01572733]\n",
      " [ 1.00220126  1.95800795 -1.09622186 -0.2793047  -0.54324222  1.48207376]\n",
      " [ 1.43431298  0.89084334 -1.02098433  1.94716076  1.32489752  1.94514056]\n",
      " [ 0.57548168 -0.25030786 -0.24070892  1.29522504  1.13532865  0.39026469]\n",
      " [ 0.00730154 -0.4916208   0.90244367 -0.56557656  0.48770672 -0.83933388]\n",
      " [-0.61701711 -0.89689924  1.64709045 -1.27863868 -1.27459917 -1.2023494 ]]\n"
     ]
    }
   ],
   "source": [
    "centroids = km.cluster_centers_\n",
    "print (centroids)"
   ]
  },
  {
   "cell_type": "code",
   "execution_count": 58,
   "metadata": {},
   "outputs": [],
   "source": [
    "# Combine the labels and the Crime Rate\n",
    "results = pd.DataFrame({'Label': labels, 'Crime_Rate':Y.Crime_Rate})"
   ]
  },
  {
   "cell_type": "code",
   "execution_count": 60,
   "metadata": {},
   "outputs": [
    {
     "data": {
      "image/png": "[encoded data removed]",
      "text/plain": [
       "<Figure size 432x288 with 1 Axes>"
      ]
     },
     "metadata": {},
     "output_type": "display_data"
    }
   ],
   "source": [
    "# Use box plot to view the Crime Rate distribution by newly produced labels\n",
    "\n",
    "results.boxplot(column='Crime_Rate', by = 'Label')\n",
    "#sns.boxplot(y='Crime_Rate', x ='Label', data=results)\n",
    "plt.title(\"Actual Crime Rate group by Clusters\")\n",
    "plt.suptitle('') # Remove the automatic title\n",
    "plt.xlabel(\"Cluster Label\")\n",
    "plt.ylabel(\"Crime Rate\")\n",
    "plt.show()"
   ]
  },
  {
   "cell_type": "code",
   "execution_count": 62,
   "metadata": {},
   "outputs": [
    {
     "data": {
      "text/html": [
       "<div>\n",
       "<style scoped>\n",
       "    .dataframe tbody tr th:only-of-type {\n",
       "        vertical-align: middle;\n",
       "    }\n",
       "\n",
       "    .dataframe tbody tr th {\n",
       "        vertical-align: top;\n",
       "    }\n",
       "\n",
       "    .dataframe thead th {\n",
       "        text-align: right;\n",
       "    }\n",
       "</style>\n",
       "<table border=\"1\" class=\"dataframe\">\n",
       "  <thead>\n",
       "    <tr style=\"text-align: right;\">\n",
       "      <th></th>\n",
       "      <th>Label</th>\n",
       "      <th>Crime_Rate</th>\n",
       "      <th>Community_Area</th>\n",
       "      <th>GEOG</th>\n",
       "    </tr>\n",
       "  </thead>\n",
       "  <tbody>\n",
       "    <tr>\n",
       "      <th>2</th>\n",
       "      <td>5</td>\n",
       "      <td>0.096023</td>\n",
       "      <td>34</td>\n",
       "      <td>Armour Square</td>\n",
       "    </tr>\n",
       "    <tr>\n",
       "      <th>61</th>\n",
       "      <td>5</td>\n",
       "      <td>0.255841</td>\n",
       "      <td>46</td>\n",
       "      <td>South Chicago</td>\n",
       "    </tr>\n",
       "    <tr>\n",
       "      <th>60</th>\n",
       "      <td>5</td>\n",
       "      <td>0.211537</td>\n",
       "      <td>49</td>\n",
       "      <td>Roseland</td>\n",
       "    </tr>\n",
       "    <tr>\n",
       "      <th>57</th>\n",
       "      <td>5</td>\n",
       "      <td>0.207847</td>\n",
       "      <td>50</td>\n",
       "      <td>Pullman</td>\n",
       "    </tr>\n",
       "    <tr>\n",
       "      <th>55</th>\n",
       "      <td>5</td>\n",
       "      <td>0.147580</td>\n",
       "      <td>36</td>\n",
       "      <td>Oakland</td>\n",
       "    </tr>\n",
       "    <tr>\n",
       "      <th>73</th>\n",
       "      <td>5</td>\n",
       "      <td>0.200366</td>\n",
       "      <td>53</td>\n",
       "      <td>West Pullman</td>\n",
       "    </tr>\n",
       "    <tr>\n",
       "      <th>29</th>\n",
       "      <td>5</td>\n",
       "      <td>0.289326</td>\n",
       "      <td>69</td>\n",
       "      <td>Greater Grand Crossing</td>\n",
       "    </tr>\n",
       "    <tr>\n",
       "      <th>62</th>\n",
       "      <td>5</td>\n",
       "      <td>0.174197</td>\n",
       "      <td>51</td>\n",
       "      <td>South Deering</td>\n",
       "    </tr>\n",
       "    <tr>\n",
       "      <th>28</th>\n",
       "      <td>5</td>\n",
       "      <td>0.189957</td>\n",
       "      <td>38</td>\n",
       "      <td>Grand Boulevard</td>\n",
       "    </tr>\n",
       "    <tr>\n",
       "      <th>17</th>\n",
       "      <td>5</td>\n",
       "      <td>0.152931</td>\n",
       "      <td>35</td>\n",
       "      <td>Douglas</td>\n",
       "    </tr>\n",
       "    <tr>\n",
       "      <th>14</th>\n",
       "      <td>5</td>\n",
       "      <td>0.248764</td>\n",
       "      <td>44</td>\n",
       "      <td>Chatham</td>\n",
       "    </tr>\n",
       "    <tr>\n",
       "      <th>12</th>\n",
       "      <td>5</td>\n",
       "      <td>0.205405</td>\n",
       "      <td>47</td>\n",
       "      <td>Burnside</td>\n",
       "    </tr>\n",
       "    <tr>\n",
       "      <th>5</th>\n",
       "      <td>5</td>\n",
       "      <td>0.245396</td>\n",
       "      <td>25</td>\n",
       "      <td>Austin</td>\n",
       "    </tr>\n",
       "    <tr>\n",
       "      <th>4</th>\n",
       "      <td>5</td>\n",
       "      <td>0.228634</td>\n",
       "      <td>71</td>\n",
       "      <td>Auburn Gresham</td>\n",
       "    </tr>\n",
       "    <tr>\n",
       "      <th>25</th>\n",
       "      <td>5</td>\n",
       "      <td>0.419241</td>\n",
       "      <td>37</td>\n",
       "      <td>Fuller Park</td>\n",
       "    </tr>\n",
       "    <tr>\n",
       "      <th>64</th>\n",
       "      <td>5</td>\n",
       "      <td>0.236840</td>\n",
       "      <td>43</td>\n",
       "      <td>South Shore</td>\n",
       "    </tr>\n",
       "    <tr>\n",
       "      <th>70</th>\n",
       "      <td>6</td>\n",
       "      <td>0.317384</td>\n",
       "      <td>67</td>\n",
       "      <td>West Englewood</td>\n",
       "    </tr>\n",
       "    <tr>\n",
       "      <th>71</th>\n",
       "      <td>6</td>\n",
       "      <td>0.502303</td>\n",
       "      <td>26</td>\n",
       "      <td>West Garfield Park</td>\n",
       "    </tr>\n",
       "    <tr>\n",
       "      <th>68</th>\n",
       "      <td>6</td>\n",
       "      <td>0.377099</td>\n",
       "      <td>40</td>\n",
       "      <td>Washington Park</td>\n",
       "    </tr>\n",
       "    <tr>\n",
       "      <th>51</th>\n",
       "      <td>6</td>\n",
       "      <td>0.350840</td>\n",
       "      <td>29</td>\n",
       "      <td>North Lawndale</td>\n",
       "    </tr>\n",
       "    <tr>\n",
       "      <th>23</th>\n",
       "      <td>6</td>\n",
       "      <td>0.390983</td>\n",
       "      <td>68</td>\n",
       "      <td>Englewood</td>\n",
       "    </tr>\n",
       "    <tr>\n",
       "      <th>19</th>\n",
       "      <td>6</td>\n",
       "      <td>0.383683</td>\n",
       "      <td>27</td>\n",
       "      <td>East Garfield Park</td>\n",
       "    </tr>\n",
       "    <tr>\n",
       "      <th>58</th>\n",
       "      <td>6</td>\n",
       "      <td>0.321468</td>\n",
       "      <td>54</td>\n",
       "      <td>Riverdale</td>\n",
       "    </tr>\n",
       "    <tr>\n",
       "      <th>76</th>\n",
       "      <td>6</td>\n",
       "      <td>0.228956</td>\n",
       "      <td>42</td>\n",
       "      <td>Woodlawn</td>\n",
       "    </tr>\n",
       "  </tbody>\n",
       "</table>\n",
       "</div>"
      ],
      "text/plain": [
       "    Label  Crime_Rate  Community_Area                    GEOG\n",
       "2       5    0.096023              34           Armour Square\n",
       "61      5    0.255841              46           South Chicago\n",
       "60      5    0.211537              49                Roseland\n",
       "57      5    0.207847              50                 Pullman\n",
       "55      5    0.147580              36                 Oakland\n",
       "73      5    0.200366              53            West Pullman\n",
       "29      5    0.289326              69  Greater Grand Crossing\n",
       "62      5    0.174197              51           South Deering\n",
       "28      5    0.189957              38         Grand Boulevard\n",
       "17      5    0.152931              35                 Douglas\n",
       "14      5    0.248764              44                 Chatham\n",
       "12      5    0.205405              47                Burnside\n",
       "5       5    0.245396              25                  Austin\n",
       "4       5    0.228634              71          Auburn Gresham\n",
       "25      5    0.419241              37             Fuller Park\n",
       "64      5    0.236840              43             South Shore\n",
       "70      6    0.317384              67          West Englewood\n",
       "71      6    0.502303              26      West Garfield Park\n",
       "68      6    0.377099              40         Washington Park\n",
       "51      6    0.350840              29          North Lawndale\n",
       "23      6    0.390983              68               Englewood\n",
       "19      6    0.383683              27      East Garfield Park\n",
       "58      6    0.321468              54               Riverdale\n",
       "76      6    0.228956              42                Woodlawn"
      ]
     },
     "execution_count": 62,
     "metadata": {},
     "output_type": "execute_result"
    }
   ],
   "source": [
    "# Find out the relevant Community Areas by their names and IDs\n",
    "cluster_df = pd.DataFrame({'Label': labels, 'Crime_Rate':Y.Crime_Rate, \n",
    "                         'Community_Area':merged_df['Community_Area'], 'GEOG':merged_df['GEOG']})\n",
    "#print(cluster_df.sort_values(by = 'Labels'))\n",
    "#cluster_df_sort = cluster_df.sort_values(by = 'Labels')\n",
    "cluster_df[(cluster_df['Label'] == 5) | (cluster_df['Label'] == 6)].sort_values(by = 'Label')"
   ]
  },
  {
   "cell_type": "markdown",
   "metadata": {},
   "source": [
    "#### Observations:\n",
    "- Community Areas in the cluster labels #6 and #5 have highest average crime rate,  and these in labels #3 have the lowest.\n",
    "- If a Community Area falls in the cluster of #6 with its demographic information above, it is very likely to have a high crime rate. Suggest that the Chicago government pay attention to the Community Areas in this group."
   ]
  },
  {
   "cell_type": "code",
   "execution_count": 64,
   "metadata": {},
   "outputs": [
    {
     "data": {
      "text/html": [
       "<div>\n",
       "<style scoped>\n",
       "    .dataframe tbody tr th:only-of-type {\n",
       "        vertical-align: middle;\n",
       "    }\n",
       "\n",
       "    .dataframe tbody tr th {\n",
       "        vertical-align: top;\n",
       "    }\n",
       "\n",
       "    .dataframe thead th {\n",
       "        text-align: right;\n",
       "    }\n",
       "</style>\n",
       "<table border=\"1\" class=\"dataframe\">\n",
       "  <thead>\n",
       "    <tr style=\"text-align: right;\">\n",
       "      <th></th>\n",
       "      <th>Label</th>\n",
       "      <th>Crime_Rate</th>\n",
       "      <th>Community_Area</th>\n",
       "      <th>GEOG</th>\n",
       "      <th>HS_RATE</th>\n",
       "      <th>BACH_RATE</th>\n",
       "      <th>UNEMP_RATE</th>\n",
       "      <th>OWN_OCC_HU_RATE</th>\n",
       "      <th>MED_AGE_N</th>\n",
       "      <th>MEDINC_N</th>\n",
       "    </tr>\n",
       "  </thead>\n",
       "  <tbody>\n",
       "    <tr>\n",
       "      <th>71</th>\n",
       "      <td>6</td>\n",
       "      <td>0.502303</td>\n",
       "      <td>26</td>\n",
       "      <td>West Garfield Park</td>\n",
       "      <td>0.632334</td>\n",
       "      <td>0.034767</td>\n",
       "      <td>0.178452</td>\n",
       "      <td>0.180865</td>\n",
       "      <td>0.293777</td>\n",
       "      <td>0.119737</td>\n",
       "    </tr>\n",
       "    <tr>\n",
       "      <th>19</th>\n",
       "      <td>6</td>\n",
       "      <td>0.383683</td>\n",
       "      <td>27</td>\n",
       "      <td>East Garfield Park</td>\n",
       "      <td>0.676211</td>\n",
       "      <td>0.109561</td>\n",
       "      <td>0.203072</td>\n",
       "      <td>0.187849</td>\n",
       "      <td>0.297945</td>\n",
       "      <td>0.107410</td>\n",
       "    </tr>\n",
       "    <tr>\n",
       "      <th>51</th>\n",
       "      <td>6</td>\n",
       "      <td>0.350840</td>\n",
       "      <td>29</td>\n",
       "      <td>North Lawndale</td>\n",
       "      <td>0.629832</td>\n",
       "      <td>0.093318</td>\n",
       "      <td>0.233949</td>\n",
       "      <td>0.183501</td>\n",
       "      <td>0.285875</td>\n",
       "      <td>0.111917</td>\n",
       "    </tr>\n",
       "    <tr>\n",
       "      <th>68</th>\n",
       "      <td>6</td>\n",
       "      <td>0.377099</td>\n",
       "      <td>40</td>\n",
       "      <td>Washington Park</td>\n",
       "      <td>0.706870</td>\n",
       "      <td>0.148092</td>\n",
       "      <td>0.317697</td>\n",
       "      <td>0.119657</td>\n",
       "      <td>0.266263</td>\n",
       "      <td>0.110424</td>\n",
       "    </tr>\n",
       "    <tr>\n",
       "      <th>76</th>\n",
       "      <td>6</td>\n",
       "      <td>0.228956</td>\n",
       "      <td>42</td>\n",
       "      <td>Woodlawn</td>\n",
       "      <td>0.714008</td>\n",
       "      <td>0.200125</td>\n",
       "      <td>0.227969</td>\n",
       "      <td>0.159656</td>\n",
       "      <td>0.308638</td>\n",
       "      <td>0.119928</td>\n",
       "    </tr>\n",
       "    <tr>\n",
       "      <th>58</th>\n",
       "      <td>6</td>\n",
       "      <td>0.321468</td>\n",
       "      <td>54</td>\n",
       "      <td>Riverdale</td>\n",
       "      <td>0.617550</td>\n",
       "      <td>0.041667</td>\n",
       "      <td>0.407990</td>\n",
       "      <td>0.073791</td>\n",
       "      <td>0.205975</td>\n",
       "      <td>0.074228</td>\n",
       "    </tr>\n",
       "    <tr>\n",
       "      <th>70</th>\n",
       "      <td>6</td>\n",
       "      <td>0.317384</td>\n",
       "      <td>67</td>\n",
       "      <td>West Englewood</td>\n",
       "      <td>0.679337</td>\n",
       "      <td>0.069378</td>\n",
       "      <td>0.347623</td>\n",
       "      <td>0.354163</td>\n",
       "      <td>0.346516</td>\n",
       "      <td>0.136997</td>\n",
       "    </tr>\n",
       "    <tr>\n",
       "      <th>23</th>\n",
       "      <td>6</td>\n",
       "      <td>0.390983</td>\n",
       "      <td>68</td>\n",
       "      <td>Englewood</td>\n",
       "      <td>0.647942</td>\n",
       "      <td>0.054439</td>\n",
       "      <td>0.359956</td>\n",
       "      <td>0.175070</td>\n",
       "      <td>0.313922</td>\n",
       "      <td>0.099269</td>\n",
       "    </tr>\n",
       "  </tbody>\n",
       "</table>\n",
       "</div>"
      ],
      "text/plain": [
       "    Label  Crime_Rate  Community_Area                GEOG   HS_RATE  \\\n",
       "71      6    0.502303              26  West Garfield Park  0.632334   \n",
       "19      6    0.383683              27  East Garfield Park  0.676211   \n",
       "51      6    0.350840              29      North Lawndale  0.629832   \n",
       "68      6    0.377099              40     Washington Park  0.706870   \n",
       "76      6    0.228956              42            Woodlawn  0.714008   \n",
       "58      6    0.321468              54           Riverdale  0.617550   \n",
       "70      6    0.317384              67      West Englewood  0.679337   \n",
       "23      6    0.390983              68           Englewood  0.647942   \n",
       "\n",
       "    BACH_RATE  UNEMP_RATE  OWN_OCC_HU_RATE  MED_AGE_N  MEDINC_N  \n",
       "71   0.034767    0.178452         0.180865   0.293777  0.119737  \n",
       "19   0.109561    0.203072         0.187849   0.297945  0.107410  \n",
       "51   0.093318    0.233949         0.183501   0.285875  0.111917  \n",
       "68   0.148092    0.317697         0.119657   0.266263  0.110424  \n",
       "76   0.200125    0.227969         0.159656   0.308638  0.119928  \n",
       "58   0.041667    0.407990         0.073791   0.205975  0.074228  \n",
       "70   0.069378    0.347623         0.354163   0.346516  0.136997  \n",
       "23   0.054439    0.359956         0.175070   0.313922  0.099269  "
      ]
     },
     "execution_count": 64,
     "metadata": {},
     "output_type": "execute_result"
    }
   ],
   "source": [
    "# Further Analysis on features for Community Areas labeled as #1\n",
    "\n",
    "all_df = pd.concat([cluster_df, X], axis=1)\n",
    "l1_df = all_df[(all_df['Label'] == 6) ]\n",
    "l1_df.sort_values(by = 'Community_Area')"
   ]
  },
  {
   "cell_type": "code",
   "execution_count": 87,
   "metadata": {},
   "outputs": [
    {
     "data": {
      "text/html": [
       "<div>\n",
       "<style scoped>\n",
       "    .dataframe tbody tr th:only-of-type {\n",
       "        vertical-align: middle;\n",
       "    }\n",
       "\n",
       "    .dataframe tbody tr th {\n",
       "        vertical-align: top;\n",
       "    }\n",
       "\n",
       "    .dataframe thead th {\n",
       "        text-align: right;\n",
       "    }\n",
       "</style>\n",
       "<table border=\"1\" class=\"dataframe\">\n",
       "  <thead>\n",
       "    <tr style=\"text-align: right;\">\n",
       "      <th></th>\n",
       "      <th>Community_Area</th>\n",
       "      <th>GEOG</th>\n",
       "      <th>Crime_Rate</th>\n",
       "    </tr>\n",
       "  </thead>\n",
       "  <tbody>\n",
       "    <tr>\n",
       "      <th>71</th>\n",
       "      <td>26</td>\n",
       "      <td>West Garfield Park</td>\n",
       "      <td>0.502303</td>\n",
       "    </tr>\n",
       "    <tr>\n",
       "      <th>19</th>\n",
       "      <td>27</td>\n",
       "      <td>East Garfield Park</td>\n",
       "      <td>0.383683</td>\n",
       "    </tr>\n",
       "    <tr>\n",
       "      <th>51</th>\n",
       "      <td>29</td>\n",
       "      <td>North Lawndale</td>\n",
       "      <td>0.350840</td>\n",
       "    </tr>\n",
       "    <tr>\n",
       "      <th>68</th>\n",
       "      <td>40</td>\n",
       "      <td>Washington Park</td>\n",
       "      <td>0.377099</td>\n",
       "    </tr>\n",
       "    <tr>\n",
       "      <th>76</th>\n",
       "      <td>42</td>\n",
       "      <td>Woodlawn</td>\n",
       "      <td>0.228956</td>\n",
       "    </tr>\n",
       "    <tr>\n",
       "      <th>58</th>\n",
       "      <td>54</td>\n",
       "      <td>Riverdale</td>\n",
       "      <td>0.321468</td>\n",
       "    </tr>\n",
       "    <tr>\n",
       "      <th>70</th>\n",
       "      <td>67</td>\n",
       "      <td>West Englewood</td>\n",
       "      <td>0.317384</td>\n",
       "    </tr>\n",
       "    <tr>\n",
       "      <th>23</th>\n",
       "      <td>68</td>\n",
       "      <td>Englewood</td>\n",
       "      <td>0.390983</td>\n",
       "    </tr>\n",
       "  </tbody>\n",
       "</table>\n",
       "</div>"
      ],
      "text/plain": [
       "    Community_Area                GEOG  Crime_Rate\n",
       "71              26  West Garfield Park    0.502303\n",
       "19              27  East Garfield Park    0.383683\n",
       "51              29      North Lawndale    0.350840\n",
       "68              40     Washington Park    0.377099\n",
       "76              42            Woodlawn    0.228956\n",
       "58              54           Riverdale    0.321468\n",
       "70              67      West Englewood    0.317384\n",
       "23              68           Englewood    0.390983"
      ]
     },
     "execution_count": 87,
     "metadata": {},
     "output_type": "execute_result"
    }
   ],
   "source": [
    "l1_df[['Community_Area', 'GEOG', 'Crime_Rate']].sort_values(by = 'Community_Area')"
   ]
  },
  {
   "cell_type": "code",
   "execution_count": 65,
   "metadata": {},
   "outputs": [
    {
     "data": {
      "text/html": [
       "<div>\n",
       "<style scoped>\n",
       "    .dataframe tbody tr th:only-of-type {\n",
       "        vertical-align: middle;\n",
       "    }\n",
       "\n",
       "    .dataframe tbody tr th {\n",
       "        vertical-align: top;\n",
       "    }\n",
       "\n",
       "    .dataframe thead th {\n",
       "        text-align: right;\n",
       "    }\n",
       "</style>\n",
       "<table border=\"1\" class=\"dataframe\">\n",
       "  <thead>\n",
       "    <tr style=\"text-align: right;\">\n",
       "      <th></th>\n",
       "      <th>Label</th>\n",
       "      <th>Crime_Rate</th>\n",
       "      <th>Community_Area</th>\n",
       "      <th>HS_RATE</th>\n",
       "      <th>BACH_RATE</th>\n",
       "      <th>UNEMP_RATE</th>\n",
       "      <th>OWN_OCC_HU_RATE</th>\n",
       "      <th>MED_AGE_N</th>\n",
       "      <th>MEDINC_N</th>\n",
       "    </tr>\n",
       "  </thead>\n",
       "  <tbody>\n",
       "    <tr>\n",
       "      <th>count</th>\n",
       "      <td>8.0</td>\n",
       "      <td>8.000000</td>\n",
       "      <td>8.000000</td>\n",
       "      <td>8.000000</td>\n",
       "      <td>8.000000</td>\n",
       "      <td>8.000000</td>\n",
       "      <td>8.000000</td>\n",
       "      <td>8.000000</td>\n",
       "      <td>8.000000</td>\n",
       "    </tr>\n",
       "    <tr>\n",
       "      <th>mean</th>\n",
       "      <td>6.0</td>\n",
       "      <td>0.359090</td>\n",
       "      <td>44.125000</td>\n",
       "      <td>0.663010</td>\n",
       "      <td>0.093918</td>\n",
       "      <td>0.284589</td>\n",
       "      <td>0.179319</td>\n",
       "      <td>0.289864</td>\n",
       "      <td>0.109989</td>\n",
       "    </tr>\n",
       "    <tr>\n",
       "      <th>std</th>\n",
       "      <td>0.0</td>\n",
       "      <td>0.078024</td>\n",
       "      <td>17.166724</td>\n",
       "      <td>0.036451</td>\n",
       "      <td>0.057134</td>\n",
       "      <td>0.084226</td>\n",
       "      <td>0.080856</td>\n",
       "      <td>0.041112</td>\n",
       "      <td>0.018235</td>\n",
       "    </tr>\n",
       "    <tr>\n",
       "      <th>min</th>\n",
       "      <td>6.0</td>\n",
       "      <td>0.228956</td>\n",
       "      <td>26.000000</td>\n",
       "      <td>0.617550</td>\n",
       "      <td>0.034767</td>\n",
       "      <td>0.178452</td>\n",
       "      <td>0.073791</td>\n",
       "      <td>0.205975</td>\n",
       "      <td>0.074228</td>\n",
       "    </tr>\n",
       "    <tr>\n",
       "      <th>25%</th>\n",
       "      <td>6.0</td>\n",
       "      <td>0.320447</td>\n",
       "      <td>28.500000</td>\n",
       "      <td>0.631708</td>\n",
       "      <td>0.051246</td>\n",
       "      <td>0.221745</td>\n",
       "      <td>0.149656</td>\n",
       "      <td>0.280972</td>\n",
       "      <td>0.105374</td>\n",
       "    </tr>\n",
       "    <tr>\n",
       "      <th>50%</th>\n",
       "      <td>6.0</td>\n",
       "      <td>0.363969</td>\n",
       "      <td>41.000000</td>\n",
       "      <td>0.662076</td>\n",
       "      <td>0.081348</td>\n",
       "      <td>0.275823</td>\n",
       "      <td>0.177968</td>\n",
       "      <td>0.295861</td>\n",
       "      <td>0.111171</td>\n",
       "    </tr>\n",
       "    <tr>\n",
       "      <th>75%</th>\n",
       "      <td>6.0</td>\n",
       "      <td>0.385508</td>\n",
       "      <td>57.250000</td>\n",
       "      <td>0.686220</td>\n",
       "      <td>0.119194</td>\n",
       "      <td>0.350706</td>\n",
       "      <td>0.184588</td>\n",
       "      <td>0.309959</td>\n",
       "      <td>0.119785</td>\n",
       "    </tr>\n",
       "    <tr>\n",
       "      <th>max</th>\n",
       "      <td>6.0</td>\n",
       "      <td>0.502303</td>\n",
       "      <td>68.000000</td>\n",
       "      <td>0.714008</td>\n",
       "      <td>0.200125</td>\n",
       "      <td>0.407990</td>\n",
       "      <td>0.354163</td>\n",
       "      <td>0.346516</td>\n",
       "      <td>0.136997</td>\n",
       "    </tr>\n",
       "  </tbody>\n",
       "</table>\n",
       "</div>"
      ],
      "text/plain": [
       "       Label  Crime_Rate  Community_Area   HS_RATE  BACH_RATE  UNEMP_RATE  \\\n",
       "count    8.0    8.000000        8.000000  8.000000   8.000000    8.000000   \n",
       "mean     6.0    0.359090       44.125000  0.663010   0.093918    0.284589   \n",
       "std      0.0    0.078024       17.166724  0.036451   0.057134    0.084226   \n",
       "min      6.0    0.228956       26.000000  0.617550   0.034767    0.178452   \n",
       "25%      6.0    0.320447       28.500000  0.631708   0.051246    0.221745   \n",
       "50%      6.0    0.363969       41.000000  0.662076   0.081348    0.275823   \n",
       "75%      6.0    0.385508       57.250000  0.686220   0.119194    0.350706   \n",
       "max      6.0    0.502303       68.000000  0.714008   0.200125    0.407990   \n",
       "\n",
       "       OWN_OCC_HU_RATE  MED_AGE_N  MEDINC_N  \n",
       "count         8.000000   8.000000  8.000000  \n",
       "mean          0.179319   0.289864  0.109989  \n",
       "std           0.080856   0.041112  0.018235  \n",
       "min           0.073791   0.205975  0.074228  \n",
       "25%           0.149656   0.280972  0.105374  \n",
       "50%           0.177968   0.295861  0.111171  \n",
       "75%           0.184588   0.309959  0.119785  \n",
       "max           0.354163   0.346516  0.136997  "
      ]
     },
     "execution_count": 65,
     "metadata": {},
     "output_type": "execute_result"
    }
   ],
   "source": [
    "# Statistics for Community Areas labeled as #1\n",
    "l1_df.describe()"
   ]
  },
  {
   "cell_type": "code",
   "execution_count": 66,
   "metadata": {},
   "outputs": [
    {
     "data": {
      "text/html": [
       "<div>\n",
       "<style scoped>\n",
       "    .dataframe tbody tr th:only-of-type {\n",
       "        vertical-align: middle;\n",
       "    }\n",
       "\n",
       "    .dataframe tbody tr th {\n",
       "        vertical-align: top;\n",
       "    }\n",
       "\n",
       "    .dataframe thead th {\n",
       "        text-align: right;\n",
       "    }\n",
       "</style>\n",
       "<table border=\"1\" class=\"dataframe\">\n",
       "  <thead>\n",
       "    <tr style=\"text-align: right;\">\n",
       "      <th></th>\n",
       "      <th>Label</th>\n",
       "      <th>Crime_Rate</th>\n",
       "      <th>Community_Area</th>\n",
       "      <th>HS_RATE</th>\n",
       "      <th>BACH_RATE</th>\n",
       "      <th>UNEMP_RATE</th>\n",
       "      <th>OWN_OCC_HU_RATE</th>\n",
       "      <th>MED_AGE_N</th>\n",
       "      <th>MEDINC_N</th>\n",
       "    </tr>\n",
       "  </thead>\n",
       "  <tbody>\n",
       "    <tr>\n",
       "      <th>count</th>\n",
       "      <td>77.000000</td>\n",
       "      <td>77.000000</td>\n",
       "      <td>77.000000</td>\n",
       "      <td>77.000000</td>\n",
       "      <td>77.000000</td>\n",
       "      <td>77.000000</td>\n",
       "      <td>77.000000</td>\n",
       "      <td>77.000000</td>\n",
       "      <td>77.000000</td>\n",
       "    </tr>\n",
       "    <tr>\n",
       "      <th>mean</th>\n",
       "      <td>2.844156</td>\n",
       "      <td>0.145176</td>\n",
       "      <td>39.000000</td>\n",
       "      <td>0.729561</td>\n",
       "      <td>0.263865</td>\n",
       "      <td>0.149045</td>\n",
       "      <td>0.415369</td>\n",
       "      <td>0.350922</td>\n",
       "      <td>0.235841</td>\n",
       "    </tr>\n",
       "    <tr>\n",
       "      <th>std</th>\n",
       "      <td>2.109284</td>\n",
       "      <td>0.105314</td>\n",
       "      <td>22.371857</td>\n",
       "      <td>0.108566</td>\n",
       "      <td>0.190725</td>\n",
       "      <td>0.082832</td>\n",
       "      <td>0.185821</td>\n",
       "      <td>0.048218</td>\n",
       "      <td>0.105358</td>\n",
       "    </tr>\n",
       "    <tr>\n",
       "      <th>min</th>\n",
       "      <td>0.000000</td>\n",
       "      <td>0.028793</td>\n",
       "      <td>1.000000</td>\n",
       "      <td>0.419851</td>\n",
       "      <td>0.034767</td>\n",
       "      <td>0.036669</td>\n",
       "      <td>0.073791</td>\n",
       "      <td>0.205975</td>\n",
       "      <td>0.074228</td>\n",
       "    </tr>\n",
       "    <tr>\n",
       "      <th>25%</th>\n",
       "      <td>1.000000</td>\n",
       "      <td>0.068223</td>\n",
       "      <td>20.000000</td>\n",
       "      <td>0.647942</td>\n",
       "      <td>0.109592</td>\n",
       "      <td>0.087322</td>\n",
       "      <td>0.300247</td>\n",
       "      <td>0.313922</td>\n",
       "      <td>0.153503</td>\n",
       "    </tr>\n",
       "    <tr>\n",
       "      <th>50%</th>\n",
       "      <td>3.000000</td>\n",
       "      <td>0.096950</td>\n",
       "      <td>39.000000</td>\n",
       "      <td>0.748816</td>\n",
       "      <td>0.200800</td>\n",
       "      <td>0.131582</td>\n",
       "      <td>0.367214</td>\n",
       "      <td>0.347002</td>\n",
       "      <td>0.217105</td>\n",
       "    </tr>\n",
       "    <tr>\n",
       "      <th>75%</th>\n",
       "      <td>5.000000</td>\n",
       "      <td>0.205405</td>\n",
       "      <td>58.000000</td>\n",
       "      <td>0.815355</td>\n",
       "      <td>0.360272</td>\n",
       "      <td>0.214679</td>\n",
       "      <td>0.521871</td>\n",
       "      <td>0.379344</td>\n",
       "      <td>0.298687</td>\n",
       "    </tr>\n",
       "    <tr>\n",
       "      <th>max</th>\n",
       "      <td>6.000000</td>\n",
       "      <td>0.502303</td>\n",
       "      <td>77.000000</td>\n",
       "      <td>0.904365</td>\n",
       "      <td>0.722836</td>\n",
       "      <td>0.407990</td>\n",
       "      <td>0.831542</td>\n",
       "      <td>0.467294</td>\n",
       "      <td>0.507793</td>\n",
       "    </tr>\n",
       "  </tbody>\n",
       "</table>\n",
       "</div>"
      ],
      "text/plain": [
       "           Label  Crime_Rate  Community_Area    HS_RATE  BACH_RATE  \\\n",
       "count  77.000000   77.000000       77.000000  77.000000  77.000000   \n",
       "mean    2.844156    0.145176       39.000000   0.729561   0.263865   \n",
       "std     2.109284    0.105314       22.371857   0.108566   0.190725   \n",
       "min     0.000000    0.028793        1.000000   0.419851   0.034767   \n",
       "25%     1.000000    0.068223       20.000000   0.647942   0.109592   \n",
       "50%     3.000000    0.096950       39.000000   0.748816   0.200800   \n",
       "75%     5.000000    0.205405       58.000000   0.815355   0.360272   \n",
       "max     6.000000    0.502303       77.000000   0.904365   0.722836   \n",
       "\n",
       "       UNEMP_RATE  OWN_OCC_HU_RATE  MED_AGE_N   MEDINC_N  \n",
       "count   77.000000        77.000000  77.000000  77.000000  \n",
       "mean     0.149045         0.415369   0.350922   0.235841  \n",
       "std      0.082832         0.185821   0.048218   0.105358  \n",
       "min      0.036669         0.073791   0.205975   0.074228  \n",
       "25%      0.087322         0.300247   0.313922   0.153503  \n",
       "50%      0.131582         0.367214   0.347002   0.217105  \n",
       "75%      0.214679         0.521871   0.379344   0.298687  \n",
       "max      0.407990         0.831542   0.467294   0.507793  "
      ]
     },
     "execution_count": 66,
     "metadata": {},
     "output_type": "execute_result"
    }
   ],
   "source": [
    "# Statistics for Community Areas \n",
    "all_df.describe()"
   ]
  },
  {
   "cell_type": "code",
   "execution_count": 71,
   "metadata": {},
   "outputs": [],
   "source": [
    "# Compare average rate for all features and crime rate between all Community Areas and Label #1 Community Areas\n",
    "mean_l1 = l1_df.mean()\n",
    "mean_all = all_df.mean()\n",
    "mean_df = pd.DataFrame({ 'Label #6 Communities':mean_l1, 'All Communities':mean_all})\n",
    "mean_df = mean_df.drop(mean_df.index[[0,2]]) # drop rows for Lable and Community Area IDs"
   ]
  },
  {
   "cell_type": "code",
   "execution_count": 72,
   "metadata": {},
   "outputs": [
    {
     "data": {
      "image/png": "[encoded data removed]",
      "text/plain": [
       "<Figure size 432x288 with 1 Axes>"
      ]
     },
     "metadata": {},
     "output_type": "display_data"
    }
   ],
   "source": [
    "# Plot the average crime rate and average values for relevant features\n",
    "plt.plot(range(len(mean_df.index)), mean_df['Label #6 Communities'], 'rx')\n",
    "plt.plot(range(len(mean_df.index)), mean_df['All Communities'], 'ko')\n",
    "plt.xticks(range(len(mean_df.index)), mean_df.index.values, rotation=60)\n",
    "plt.legend( loc = 'upper right')\n",
    "plt.title('Average Rate Comparison')\n",
    "#plt.xlabel(\"Various Rates\")\n",
    "plt.ylabel(\"Rate\")\n",
    "plt.grid()\n",
    "plt.show()"
   ]
  },
  {
   "cell_type": "markdown",
   "metadata": {},
   "source": [
    "#### Observations:\n",
    "\n",
    "- By comparing the features between the Community Areas labeled as #6 and all of Community Areas, we can conclude the following:\n",
    "    --For the features of High School Diploma or Higher Rate, Bachelor Degree or Higher Rate, House/Apartment Owning Rate, Median Income, the Community Areas labeled as #6 have lower average values than for all of Community Areas;\n",
    "    --For the features of Unemployment Rate, the Community Areas labeled as #6 have much higher average values than for all of Community Areas;\n",
    "    --The Community Areas labeled as #6 have younger median age than that for all of Community Areas."
   ]
  }
 ],
 "metadata": {
  "kernelspec": {
   "display_name": "Python 3",
   "language": "python",
   "name": "python3"
  },
  "language_info": {
   "codemirror_mode": {
    "name": "ipython",
    "version": 3
   },
   "file_extension": ".py",
   "mimetype": "text/x-python",
   "name": "python",
   "nbconvert_exporter": "python",
   "pygments_lexer": "ipython3",
   "version": "3.6.5"
  }
 },
 "nbformat": 4,
 "nbformat_minor": 2
}
